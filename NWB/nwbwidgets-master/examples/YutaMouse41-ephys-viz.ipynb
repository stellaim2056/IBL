{
 "cells": [
  {
   "cell_type": "markdown",
   "metadata": {},
   "source": [
    "## YutaMouse41-ephys-viz\n",
    "\n",
    "To use this notebook you will need to install the ephys_viz package.\n",
    "\n",
    "Roughly speaking that involves installing ephys_viz from PyPI and installing the reactpoya_jup notebook and/or lab extensions.\n",
    "\n",
    "See: https://github.com/flatironinstitute/ephys-viz"
   ]
  },
  {
   "cell_type": "code",
   "execution_count": null,
   "metadata": {},
   "outputs": [],
   "source": [
    "# Imports and initialization of ephys-viz in this notebook\n",
    "import pynwb\n",
    "from pynwb import NWBHDF5IO\n",
    "from nwbwidgets import nwb2widget\n",
    "import ephys_viz as ev\n",
    "from nwbwidgets.ephys_viz_interface import ephys_viz_neurodata_vis_spec as vis_spec\n",
    "ev.init_jupyter()"
   ]
  },
  {
   "cell_type": "code",
   "execution_count": null,
   "metadata": {},
   "outputs": [],
   "source": [
    "# You need to have an .nwb file on your computer\n",
    "file_name = 'YutaMouse41-150903.nwb'"
   ]
  },
  {
   "cell_type": "code",
   "execution_count": null,
   "metadata": {},
   "outputs": [],
   "source": [
    "# Lazy-load the nwb file\n",
    "nwb_io = NWBHDF5IO(file_name, mode='r')\n",
    "nwb = nwb_io.read()"
   ]
  },
  {
   "cell_type": "code",
   "execution_count": null,
   "metadata": {},
   "outputs": [],
   "source": [
    "# Display the LFP using ephys-viz\n",
    "nwb2widget(nwb.fields['processing']['ecephys']['LFP'], vis_spec)"
   ]
  },
  {
   "cell_type": "code",
   "execution_count": null,
   "metadata": {},
   "outputs": [],
   "source": [
    "# The ephys-viz widget is integrated into nwbwidgets\n",
    "nwb2widget(nwb, vis_spec)"
   ]
  },
  {
   "cell_type": "code",
   "execution_count": null,
   "metadata": {},
   "outputs": [],
   "source": []
  }
 ],
 "metadata": {
  "kernelspec": {
   "display_name": "Python 3",
   "language": "python",
   "name": "python3"
  },
  "language_info": {
   "codemirror_mode": {
    "name": "ipython",
    "version": 3
   },
   "file_extension": ".py",
   "mimetype": "text/x-python",
   "name": "python",
   "nbconvert_exporter": "python",
   "pygments_lexer": "ipython3",
   "version": "3.6.8"
  }
 },
 "nbformat": 4,
 "nbformat_minor": 4
}
