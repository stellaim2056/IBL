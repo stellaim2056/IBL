{
  "cells": [
    {
      "cell_type": "code",
      "execution_count": 1,
      "metadata": {
        "id": "rsBQoig8YoOr"
      },
      "outputs": [
        {
          "name": "stdout",
          "output_type": "stream",
          "text": [
            "No. of detected sessions: 29\n",
            "\n",
            "['6899a67d-2e53-4215-a52a-c7021b5da5d4',\n",
            " 'ca4ecb4c-4b60-4723-9b9e-2c54a6290a53',\n",
            " '642c97ea-fe89-4ec9-8629-5e492ea4019d',\n",
            " '2584ce3c-db10-4076-89cb-5d313138dd38',\n",
            " '0cf6d255-8f2f-463e-84fb-c54bacb79f51']\n",
            "\n",
            "session_path: C:\\Users\\stell\\Downloads\\ONE\\openalyx.internationalbrainlab.org\\churchlandlab_ucla\\Subjects\\MFD_05\\2023-08-16\\001\n",
            "\n",
            "['alf/_ibl_leftCamera.dlc.pqt',\n",
            " 'alf/_ibl_leftCamera.features.pqt',\n",
            " 'alf/_ibl_leftCamera.lightningPose.pqt',\n",
            " 'alf/_ibl_leftCamera.times.npy',\n",
            " 'alf/_ibl_rightCamera.dlc.pqt',\n",
            " 'alf/_ibl_rightCamera.features.pqt',\n",
            " 'alf/_ibl_rightCamera.times.npy',\n",
            " 'alf/_ibl_trials.goCueTrigger_times.npy',\n",
            " 'alf/_ibl_trials.stimOff_times.npy',\n",
            " 'alf/_ibl_trials.table.pqt',\n",
            " 'alf/_ibl_wheel.position.npy',\n",
            " 'alf/_ibl_wheel.timestamps.npy',\n",
            " 'alf/_ibl_wheelMoves.intervals.npy',\n",
            " 'alf/_ibl_wheelMoves.peakAmplitude.npy',\n",
            " 'alf/leftCamera.ROIMotionEnergy.npy',\n",
            " 'alf/leftROIMotionEnergy.position.npy',\n",
            " 'alf/licks.times.npy',\n",
            " 'alf/probe00/electrodeSites.brainLocationIds_ccf_2017.npy',\n",
            " 'alf/probe00/electrodeSites.localCoordinates.npy',\n",
            " 'alf/probe00/electrodeSites.mlapdv.npy',\n",
            " 'alf/probe00/pykilosort/#2024-03-22#/_kilosort_whitening.matrix.npy',\n",
            " 'alf/probe00/pykilosort/#2024-03-22#/channels.localCoordinates.npy',\n",
            " 'alf/probe00/pykilosort/#2024-03-22#/channels.rawInd.npy',\n",
            " 'alf/probe00/pykilosort/#2024-03-22#/clusters.amps.npy',\n",
            " 'alf/probe00/pykilosort/#2024-03-22#/clusters.channels.npy',\n",
            " 'alf/probe00/pykilosort/#2024-03-22#/clusters.depths.npy',\n",
            " 'alf/probe00/pykilosort/#2024-03-22#/clusters.metrics.pqt',\n",
            " 'alf/probe00/pykilosort/#2024-03-22#/clusters.peakToTrough.npy',\n",
            " 'alf/probe00/pykilosort/#2024-03-22#/clusters.uuids.csv',\n",
            " 'alf/probe00/pykilosort/#2024-03-22#/clusters.waveforms.npy',\n",
            " 'alf/probe00/pykilosort/#2024-03-22#/clusters.waveformsChannels.npy',\n",
            " 'alf/probe00/pykilosort/#2024-03-22#/drift.times.npy',\n",
            " 'alf/probe00/pykilosort/#2024-03-22#/drift.um.npy',\n",
            " 'alf/probe00/pykilosort/#2024-03-22#/drift_depths.um.npy',\n",
            " 'alf/probe00/pykilosort/#2024-03-22#/spikes.amps.npy',\n",
            " 'alf/probe00/pykilosort/#2024-03-22#/spikes.clusters.npy',\n",
            " 'alf/probe00/pykilosort/#2024-03-22#/spikes.depths.npy',\n",
            " 'alf/probe00/pykilosort/#2024-03-22#/spikes.samples.npy',\n",
            " 'alf/probe00/pykilosort/#2024-03-22#/spikes.templates.npy',\n",
            " 'alf/probe00/pykilosort/#2024-03-22#/spikes.times.npy',\n",
            " 'alf/probe00/pykilosort/#2024-03-22#/templates.amps.npy',\n",
            " 'alf/probe00/pykilosort/#2024-03-22#/templates.waveforms.npy',\n",
            " 'alf/probe00/pykilosort/#2024-03-22#/templates.waveformsChannels.npy',\n",
            " 'alf/probe00/pykilosort/#2024-05-06#/_ibl_log.info_pykilosort.log',\n",
            " 'alf/probe00/pykilosort/#2024-05-06#/_kilosort_whitening.matrix.npy',\n",
            " 'alf/probe00/pykilosort/#2024-05-06#/_phy_spikes_subset.channels.npy',\n",
            " 'alf/probe00/pykilosort/#2024-05-06#/_phy_spikes_subset.spikes.npy',\n",
            " 'alf/probe00/pykilosort/#2024-05-06#/_phy_spikes_subset.waveforms.npy',\n",
            " 'alf/probe00/pykilosort/#2024-05-06#/channels.brainLocationIds_ccf_2017.npy',\n",
            " 'alf/probe00/pykilosort/#2024-05-06#/channels.labels.npy',\n",
            " 'alf/probe00/pykilosort/#2024-05-06#/channels.localCoordinates.npy',\n",
            " 'alf/probe00/pykilosort/#2024-05-06#/channels.mlapdv.npy',\n",
            " 'alf/probe00/pykilosort/#2024-05-06#/channels.rawInd.npy',\n",
            " 'alf/probe00/pykilosort/#2024-05-06#/clusters.amps.npy',\n",
            " 'alf/probe00/pykilosort/#2024-05-06#/clusters.channels.npy',\n",
            " 'alf/probe00/pykilosort/#2024-05-06#/clusters.depths.npy',\n",
            " 'alf/probe00/pykilosort/#2024-05-06#/clusters.metrics.pqt',\n",
            " 'alf/probe00/pykilosort/#2024-05-06#/clusters.peakToTrough.npy',\n",
            " 'alf/probe00/pykilosort/#2024-05-06#/clusters.uuids.csv',\n",
            " 'alf/probe00/pykilosort/#2024-05-06#/clusters.waveforms.npy',\n",
            " 'alf/probe00/pykilosort/#2024-05-06#/clusters.waveformsChannels.npy',\n",
            " 'alf/probe00/pykilosort/#2024-05-06#/drift.times.npy',\n",
            " 'alf/probe00/pykilosort/#2024-05-06#/drift.um.npy',\n",
            " 'alf/probe00/pykilosort/#2024-05-06#/drift_depths.um.npy',\n",
            " 'alf/probe00/pykilosort/#2024-05-06#/passingSpikes.table.pqt',\n",
            " 'alf/probe00/pykilosort/#2024-05-06#/spikes.amps.npy',\n",
            " 'alf/probe00/pykilosort/#2024-05-06#/spikes.clusters.npy',\n",
            " 'alf/probe00/pykilosort/#2024-05-06#/spikes.depths.npy',\n",
            " 'alf/probe00/pykilosort/#2024-05-06#/spikes.samples.npy',\n",
            " 'alf/probe00/pykilosort/#2024-05-06#/spikes.templates.npy',\n",
            " 'alf/probe00/pykilosort/#2024-05-06#/spikes.times.npy',\n",
            " 'alf/probe00/pykilosort/#2024-05-06#/templates.amps.npy',\n",
            " 'alf/probe00/pykilosort/#2024-05-06#/templates.waveforms.npy',\n",
            " 'alf/probe00/pykilosort/#2024-05-06#/templates.waveformsChannels.npy',\n",
            " 'alf/probe00/pykilosort/#2024-05-06#/waveforms.channels.npz',\n",
            " 'alf/probe00/pykilosort/#2024-05-06#/waveforms.table.pqt',\n",
            " 'alf/probe00/pykilosort/#2024-05-06#/waveforms.templates.npy',\n",
            " 'alf/probe00/pykilosort/#2024-05-06#/waveforms.traces.npy',\n",
            " 'alf/probe00/pykilosort/_ibl_log.info_pykilosort.log',\n",
            " 'alf/probe00/pykilosort/_kilosort_whitening.matrix.npy',\n",
            " 'alf/probe00/pykilosort/_phy_spikes_subset.channels.npy',\n",
            " 'alf/probe00/pykilosort/_phy_spikes_subset.spikes.npy',\n",
            " 'alf/probe00/pykilosort/_phy_spikes_subset.waveforms.npy',\n",
            " 'alf/probe00/pykilosort/channels.brainLocationIds_ccf_2017.npy',\n",
            " 'alf/probe00/pykilosort/channels.localCoordinates.npy',\n",
            " 'alf/probe00/pykilosort/channels.mlapdv.npy',\n",
            " 'alf/probe00/pykilosort/channels.rawInd.npy',\n",
            " 'alf/probe00/pykilosort/clusters.amps.npy',\n",
            " 'alf/probe00/pykilosort/clusters.channels.npy',\n",
            " 'alf/probe00/pykilosort/clusters.depths.npy',\n",
            " 'alf/probe00/pykilosort/clusters.metrics.pqt',\n",
            " 'alf/probe00/pykilosort/clusters.peakToTrough.npy',\n",
            " 'alf/probe00/pykilosort/clusters.uuids.csv',\n",
            " 'alf/probe00/pykilosort/clusters.waveforms.npy',\n",
            " 'alf/probe00/pykilosort/clusters.waveformsChannels.npy',\n",
            " 'alf/probe00/pykilosort/drift.times.npy',\n",
            " 'alf/probe00/pykilosort/drift.um.npy',\n",
            " 'alf/probe00/pykilosort/drift_depths.um.npy',\n",
            " 'alf/probe00/pykilosort/spikes.amps.npy',\n",
            " 'alf/probe00/pykilosort/spikes.clusters.npy',\n",
            " 'alf/probe00/pykilosort/spikes.depths.npy',\n",
            " 'alf/probe00/pykilosort/spikes.samples.npy',\n",
            " 'alf/probe00/pykilosort/spikes.templates.npy',\n",
            " 'alf/probe00/pykilosort/spikes.times.npy',\n",
            " 'alf/probe00/pykilosort/templates.amps.npy',\n",
            " 'alf/probe00/pykilosort/templates.waveforms.npy',\n",
            " 'alf/probe00/pykilosort/templates.waveformsChannels.npy',\n",
            " 'alf/probes.description.json',\n",
            " 'alf/rightCamera.ROIMotionEnergy.npy',\n",
            " 'alf/rightROIMotionEnergy.position.npy',\n",
            " 'raw_ephys_data/_spikeglx_ephysData_g0_t0.nidq.cbin',\n",
            " 'raw_ephys_data/_spikeglx_ephysData_g0_t0.nidq.ch',\n",
            " 'raw_ephys_data/_spikeglx_ephysData_g0_t0.nidq.meta',\n",
            " 'raw_ephys_data/_spikeglx_ephysData_g0_t0.nidq.wiring.json',\n",
            " 'raw_ephys_data/_spikeglx_sync.channels.npy',\n",
            " 'raw_ephys_data/_spikeglx_sync.polarities.npy',\n",
            " 'raw_ephys_data/_spikeglx_sync.times.npy',\n",
            " 'raw_ephys_data/probe00/_iblqc_ephysChannels.apRMS.npy',\n",
            " 'raw_ephys_data/probe00/_iblqc_ephysChannels.labels.npy',\n",
            " 'raw_ephys_data/probe00/_iblqc_ephysChannels.rawSpikeRates.npy',\n",
            " 'raw_ephys_data/probe00/_iblqc_ephysSpectralDensityAP.freqs.npy',\n",
            " 'raw_ephys_data/probe00/_iblqc_ephysSpectralDensityAP.power.npy',\n",
            " 'raw_ephys_data/probe00/_iblqc_ephysSpectralDensityLF.freqs.npy',\n",
            " 'raw_ephys_data/probe00/_iblqc_ephysSpectralDensityLF.power.npy',\n",
            " 'raw_ephys_data/probe00/_iblqc_ephysTimeRmsLF.rms.npy',\n",
            " 'raw_ephys_data/probe00/_iblqc_ephysTimeRmsLF.timestamps.npy',\n",
            " 'raw_ephys_data/probe00/_spikeglx_ephysData_g0_t0.imec0.ap.cbin',\n",
            " 'raw_ephys_data/probe00/_spikeglx_ephysData_g0_t0.imec0.ap.ch',\n",
            " 'raw_ephys_data/probe00/_spikeglx_ephysData_g0_t0.imec0.ap.meta',\n",
            " 'raw_ephys_data/probe00/_spikeglx_ephysData_g0_t0.imec0.lf.cbin',\n",
            " 'raw_ephys_data/probe00/_spikeglx_ephysData_g0_t0.imec0.lf.ch',\n",
            " 'raw_ephys_data/probe00/_spikeglx_ephysData_g0_t0.imec0.lf.meta',\n",
            " 'raw_ephys_data/probe00/_spikeglx_ephysData_g0_t0.imec0.sync.npy',\n",
            " 'raw_ephys_data/probe00/_spikeglx_ephysData_g0_t0.imec0.timestamps.npy',\n",
            " 'raw_ephys_data/probe00/_spikeglx_ephysData_g0_t0.imec0.wiring.json',\n",
            " 'raw_ephys_data/probe00/_spikeglx_sync.channels.probe00.npy',\n",
            " 'raw_ephys_data/probe00/_spikeglx_sync.polarities.probe00.npy',\n",
            " 'raw_ephys_data/probe00/_spikeglx_sync.times.probe00.npy',\n",
            " 'raw_video_data/_iblrig_leftCamera.raw.mp4',\n",
            " 'raw_video_data/_iblrig_rightCamera.raw.mp4']\n",
            "\n",
            "Description of trial_table:\n",
            "A table of trial events, one per trial. Events include: intervals, goCue_times, response_times, choice, stimOn_times, contrastLeft, contrastRight, feedback_times, feedbackType, rewardVolume, probabilityLeft, firstMovement_times\n",
            "\n",
            " ['alf/probe00/pykilosort', 'alf', 'raw_ephys_data/probe00', 'raw_ephys_data', 'raw_video_data', 'alf/probe00']\n"
          ]
        }
      ],
      "source": [
        "import numpy as np\n",
        "\n",
        "from one.api import ONE\n",
        "one = ONE()\n",
        "brain_acronym = 'VISp1'\n",
        "\n",
        "# query sessions endpoint\n",
        "sessions = one.search(atlas_acronym=brain_acronym, query_type='remote')\n",
        "print(f'No. of detected sessions: {len(sessions)}\\n')\n",
        "\n",
        "# Print the first 5 eids\n",
        "from pprint import pprint  # Print larger lists more clearly\n",
        "pprint(sessions[:5])\n",
        "\n",
        "eid = 'ca4ecb4c-4b60-4723-9b9e-2c54a6290a53'\n",
        "pid = '92822789-608f-44a6-ad64-fe549402b2df'\n",
        "eid, pname = one.pid2eid(pid)\n",
        "\n",
        "session_path = one.eid2path(eid)\n",
        "print(f'\\nsession_path: {session_path}\\n')\n",
        "\n",
        "datasets = one.list_datasets(eid) # List all datasets in a session\n",
        "pprint(datasets[0:])\n",
        "\n",
        "print('\\nDescription of trial_table:')\n",
        "one.describe_dataset('trials.table'); # Describe a dataset\n",
        "\n",
        "collections = one.list_collections(eid) # List all collections in a session\n",
        "print('\\n', collections)"
      ]
    },
    {
      "cell_type": "markdown",
      "metadata": {
        "id": "RhNJG4Gn2c8u"
      },
      "source": [
        "\n",
        "\n",
        "---\n",
        "\n",
        "\n",
        "⚡ **INFORMATION:** Most datasets are also described in this [Google Document](https://docs.google.com/document/d/1OqIqqakPakHXRAwceYLwFY9gOrm8_P62XIfCTnHwstg/edit#heading=h.hnjqyfnroyya)\n",
        "\n",
        "\n",
        "---\n",
        "\n"
      ]
    },
    {
      "cell_type": "code",
      "execution_count": 2,
      "metadata": {
        "id": "Gcxuyt4qIbz0"
      },
      "outputs": [
        {
          "name": "stdout",
          "output_type": "stream",
          "text": [
            "Spike times: [0.01101179 0.01134513 0.01264512 0.01431178 0.01491178]\n",
            "Spikes: [1.44502964e-04 8.48069590e-05 8.93127257e-05 1.07139996e-04\n",
            " 1.44929477e-04]\n"
          ]
        }
      ],
      "source": [
        "# Download and load the spikes times for probe00\n",
        "spike_times = one.load_dataset(eid, 'spikes.times.npy', collection='alf/probe00/pykilosort')\n",
        "print(f'Spike times: {spike_times[:5]}')\n",
        "\n",
        "spikes = one.load_dataset(eid, 'spikes.amps.npy', collection='alf/probe00/pykilosort')\n",
        "print(f'Spikes: {spikes[:5]}')"
      ]
    },
    {
      "cell_type": "code",
      "execution_count": 3,
      "metadata": {
        "colab": {
          "base_uri": "https://localhost:8080/"
        },
        "id": "9fDFfJrtJV2y",
        "outputId": "976cf51b-e290-4044-d398-84de8b62b1bd"
      },
      "outputs": [
        {
          "name": "stdout",
          "output_type": "stream",
          "text": [
            "keys of spikes :  ['amps', 'clusters', 'depths', 'samples', 'templates', 'times']\n",
            "keys of clusters :  ['amps', 'channels', 'depths', 'metrics', 'peakToTrough', 'uuids', 'waveforms', 'waveformsChannels']\n"
          ]
        },
        {
          "name": "stderr",
          "output_type": "stream",
          "text": [
            "c:\\Users\\stell\\anaconda3\\envs\\iblenv\\lib\\site-packages\\one\\util.py:543: ALFWarning: Multiple revisions: \"\", \"2024-05-06\"\n",
            "  warnings.warn(f'Multiple revisions: {rev_list}', alferr.ALFWarning)\n"
          ]
        },
        {
          "name": "stdout",
          "output_type": "stream",
          "text": [
            "keys of channels :  ['brainLocationIds_ccf_2017', 'labels', 'localCoordinates', 'mlapdv', 'rawInd']\n"
          ]
        },
        {
          "name": "stderr",
          "output_type": "stream",
          "text": [
            "100%|██████████| 11/11.0 [00:03<00:00,  3.28it/s]\n",
            "Inconsistent dimensions for object: waveforms \n",
            "(1117, 256, 40, 128),\ttraces\n",
            "(1117, 40, 128),\ttemplates\n",
            "(285952,),\tindex\n",
            "(285952,),\tsample\n",
            "(285952,),\tcluster\n",
            "(285952,),\tpeak_channel\n"
          ]
        },
        {
          "name": "stdout",
          "output_type": "stream",
          "text": [
            "keys of waveforms :  ['traces', 'channels', 'templates', 'index', 'sample', 'cluster', 'peak_channel']\n",
            "keys of templates :  ['amps', 'waveforms', 'waveformsChannels']\n",
            "keys of trials :  ['goCueTrigger_times', 'stimOff_times', 'goCue_times', 'response_times', 'choice', 'stimOn_times', 'contrastLeft', 'contrastRight', 'probabilityLeft', 'feedback_times', 'feedbackType', 'rewardVolume', 'firstMovement_times', 'intervals']\n"
          ]
        }
      ],
      "source": [
        "# Download and load in the objects for probe00\n",
        "spikes = one.load_object(eid, 'spikes', collection=f'alf/{pname}/pykilosort') # ssl.load_spike_sorting()\n",
        "print('keys of spikes : ', list(spikes.keys()))\n",
        "\n",
        "clusters = one.load_object(eid, 'clusters', collection=f'alf/{pname}/pykilosort') # ssl.load_spike_sorting()\n",
        "print('keys of clusters : ', list(clusters.keys()))\n",
        "\n",
        "channels = one.load_object(eid, 'channels', collection=f'alf/{pname}/pykilosort') # ssl.load_spike_sorting()\n",
        "print('keys of channels : ', list(channels.keys()))\n",
        "\n",
        "waveforms = one.load_object(eid, 'waveforms', collection=f'alf/{pname}/pykilosort')\n",
        "print('keys of waveforms : ', list(waveforms.keys()))\n",
        "\n",
        "templates = one.load_object(eid, 'templates', collection=f'alf/{pname}/pykilosort')\n",
        "print('keys of templates : ', list(templates.keys()))\n",
        "\n",
        "trials = one.load_object(eid, 'trials')\n",
        "print('keys of trials : ', list(trials.keys()))"
      ]
    },
    {
      "cell_type": "code",
      "execution_count": 4,
      "metadata": {
        "id": "zTz5utYvQhB7"
      },
      "outputs": [
        {
          "name": "stdout",
          "output_type": "stream",
          "text": [
            "Keys in trials data:\n",
            "\n",
            "   Index(['goCueTrigger_times', 'stimOff_times', 'goCue_times', 'response_times',\n",
            "       'choice', 'stimOn_times', 'contrastLeft', 'contrastRight',\n",
            "       'probabilityLeft', 'feedback_times', 'feedbackType', 'rewardVolume',\n",
            "       'firstMovement_times', 'intervals_0', 'intervals_1'],\n",
            "      dtype='object')\n"
          ]
        }
      ],
      "source": [
        "# -------------------------------------------\n",
        "from brainbox.io.one import SessionLoader\n",
        "\n",
        "# instantiate session loader\n",
        "sess_loader = SessionLoader(one=one, eid=eid)\n",
        "\n",
        "# Load in trials data\n",
        "sess_loader.load_trials()\n",
        "\n",
        "sess_loader.data_info\n",
        "\n",
        "# The different types of data are loaded as pandas dataframes that you can access via the respective attributes, for example\n",
        "# access trials data and list the keys of dataframe\n",
        "print(f'Keys in trials data:\\n\\n   {sess_loader.trials.keys()}')\n",
        "\n",
        "# -------------------------------------------\n",
        "from brainbox.io.one import SpikeSortingLoader\n",
        "\n",
        "spike_loader = SpikeSortingLoader(pid=pid, one=one)\n",
        "spikes, clusters, channels = spike_loader.load_spike_sorting()\n",
        "\n",
        "# Assign brain location information from channels to clusters\n",
        "clusters = spike_loader.merge_clusters(spikes, clusters, channels)\n",
        "\n",
        "# -------------------------------------------\n",
        "from brainbox.io.one import EphysSessionLoader\n",
        "\n",
        "ephys_sess_loader = EphysSessionLoader(eid=eid, one=one)\n",
        "\n",
        "ephys_sess_loader.load_session_data()\n",
        "ephys_sess_loader.load_spike_sorting()\n",
        "\n",
        "# Access the insertion names that we have data for\n",
        "probes = list(ephys_sess_loader.ephys.keys())\n",
        "print(f'Name of probes loaded: {probes}')\n",
        "\n",
        "# Acess the spikesorting data for the first probe\n",
        "spikes = ephys_sess_loader.ephys[probes[0]]['spikes']\n",
        "print(f'Keys of spikes data: {spikes.keys()}')"
      ]
    },
    {
      "cell_type": "markdown",
      "metadata": {
        "id": "pWzzPufsSf7O"
      },
      "source": [
        "The spikesorting data for each insertion is stored as a dict in the `ephys` attribute,"
      ]
    },
    {
      "cell_type": "markdown",
      "metadata": {
        "id": "6DsyFUaKl698"
      },
      "source": [
        "# Exploring the data"
      ]
    },
    {
      "cell_type": "markdown",
      "metadata": {
        "id": "b2wniAVvUq9E"
      },
      "source": [
        "### Example 1: Characterising the reaction time of the subject in a session"
      ]
    },
    {
      "cell_type": "code",
      "execution_count": 6,
      "metadata": {
        "id": "UL6KjINxVRpk"
      },
      "outputs": [
        {
          "data": {
            "text/html": [
              "<div>\n",
              "<style scoped>\n",
              "    .dataframe tbody tr th:only-of-type {\n",
              "        vertical-align: middle;\n",
              "    }\n",
              "\n",
              "    .dataframe tbody tr th {\n",
              "        vertical-align: top;\n",
              "    }\n",
              "\n",
              "    .dataframe thead th {\n",
              "        text-align: right;\n",
              "    }\n",
              "</style>\n",
              "<table border=\"1\" class=\"dataframe\">\n",
              "  <thead>\n",
              "    <tr style=\"text-align: right;\">\n",
              "      <th></th>\n",
              "      <th>goCueTrigger_times</th>\n",
              "      <th>stimOff_times</th>\n",
              "      <th>goCue_times</th>\n",
              "      <th>response_times</th>\n",
              "      <th>choice</th>\n",
              "      <th>stimOn_times</th>\n",
              "      <th>contrastLeft</th>\n",
              "      <th>contrastRight</th>\n",
              "      <th>probabilityLeft</th>\n",
              "      <th>feedback_times</th>\n",
              "      <th>feedbackType</th>\n",
              "      <th>rewardVolume</th>\n",
              "      <th>firstMovement_times</th>\n",
              "      <th>intervals_0</th>\n",
              "      <th>intervals_1</th>\n",
              "    </tr>\n",
              "  </thead>\n",
              "  <tbody>\n",
              "    <tr>\n",
              "      <th>0</th>\n",
              "      <td>18.265063</td>\n",
              "      <td>19.599184</td>\n",
              "      <td>18.266063</td>\n",
              "      <td>18.526168</td>\n",
              "      <td>-1.0</td>\n",
              "      <td>18.365397</td>\n",
              "      <td>NaN</td>\n",
              "      <td>1.000</td>\n",
              "      <td>0.5</td>\n",
              "      <td>18.526282</td>\n",
              "      <td>1.0</td>\n",
              "      <td>1.5</td>\n",
              "      <td>18.364963</td>\n",
              "      <td>17.143841</td>\n",
              "      <td>20.099301</td>\n",
              "    </tr>\n",
              "    <tr>\n",
              "      <th>1</th>\n",
              "      <td>23.665450</td>\n",
              "      <td>25.032057</td>\n",
              "      <td>23.666450</td>\n",
              "      <td>23.965253</td>\n",
              "      <td>1.0</td>\n",
              "      <td>23.665315</td>\n",
              "      <td>0.25</td>\n",
              "      <td>NaN</td>\n",
              "      <td>0.5</td>\n",
              "      <td>23.965354</td>\n",
              "      <td>1.0</td>\n",
              "      <td>1.5</td>\n",
              "      <td>23.645963</td>\n",
              "      <td>20.761912</td>\n",
              "      <td>25.532176</td>\n",
              "    </tr>\n",
              "    <tr>\n",
              "      <th>2</th>\n",
              "      <td>28.282413</td>\n",
              "      <td>29.832021</td>\n",
              "      <td>28.283413</td>\n",
              "      <td>28.765920</td>\n",
              "      <td>-1.0</td>\n",
              "      <td>28.282295</td>\n",
              "      <td>NaN</td>\n",
              "      <td>0.250</td>\n",
              "      <td>0.5</td>\n",
              "      <td>28.766018</td>\n",
              "      <td>1.0</td>\n",
              "      <td>1.5</td>\n",
              "      <td>28.372963</td>\n",
              "      <td>26.219882</td>\n",
              "      <td>30.332146</td>\n",
              "    </tr>\n",
              "    <tr>\n",
              "      <th>3</th>\n",
              "      <td>32.232573</td>\n",
              "      <td>33.898551</td>\n",
              "      <td>32.233373</td>\n",
              "      <td>32.832782</td>\n",
              "      <td>-1.0</td>\n",
              "      <td>32.232436</td>\n",
              "      <td>NaN</td>\n",
              "      <td>0.125</td>\n",
              "      <td>0.5</td>\n",
              "      <td>32.832881</td>\n",
              "      <td>1.0</td>\n",
              "      <td>1.5</td>\n",
              "      <td>32.309963</td>\n",
              "      <td>30.944353</td>\n",
              "      <td>34.398608</td>\n",
              "    </tr>\n",
              "    <tr>\n",
              "      <th>4</th>\n",
              "      <td>35.582521</td>\n",
              "      <td>36.915843</td>\n",
              "      <td>35.583421</td>\n",
              "      <td>35.855823</td>\n",
              "      <td>-1.0</td>\n",
              "      <td>35.582398</td>\n",
              "      <td>NaN</td>\n",
              "      <td>0.250</td>\n",
              "      <td>0.5</td>\n",
              "      <td>35.855940</td>\n",
              "      <td>1.0</td>\n",
              "      <td>1.5</td>\n",
              "      <td>35.543963</td>\n",
              "      <td>35.016016</td>\n",
              "      <td>37.415938</td>\n",
              "    </tr>\n",
              "    <tr>\n",
              "      <th>...</th>\n",
              "      <td>...</td>\n",
              "      <td>...</td>\n",
              "      <td>...</td>\n",
              "      <td>...</td>\n",
              "      <td>...</td>\n",
              "      <td>...</td>\n",
              "      <td>...</td>\n",
              "      <td>...</td>\n",
              "      <td>...</td>\n",
              "      <td>...</td>\n",
              "      <td>...</td>\n",
              "      <td>...</td>\n",
              "      <td>...</td>\n",
              "      <td>...</td>\n",
              "      <td>...</td>\n",
              "    </tr>\n",
              "    <tr>\n",
              "      <th>615</th>\n",
              "      <td>3545.090054</td>\n",
              "      <td>3553.656329</td>\n",
              "      <td>3545.090854</td>\n",
              "      <td>3551.619542</td>\n",
              "      <td>-1.0</td>\n",
              "      <td>3545.089874</td>\n",
              "      <td>0.25</td>\n",
              "      <td>NaN</td>\n",
              "      <td>0.2</td>\n",
              "      <td>3551.620542</td>\n",
              "      <td>-1.0</td>\n",
              "      <td>0.0</td>\n",
              "      <td>3551.032963</td>\n",
              "      <td>3544.650948</td>\n",
              "      <td>3554.156379</td>\n",
              "    </tr>\n",
              "    <tr>\n",
              "      <th>616</th>\n",
              "      <td>3555.390193</td>\n",
              "      <td>3557.289765</td>\n",
              "      <td>3555.391193</td>\n",
              "      <td>3556.241702</td>\n",
              "      <td>-1.0</td>\n",
              "      <td>3555.390071</td>\n",
              "      <td>NaN</td>\n",
              "      <td>0.125</td>\n",
              "      <td>0.2</td>\n",
              "      <td>3556.241794</td>\n",
              "      <td>1.0</td>\n",
              "      <td>1.5</td>\n",
              "      <td>3555.592963</td>\n",
              "      <td>3554.856086</td>\n",
              "      <td>3557.789822</td>\n",
              "    </tr>\n",
              "    <tr>\n",
              "      <th>617</th>\n",
              "      <td>3558.873836</td>\n",
              "      <td>3561.223274</td>\n",
              "      <td>3558.874536</td>\n",
              "      <td>3559.159442</td>\n",
              "      <td>1.0</td>\n",
              "      <td>3558.873721</td>\n",
              "      <td>NaN</td>\n",
              "      <td>0.125</td>\n",
              "      <td>0.2</td>\n",
              "      <td>3559.160542</td>\n",
              "      <td>-1.0</td>\n",
              "      <td>0.0</td>\n",
              "      <td>3558.784963</td>\n",
              "      <td>3558.433128</td>\n",
              "      <td>3561.723293</td>\n",
              "    </tr>\n",
              "    <tr>\n",
              "      <th>618</th>\n",
              "      <td>3562.990612</td>\n",
              "      <td>3564.706491</td>\n",
              "      <td>3562.991512</td>\n",
              "      <td>3563.642222</td>\n",
              "      <td>-1.0</td>\n",
              "      <td>3562.990447</td>\n",
              "      <td>NaN</td>\n",
              "      <td>1.000</td>\n",
              "      <td>0.2</td>\n",
              "      <td>3563.642321</td>\n",
              "      <td>1.0</td>\n",
              "      <td>1.5</td>\n",
              "      <td>3563.152963</td>\n",
              "      <td>3562.365204</td>\n",
              "      <td>3565.206546</td>\n",
              "    </tr>\n",
              "    <tr>\n",
              "      <th>619</th>\n",
              "      <td>3566.457262</td>\n",
              "      <td>3581.340311</td>\n",
              "      <td>3566.458262</td>\n",
              "      <td>3580.281757</td>\n",
              "      <td>-1.0</td>\n",
              "      <td>3566.457065</td>\n",
              "      <td>NaN</td>\n",
              "      <td>0.250</td>\n",
              "      <td>0.2</td>\n",
              "      <td>3580.281874</td>\n",
              "      <td>1.0</td>\n",
              "      <td>1.5</td>\n",
              "      <td>3579.985963</td>\n",
              "      <td>3565.854153</td>\n",
              "      <td>3581.840381</td>\n",
              "    </tr>\n",
              "  </tbody>\n",
              "</table>\n",
              "<p>620 rows × 15 columns</p>\n",
              "</div>"
            ],
            "text/plain": [
              "     goCueTrigger_times  stimOff_times  goCue_times  response_times  choice  \\\n",
              "0             18.265063      19.599184    18.266063       18.526168    -1.0   \n",
              "1             23.665450      25.032057    23.666450       23.965253     1.0   \n",
              "2             28.282413      29.832021    28.283413       28.765920    -1.0   \n",
              "3             32.232573      33.898551    32.233373       32.832782    -1.0   \n",
              "4             35.582521      36.915843    35.583421       35.855823    -1.0   \n",
              "..                  ...            ...          ...             ...     ...   \n",
              "615         3545.090054    3553.656329  3545.090854     3551.619542    -1.0   \n",
              "616         3555.390193    3557.289765  3555.391193     3556.241702    -1.0   \n",
              "617         3558.873836    3561.223274  3558.874536     3559.159442     1.0   \n",
              "618         3562.990612    3564.706491  3562.991512     3563.642222    -1.0   \n",
              "619         3566.457262    3581.340311  3566.458262     3580.281757    -1.0   \n",
              "\n",
              "     stimOn_times  contrastLeft  contrastRight  probabilityLeft  \\\n",
              "0       18.365397           NaN          1.000              0.5   \n",
              "1       23.665315          0.25            NaN              0.5   \n",
              "2       28.282295           NaN          0.250              0.5   \n",
              "3       32.232436           NaN          0.125              0.5   \n",
              "4       35.582398           NaN          0.250              0.5   \n",
              "..            ...           ...            ...              ...   \n",
              "615   3545.089874          0.25            NaN              0.2   \n",
              "616   3555.390071           NaN          0.125              0.2   \n",
              "617   3558.873721           NaN          0.125              0.2   \n",
              "618   3562.990447           NaN          1.000              0.2   \n",
              "619   3566.457065           NaN          0.250              0.2   \n",
              "\n",
              "     feedback_times  feedbackType  rewardVolume  firstMovement_times  \\\n",
              "0         18.526282           1.0           1.5            18.364963   \n",
              "1         23.965354           1.0           1.5            23.645963   \n",
              "2         28.766018           1.0           1.5            28.372963   \n",
              "3         32.832881           1.0           1.5            32.309963   \n",
              "4         35.855940           1.0           1.5            35.543963   \n",
              "..              ...           ...           ...                  ...   \n",
              "615     3551.620542          -1.0           0.0          3551.032963   \n",
              "616     3556.241794           1.0           1.5          3555.592963   \n",
              "617     3559.160542          -1.0           0.0          3558.784963   \n",
              "618     3563.642321           1.0           1.5          3563.152963   \n",
              "619     3580.281874           1.0           1.5          3579.985963   \n",
              "\n",
              "     intervals_0  intervals_1  \n",
              "0      17.143841    20.099301  \n",
              "1      20.761912    25.532176  \n",
              "2      26.219882    30.332146  \n",
              "3      30.944353    34.398608  \n",
              "4      35.016016    37.415938  \n",
              "..           ...          ...  \n",
              "615  3544.650948  3554.156379  \n",
              "616  3554.856086  3557.789822  \n",
              "617  3558.433128  3561.723293  \n",
              "618  3562.365204  3565.206546  \n",
              "619  3565.854153  3581.840381  \n",
              "\n",
              "[620 rows x 15 columns]"
            ]
          },
          "metadata": {},
          "output_type": "display_data"
        }
      ],
      "source": [
        "trials = one.load_object(eid, 'trials')\n",
        "\n",
        "keys = trials.keys() # Find the keys in our object\n",
        "\n",
        "from IPython.display import display # import module to display dataframe nicely\n",
        "trials_df = trials.to_df()\n",
        "display(trials_df)\n",
        "\n",
        "# 3. Compute reaction time\n",
        "# Define reaction time as the time when the visual stimulus first appears and detected response time\n",
        "reaction_time = trials['response_times'] - trials['stimOn_times']\n",
        "print(f'Reaction time: {reaction_time[:5]}')\n",
        "\n",
        "# 4. Evaluate reaction time across different trial types\n",
        "# Compare reaction time for left vs right trials\n",
        "left_trial_idx = ~np.isnan(trials['contrastLeft'])\n",
        "right_trial_idx = ~np.isnan(trials['contrastRight'])\n",
        "left_reaction_time = np.mean(reaction_time[left_trial_idx])\n",
        "right_reaction_time = np.mean(reaction_time[right_trial_idx])\n",
        "print(f'Average reaction time for stimulus on')\n",
        "print(f'Left: {left_reaction_time}')\n",
        "print(f'Right: {right_reaction_time}')\n",
        "\n",
        "# Compare reaction time for correct vs incorrect trials\n",
        "correct_trial_idx = trials['feedbackType'] == 1\n",
        "incorrect_trial_idx = trials['feedbackType'] == -1\n",
        "correct_reaction_time = np.mean(reaction_time[correct_trial_idx])\n",
        "incorrect_reaction_time = np.mean(reaction_time[incorrect_trial_idx])\n",
        "print(f'\\nAverage reaction time for trials that were')\n",
        "print(f'Correct: {correct_reaction_time}')\n",
        "print(f'Incorrect: {incorrect_reaction_time}')\n",
        "\n",
        "# 5. Make plot of reaction time across session\n",
        "import matplotlib.pyplot as plt\n",
        "fig, ax = plt.subplots()\n",
        "ax.scatter(trials['stimOn_times'], reaction_time, c='k', s=5)\n",
        "ax.set_yscale(\"log\")  # set y axis to log scale\n",
        "ax.set_xlabel('Time in session (s)')\n",
        "ax.set_ylabel('Reaction time (s)')"
      ]
    },
    {
      "cell_type": "markdown",
      "metadata": {
        "id": "TjdF40UWaJ7o"
      },
      "source": [
        "### 🏠 Example 2: Characterising the electrophysiology data of a single insertion"
      ]
    },
    {
      "cell_type": "markdown",
      "metadata": {
        "id": "lJbOmO1Ma6ro"
      },
      "source": [
        "In this example we show how to\n",
        "\n",
        "1.   Load in spikesorting data for a single insertion data\n",
        "2.   Evaluate the number of good clusters\n",
        "3.   Find the location of good clusters in the brain\n",
        "4.   Compute the firing rate of each cluster\n",
        "5.   Plot the firing rate of good clusters alongside their brain location\n",
        "\n"
      ]
    },
    {
      "cell_type": "code",
      "execution_count": 8,
      "metadata": {
        "id": "jPLjz4uscM4S"
      },
      "outputs": [
        {
          "name": "stderr",
          "output_type": "stream",
          "text": [
            "c:\\Users\\stell\\anaconda3\\envs\\iblenv\\lib\\site-packages\\one\\util.py:543: ALFWarning: Multiple revisions: \"\", \"2024-05-06\"\n",
            "  warnings.warn(f'Multiple revisions: {rev_list}', alferr.ALFWarning)\n",
            "c:\\Users\\stell\\anaconda3\\envs\\iblenv\\lib\\site-packages\\one\\util.py:543: ALFWarning: Multiple revisions: \"\", \"2024-05-06\"\n",
            "  warnings.warn(f'Multiple revisions: {rev_list}', alferr.ALFWarning)\n"
          ]
        }
      ],
      "source": [
        "# 1. Load in spikesorting data for pid\n",
        "from brainbox.io.one import SpikeSortingLoader\n",
        "from iblatlas.atlas import AllenAtlas\n",
        "\n",
        "ba = AllenAtlas()\n",
        "\n",
        "ssl = SpikeSortingLoader(one=one, pid=pid, atlas=ba)\n",
        "spikes, clusters, channels = ssl.load_spike_sorting()\n",
        "clusters = ssl.merge_clusters(spikes, clusters, channels)"
      ]
    },
    {
      "cell_type": "code",
      "execution_count": 9,
      "metadata": {
        "colab": {
          "base_uri": "https://localhost:8080/"
        },
        "id": "t7ysUpbqdKay",
        "outputId": "90658959-0fa4-44df-969e-0d549fa4db7b"
      },
      "outputs": [
        {
          "name": "stdout",
          "output_type": "stream",
          "text": [
            "Total no. of clusters: (765,)\n",
            "Number of good clusters: (75,)\n"
          ]
        }
      ],
      "source": [
        "# 2. Evaluate the number of good clusters\n",
        "# The spikesortingloader loads data for all clusters (both mua and good) detected by the spikesorter.\n",
        "# We can restrict to only the good clusters by finding the clusters with a label of 1\n",
        "good_cluster_idx = clusters['label'] == 1\n",
        "clusters_good = {key:val[good_cluster_idx] for key, val in clusters.items()}\n",
        "\n",
        "all_clusters = clusters['label'].shape\n",
        "good_clusters = clusters_good['label'].shape\n",
        "print(f'Total no. of clusters: {all_clusters}')\n",
        "print(f'Number of good clusters: {good_clusters}')"
      ]
    },
    {
      "cell_type": "code",
      "execution_count": 10,
      "metadata": {
        "colab": {
          "base_uri": "https://localhost:8080/"
        },
        "id": "ladKFRMof-au",
        "outputId": "8a5447fc-3fcc-4f9d-f745-17bc80ec5895"
      },
      "outputs": [
        {
          "name": "stdout",
          "output_type": "stream",
          "text": [
            "MB: 1\n",
            "MRN: 9\n",
            "ProS: 18\n",
            "RN: 6\n",
            "SCig: 5\n",
            "SCiw: 4\n",
            "SUB: 3\n",
            "VISp2/3: 9\n",
            "VISp4: 3\n",
            "VISp5: 9\n",
            "VISp6a: 5\n",
            "alv: 1\n",
            "or: 2\n"
          ]
        }
      ],
      "source": [
        "# 3. Find the location of clusters in brain\n",
        "# The location of the clusters can be found in the atlas_id (Allen CCF ids) or acronym attributes of the clusters object\n",
        "acronyms = clusters_good['acronym']\n",
        "unique_acronyms, count = np.unique(acronyms, return_counts=True)\n",
        "for a, c in zip(unique_acronyms, count):\n",
        "  print(f'{a}: {c}')"
      ]
    },
    {
      "cell_type": "code",
      "execution_count": 11,
      "metadata": {
        "colab": {
          "base_uri": "https://localhost:8080/"
        },
        "id": "WxNke2Sahrs8",
        "outputId": "23afcc02-741b-4141-dd50-ff91f94f14b5"
      },
      "outputs": [
        {
          "data": {
            "text/plain": [
              "False"
            ]
          },
          "execution_count": 11,
          "metadata": {},
          "output_type": "execute_result"
        }
      ],
      "source": [
        "# 4. Compute the firing rate of each cluster\n",
        "# The firing rate of each cluster can be found in the firing rate atrribute of the clusters object\n",
        "firing_rate = clusters_good['firing_rate']\n",
        "\n",
        "# To show the interaction between the clusters and the spikes object we will show how you can compute\n",
        "# the firing rate from the data\n",
        "\n",
        "# To compute the firing rate we first need to compute the number of spikes detected for each cluster\n",
        "n_spikes = np.empty((clusters_good['cluster_id'].shape))\n",
        "# Loop over the cluster ids\n",
        "for i, c in enumerate(clusters_good['cluster_id']):\n",
        "  # Find location where each cluster id is found in the spikes objects and get the sum\n",
        "  cidx = np.sum(spikes['clusters'] == c)\n",
        "  n_spikes[i] = cidx\n",
        "\n",
        "# To compute the firing rate we can divide the spike count by the total duration of the recording\n",
        "duration = np.max(spikes['times']) - np.min(spikes['times'])\n",
        "firing_rate_from_spikes = n_spikes / duration\n",
        "\n",
        "# Make sure that the values for firing rates are the same\n",
        "np.array_equal(firing_rate_from_spikes, firing_rate)"
      ]
    },
    {
      "cell_type": "code",
      "execution_count": 12,
      "metadata": {
        "colab": {
          "base_uri": "https://localhost:8080/",
          "height": 540
        },
        "id": "dmMKUtqvj_mf",
        "outputId": "56c4fb6e-8e9e-4938-d0f0-1f852112330d"
      },
      "outputs": [
        {
          "name": "stderr",
          "output_type": "stream",
          "text": [
            "C:\\Users\\stell\\AppData\\Local\\Temp\\ipykernel_22800\\861508613.py:8: MatplotlibDeprecationWarning: The get_cmap function was deprecated in Matplotlib 3.7 and will be removed in 3.11. Use ``matplotlib.colormaps[name]`` or ``matplotlib.colormaps.get_cmap()`` or ``pyplot.get_cmap()`` instead.\n",
            "  mapper = cm.ScalarMappable(norm=norm, cmap=cm.get_cmap('hot'))\n",
            "C:\\Users\\stell\\AppData\\Local\\Temp\\ipykernel_22800\\861508613.py:17: MatplotlibDeprecationWarning: The get_cmap function was deprecated in Matplotlib 3.7 and will be removed in 3.11. Use ``matplotlib.colormaps[name]`` or ``matplotlib.colormaps.get_cmap()`` or ``pyplot.get_cmap()`` instead.\n",
            "  mapper = cm.ScalarMappable(norm=norm, cmap=cm.get_cmap('hot'))\n"
          ]
        },
        {
          "data": {
            "image/png": "[encoded data removed]",
            "text/plain": [
              "<Figure size 640x480 with 3 Axes>"
            ]
          },
          "metadata": {},
          "output_type": "display_data"
        }
      ],
      "source": [
        "# 5. Plot firing rate and brain locations\n",
        "import matplotlib.pyplot as plt\n",
        "from matplotlib import cm, colors\n",
        "from brainbox.ephys_plots import plot_brain_regions\n",
        "clusters_good.keys()\n",
        "\n",
        "norm = colors.Normalize(vmin=np.min(firing_rate), vmax=np.max(firing_rate), clip=True)\n",
        "mapper = cm.ScalarMappable(norm=norm, cmap=cm.get_cmap('hot'))\n",
        "firing_rate_cols = mapper.to_rgba(firing_rate)\n",
        "\n",
        "fig, axs = plt.subplots(1, 2)\n",
        "# Plot the brain regions through which the channels on the insertion pass\n",
        "plot_brain_regions(channels['atlas_id'], channel_depths=channels['axial_um'], ax=axs[0])\n",
        "# Plot scatter plot of cluster depths vs cluster amp with firing rate encoded in colour\n",
        "# Map firing rate values to colours\n",
        "norm = colors.Normalize(vmin=np.min(firing_rate), vmax=np.max(firing_rate), clip=True)\n",
        "mapper = cm.ScalarMappable(norm=norm, cmap=cm.get_cmap('hot'))\n",
        "firing_rate_cols = mapper.to_rgba(firing_rate)\n",
        "axs[1].scatter(clusters_good['amp_median'] * 1e6, clusters_good['depths'], c=firing_rate_cols)\n",
        "axs[1].set_xlabel('Amps (uV)')\n",
        "axs[1].get_yaxis().set_visible(False)\n",
        "# Add colorbar\n",
        "cbar = fig.colorbar(mapper, ax=axs[1])\n",
        "cbar.set_label('Firing rate (Hz)')"
      ]
    },
    {
      "cell_type": "markdown",
      "metadata": {
        "id": "2ooDYgK1te1F"
      },
      "source": [
        "### Example 3: Characterising event aligned activity of a single cluster"
      ]
    },
    {
      "cell_type": "markdown",
      "metadata": {
        "id": "KVgl6cVSunDM"
      },
      "source": [
        "In this example we will show how to\n",
        "\n",
        "\n",
        "1.   Load in trials data for a single session and spikesorting data for a single insertion\n",
        "2.   Get spikes for chosen cluster\n",
        "3.   Compute and plot firing rate of cluster around trial event\n",
        "4.   Compute and plot peristimulus time histograms for different trial conditions (left vs right, correct vs incorrect)\n",
        "\n"
      ]
    },
    {
      "cell_type": "code",
      "execution_count": 13,
      "metadata": {
        "id": "mNZqmJuTxtB3"
      },
      "outputs": [
        {
          "name": "stderr",
          "output_type": "stream",
          "text": [
            "c:\\Users\\stell\\anaconda3\\envs\\iblenv\\lib\\site-packages\\one\\util.py:543: ALFWarning: Multiple revisions: \"\", \"2024-05-06\"\n",
            "  warnings.warn(f'Multiple revisions: {rev_list}', alferr.ALFWarning)\n",
            "c:\\Users\\stell\\anaconda3\\envs\\iblenv\\lib\\site-packages\\one\\util.py:543: ALFWarning: Multiple revisions: \"\", \"2024-05-06\"\n",
            "  warnings.warn(f'Multiple revisions: {rev_list}', alferr.ALFWarning)\n"
          ]
        }
      ],
      "source": [
        "# 1. Load in trials data and spikesorting data\n",
        "from brainbox.io.one import SessionLoader, SpikeSortingLoader\n",
        "from one.api import ONE\n",
        "from iblatlas.atlas import AllenAtlas\n",
        "import numpy as np\n",
        "\n",
        "ba = AllenAtlas()\n",
        "one = ONE()\n",
        "pid = '92822789-608f-44a6-ad64-fe549402b2df'\n",
        "eid, _ = one.pid2eid(pid)\n",
        "\n",
        "sl = SessionLoader(eid=eid, one=one)\n",
        "sl.load_trials()\n",
        "\n",
        "ssl = SpikeSortingLoader(one=one, pid=pid, atlas=ba)\n",
        "spikes, clusters, channels = ssl.load_spike_sorting()\n",
        "clusters = ssl.merge_clusters(spikes, clusters, channels)"
      ]
    },
    {
      "cell_type": "code",
      "execution_count": 14,
      "metadata": {
        "id": "iJzTwk5FyQ-m"
      },
      "outputs": [],
      "source": [
        "# 2. Get spikes for a single cluster\n",
        "# Get the 25th good cluster\n",
        "cluster_id = np.where(clusters['label'] == 1)[0][25]\n",
        "\n",
        "# Get the index of the spikes object for the chosen cluster\n",
        "spikes_idx = spikes['clusters'] == cluster_id"
      ]
    },
    {
      "cell_type": "code",
      "execution_count": 15,
      "metadata": {
        "colab": {
          "base_uri": "https://localhost:8080/",
          "height": 468
        },
        "id": "7qHcZ7SOz6f_",
        "outputId": "cba5c4a2-75cd-4463-d64d-ce67ddf7e868"
      },
      "outputs": [
        {
          "data": {
            "text/plain": [
              "Text(0, 0.5, 'Trial number')"
            ]
          },
          "execution_count": 15,
          "metadata": {},
          "output_type": "execute_result"
        },
        {
          "data": {
            "image/png": "[encoded data removed]",
            "text/plain": [
              "<Figure size 640x480 with 1 Axes>"
            ]
          },
          "metadata": {},
          "output_type": "display_data"
        }
      ],
      "source": [
        "# 3. Compute firing rate of cluster around trial event and plot as a raster\n",
        "# Find times when stimulus appears\n",
        "events = sl.trials['stimOn_times']\n",
        "\n",
        "from brainbox.singlecell import bin_spikes\n",
        "# Compute number of spikes in 0.05s bins between 0.5s before stimulus presentation to 1s after stimulus presentation\n",
        "bin_size = 0.05\n",
        "pre_time = 0.5\n",
        "post_time = 1\n",
        "\n",
        "# events = sl.trials['stimOn_times'].values  # 또는 .to_numpy()\n",
        "# spike_raster, times = bin_spikes(\n",
        "#     spikes.times[spikes_idx],\n",
        "#     events,  # 이제 numpy.ndarray 형태\n",
        "#     pre_time=pre_time,\n",
        "#     post_time=post_time,\n",
        "#     bin_size=bin_size\n",
        "# )\n",
        "# spike_raster = spike_raster / bin_size\n",
        "\n",
        "\n",
        "spike_raster, times = bin_spikes(spikes.times[spikes_idx], events, pre_time=pre_time, post_time=post_time, bin_size=bin_size)\n",
        "spikes_raster = spike_raster / bin_size\n",
        "\n",
        "fig, ax = plt.subplots()\n",
        "ax.imshow(spike_raster, extent=[times[0], times[-1], 0, events.size], origin='lower', cmap='binary', aspect='auto', vmax=20, vmin=0)\n",
        "ax.axvline(0, c='k', linestyle='--')\n",
        "ax.set_xlabel('Time from stimulus (s)')\n",
        "ax.set_ylabel('Trial number')"
      ]
    },
    {
      "cell_type": "code",
      "execution_count": 16,
      "metadata": {
        "colab": {
          "base_uri": "https://localhost:8080/",
          "height": 467
        },
        "id": "kZYQURgOF35y",
        "outputId": "079f612e-ea94-4027-f131-f41430807485"
      },
      "outputs": [
        {
          "data": {
            "text/plain": [
              "Text(0.5, 0, 'Time from stimulus (s)')"
            ]
          },
          "execution_count": 16,
          "metadata": {},
          "output_type": "execute_result"
        },
        {
          "data": {
            "image/png": "[encoded data removed]",
            "text/plain": [
              "<Figure size 640x480 with 2 Axes>"
            ]
          },
          "metadata": {},
          "output_type": "display_data"
        }
      ],
      "source": [
        "# 4. Compute peri stimulus time histogram for different trial events\n",
        "# Compute psth for left vs right stimulus trials\n",
        "left_idx = ~np.isnan(sl.trials['contrastLeft'])\n",
        "right_idx = ~np.isnan(sl.trials['contrastRight'])\n",
        "psth_left = np.nanmean(spike_raster[left_idx], axis=0)\n",
        "psth_right = np.nanmean(spike_raster[right_idx], axis=0)\n",
        "\n",
        "# Compute psth for correct vs incorrect trials\n",
        "correct_idx = sl.trials['feedbackType'] == 1\n",
        "incorrect_idx = sl.trials['feedbackType'] == -1\n",
        "psth_correct = np.nanmean(spike_raster[correct_idx], axis=0)\n",
        "psth_incorrect = np.nanmean(spike_raster[incorrect_idx], axis=0)\n",
        "\n",
        "# Plot the psths\n",
        "fig, axs = plt.subplots(1, 2)\n",
        "axs[0].plot(times, psth_left, c='green')\n",
        "axs[0].plot(times, psth_right, c='yellow')\n",
        "axs[0].legend(['left', 'right'])\n",
        "axs[0].axvline(0, c='k', linestyle='--')\n",
        "axs[0].set_xlabel('Time from stimulus (s)')\n",
        "axs[0].set_ylabel('Firing rate (Hz)')\n",
        "\n",
        "axs[1].plot(times, psth_correct, c='blue')\n",
        "axs[1].plot(times, psth_incorrect, c='red')\n",
        "axs[1].legend(['correct', 'incorrect'])\n",
        "axs[1].axvline(0, c='k', linestyle='--')\n",
        "axs[1].set_xlabel('Time from stimulus (s)')"
      ]
    },
    {
      "cell_type": "markdown",
      "metadata": {
        "id": "GSvi21Dn84wJ"
      },
      "source": [
        "# FAQ\n",
        "\n"
      ]
    },
    {
      "cell_type": "markdown",
      "metadata": {
        "id": "gW2bvvEzxjG4"
      },
      "source": [
        "Where can I find out more information about the IBL?\n",
        "- [IBL website](https://www.internationalbrainlab.com/)\n",
        "\n",
        "How can I easily explore the IBL data available?\n",
        "- [IBL visualisation website](https://viz.internationalbrainlab.org/)\n",
        "\n",
        "Where can I find more information about the Brain-wide map?\n",
        "- [Brain-wide map technical paper](https://figshare.com/articles/preprint/Data_release_-_Brainwide_map_-_Q4_2022/21400815)\n",
        "\n",
        "Where can I find out more information about available dataset releases?\n",
        "- [Publically available IBL data](https://int-brain-lab.github.io/iblenv/public_docs/public_introduction.html)\n",
        "\n",
        "Where can I read more about the science conducted in the IBL?\n",
        "- [List of publications](https://www.internationalbrainlab.com/publications)\n",
        "\n",
        "Where can I find out more information about ONE?\n",
        "- [ONE documentation](https://int-brain-lab.github.io/ONE/)\n",
        "\n",
        "Where can I find out more information about ibllib and brainbox?\n",
        "- [ibllib documentation](https://int-brain-lab.github.io/iblenv/010_api_reference.html)\n",
        "\n",
        "Where can I find out more information about iblatlas?\n",
        "- [Atlas examples](https://int-brain-lab.github.io/iblenv/atlas_examples.html)\n",
        "\n",
        "Where can I find out more information about different IBL datasets?\n",
        "- [Description of public datasets](https://docs.google.com/document/d/1OqIqqakPakHXRAwceYLwFY9gOrm8_P62XIfCTnHwstg/edit#heading=h.hnjqyfnroyya)\n",
        "\n",
        "Where can I find help?\n",
        "- Issues with the data? Post an issue here: https://neurostars.org/ with the tag `ibl`\n",
        "- Alternatively post an issue here: https://github.com/int-brain-lab/iblenv/issues\n",
        "- General questions about the datasets or publications? Email: info@internationalbrainlab.org\n",
        "\n"
      ]
    }
  ],
  "metadata": {
    "colab": {
      "collapsed_sections": [
        "RGgCO_myXJ13",
        "cmI9AmEbJx9B",
        "wqK8h-iORJbC",
        "6hGukIYhRQb7",
        "Ffd9EYxERTzH",
        "TjdF40UWaJ7o",
        "b3pezG2FwkRs",
        "bo2iucdK0JRg"
      ],
      "provenance": []
    },
    "kernelspec": {
      "display_name": "iblenv",
      "language": "python",
      "name": "python3"
    },
    "language_info": {
      "codemirror_mode": {
        "name": "ipython",
        "version": 3
      },
      "file_extension": ".py",
      "mimetype": "text/x-python",
      "name": "python",
      "nbconvert_exporter": "python",
      "pygments_lexer": "ipython3",
      "version": "3.10.16"
    }
  },
  "nbformat": 4,
  "nbformat_minor": 0
}
