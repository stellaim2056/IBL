{
 "cells": [
  {
   "cell_type": "code",
   "execution_count": 10,
   "id": "7765e47a",
   "metadata": {},
   "outputs": [
    {
     "name": "stdout",
     "output_type": "stream",
     "text": [
      "BASE_DIR: c:\\Users\\miasc\\SCH\\shinlab\\IBL\\VISp_PSTH\n"
     ]
    }
   ],
   "source": [
    "import numpy as np\n",
    "import pandas as pd\n",
    "import matplotlib.pyplot as plt\n",
    "from scipy.ndimage import gaussian_filter1d\n",
    "from IPython.display import display\n",
    "from pprint import pprint\n",
    "import os\n",
    "import sys\n",
    "\n",
    "# brainbox / iblatlas / ONE 관련\n",
    "from brainbox.io.one import SessionLoader, SpikeSortingLoader, load_lfp, load_spike_sorting\n",
    "from brainbox.singlecell import bin_spikes\n",
    "from iblatlas.atlas import AllenAtlas\n",
    "from one.api import ONE\n",
    "\n",
    "BASE_DIR = os.path.abspath(os.path.join(os.getcwd(), '..', '..'))\n",
    "print(f\"BASE_DIR: {BASE_DIR}\")\n",
    "\n",
    "RESULT_DIR = os.path.join(BASE_DIR, 'result', 'VISp', 'lateralization')\n",
    "\n",
    "def add_module_paths(base, *rel_paths):\n",
    "    for rel_path in rel_paths:\n",
    "        sys.path.append(os.path.join(base, *rel_path))\n",
    "\n",
    "add_module_paths(BASE_DIR,\n",
    "    ['func'],               # func 바로 아래 함수들\n",
    "    ['func', 'compute'],\n",
    "    ['func', 'info'],\n",
    "    ['func', 'plot']\n",
    ")\n",
    "\n",
    "from print_cluster_info import print_cluster_info\n",
    "from get_trial_masks import get_trial_masks\n",
    "from compute_raster import compute_raster\n",
    "from compute_psth import compute_psth\n",
    "from plot_raster import plot_raster\n",
    "from plot_psth_2x2 import plot_psth_2x2\n",
    "from plot_psth_contrast import plot_psth_contrast\n",
    "from plot_psth_1 import plot_psth_left_vs_right\n",
    "from sub_func import save_file\n"
   ]
  },
  {
   "cell_type": "code",
   "execution_count": 25,
   "id": "f664bc4f",
   "metadata": {},
   "outputs": [
    {
     "name": "stderr",
     "output_type": "stream",
     "text": [
      "(S3) C:\\Users\\miasc\\Downloads\\ONE\\openalyx.internationalbrainlab.org\\churchlandlab_ucla\\Subjects\\UCLA033\\2022-02-15\\001\\alf\\probe00\\pykilosort\\#2024-05-06#\\waveforms.channels.npz: 100%|██████████| 22.4M/22.4M [00:20<00:00, 1.08MB/s]\n",
      "(S3) C:\\Users\\miasc\\Downloads\\ONE\\openalyx.internationalbrainlab.org\\churchlandlab_ucla\\Subjects\\UCLA033\\2022-02-15\\001\\alf\\probe00\\pykilosort\\#2024-05-06#\\waveforms.table.pqt: 100%|██████████| 5.20M/5.20M [00:17<00:00, 292kB/s]\n",
      "(S3) C:\\Users\\miasc\\Downloads\\ONE\\openalyx.internationalbrainlab.org\\churchlandlab_ucla\\Subjects\\UCLA033\\2022-02-15\\001\\alf\\probe00\\pykilosort\\#2024-05-06#\\waveforms.traces.npy: 100%|██████████| 2.87G/2.87G [02:48<00:00, 17.1MB/s]\n",
      "(S3) C:\\Users\\miasc\\Downloads\\ONE\\openalyx.internationalbrainlab.org\\churchlandlab_ucla\\Subjects\\UCLA033\\2022-02-15\\001\\alf\\probe00\\pykilosort\\#2024-05-06#\\waveforms.templates.npy: 100%|██████████| 22.4M/22.4M [00:07<00:00, 3.15MB/s]\n"
     ]
    },
    {
     "data": {
      "text/plain": [
       "\n",
       "        WaveformsLoader data version 1\n",
       "        280_064 total waveforms 128 samples, 40 channels\n",
       "        1_094 units, 256 max waveforms per label\n",
       "        dtype: float16\n",
       "        data path: C:\\Users\\miasc\\Downloads\\ONE\\openalyx.internationalbrainlab.org\\churchlandlab_ucla\\Subjects\\UCLA033\\2022-02-15\\001\\alf\\probe00\\pykilosort\\#2024-05-06#\n",
       "        "
      ]
     },
     "execution_count": 25,
     "metadata": {},
     "output_type": "execute_result"
    }
   ],
   "source": [
    "one = ONE()\n",
    "# eid = '8a1cf4ef-06e3-4c72-9bc7-e1baa189841b'\n",
    "eid = '111c1762-7908-47e0-9f40-2f2ee55b6505'\n",
    "\n",
    "ssl= SpikeSortingLoader(one=one, eid=eid)\n",
    "ssl.raw_waveforms()\n",
    "# ssl.raw_electrophysiology(stream=True, band='ap')\n",
    "# ssl.download_raw_electrophysiology(band='ap')"
   ]
  },
  {
   "cell_type": "code",
   "execution_count": null,
   "id": "646b5271",
   "metadata": {},
   "outputs": [],
   "source": []
  },
  {
   "cell_type": "code",
   "execution_count": null,
   "id": "9c0d402a",
   "metadata": {},
   "outputs": [],
   "source": [
    "load_spike_sorting(eid, one=one)\n",
    "load_lfp(eid, one=one)"
   ]
  }
 ],
 "metadata": {
  "kernelspec": {
   "display_name": "iblenv",
   "language": "python",
   "name": "python3"
  },
  "language_info": {
   "codemirror_mode": {
    "name": "ipython",
    "version": 3
   },
   "file_extension": ".py",
   "mimetype": "text/x-python",
   "name": "python",
   "nbconvert_exporter": "python",
   "pygments_lexer": "ipython3",
   "version": "3.9.21"
  }
 },
 "nbformat": 4,
 "nbformat_minor": 5
}
