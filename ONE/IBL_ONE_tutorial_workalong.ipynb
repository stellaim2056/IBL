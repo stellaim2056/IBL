{
  "cells": [
    {
      "cell_type": "markdown",
      "metadata": {
        "id": "8U3dvJMkMvjP"
      },
      "source": [
        "# IBL ONE tutorial workalong notebook"
      ]
    },
    {
      "cell_type": "markdown",
      "metadata": {
        "id": "COJ45DSzM0uO"
      },
      "source": [
        "This is a colab notebook that accompanies the following presentation\n",
        "- [IBL ONE presentation](https://docs.google.com/presentation/d/1hH-iv7721-5mnPSmqlSuZRyMTOVWQizjC0mymWX1z5U/edit#slide=id.g2b890538620_0_31)\n",
        "\n",
        "Please also refer to following material for more information and examples\n",
        "- [IBL introduction](https://colab.research.google.com/drive/1Ua-NlpYYZCIOF56xbsT9YR71Enkotd-b)\n",
        "- [IBL ONE tutorial](https://colab.research.google.com/drive/1y3sRI1wC7qbWqN6skvulzPOp6xw8tLm7)\n",
        "- [IBL Brain-wide-map analysis](https://colab.research.google.com/drive/1th3MRZGHMSaeAvGmKGJQ84rBk8eEI4Fu)"
      ]
    },
    {
      "cell_type": "markdown",
      "metadata": {
        "id": "rChh97S8k0Ja"
      },
      "source": [
        "# Installing and configuring ONE"
      ]
    },
    {
      "cell_type": "markdown",
      "metadata": {
        "id": "HQVhLMO6iiV6"
      },
      "source": [
        "## Installation"
      ]
    },
    {
      "cell_type": "code",
      "execution_count": null,
      "metadata": {
        "id": "1lCeyrUUku52",
        "colab": {
          "base_uri": "https://localhost:8080/"
        },
        "outputId": "c8d0857e-bba9-43b5-ac7b-d0a3e1e6cbce"
      },
      "outputs": [
        {
          "output_type": "stream",
          "name": "stdout",
          "text": [
            "Collecting ONE-api\n",
            "  Downloading ONE_api-2.6.0-py3-none-any.whl (113 kB)\n",
            "\u001b[?25l     \u001b[90m━━━━━━━━━━━━━━━━━━━━━━━━━━━━━━━━━━━━━━━━\u001b[0m \u001b[32m0.0/113.4 kB\u001b[0m \u001b[31m?\u001b[0m eta \u001b[36m-:--:--\u001b[0m\r\u001b[2K     \u001b[90m━━━━━━━━━━━━━━━━━━━━━━━━━━━━━━━━━━━━━━━━\u001b[0m \u001b[32m113.4/113.4 kB\u001b[0m \u001b[31m3.5 MB/s\u001b[0m eta \u001b[36m0:00:00\u001b[0m\n",
            "\u001b[?25hCollecting flake8>=3.7.8 (from ONE-api)\n",
            "  Downloading flake8-7.0.0-py2.py3-none-any.whl (57 kB)\n",
            "\u001b[2K     \u001b[90m━━━━━━━━━━━━━━━━━━━━━━━━━━━━━━━━━━━━━━━━\u001b[0m \u001b[32m57.6/57.6 kB\u001b[0m \u001b[31m8.5 MB/s\u001b[0m eta \u001b[36m0:00:00\u001b[0m\n",
            "\u001b[?25hRequirement already satisfied: numpy>=1.18 in /usr/local/lib/python3.10/dist-packages (from ONE-api) (1.25.2)\n",
            "Requirement already satisfied: pandas>=1.5.0 in /usr/local/lib/python3.10/dist-packages (from ONE-api) (1.5.3)\n",
            "Requirement already satisfied: tqdm>=4.32.1 in /usr/local/lib/python3.10/dist-packages (from ONE-api) (4.66.2)\n",
            "Requirement already satisfied: requests>=2.22.0 in /usr/local/lib/python3.10/dist-packages (from ONE-api) (2.31.0)\n",
            "Collecting iblutil>=1.1.0 (from ONE-api)\n",
            "  Downloading iblutil-1.8.0-py3-none-any.whl (29 kB)\n",
            "Requirement already satisfied: packaging in /usr/local/lib/python3.10/dist-packages (from ONE-api) (23.2)\n",
            "Collecting boto3 (from ONE-api)\n",
            "  Downloading boto3-1.34.52-py3-none-any.whl (139 kB)\n",
            "\u001b[2K     \u001b[90m━━━━━━━━━━━━━━━━━━━━━━━━━━━━━━━━━━━━━━━━\u001b[0m \u001b[32m139.3/139.3 kB\u001b[0m \u001b[31m11.0 MB/s\u001b[0m eta \u001b[36m0:00:00\u001b[0m\n",
            "\u001b[?25hRequirement already satisfied: pyyaml in /usr/local/lib/python3.10/dist-packages (from ONE-api) (6.0.1)\n",
            "Collecting mccabe<0.8.0,>=0.7.0 (from flake8>=3.7.8->ONE-api)\n",
            "  Downloading mccabe-0.7.0-py2.py3-none-any.whl (7.3 kB)\n",
            "Collecting pycodestyle<2.12.0,>=2.11.0 (from flake8>=3.7.8->ONE-api)\n",
            "  Downloading pycodestyle-2.11.1-py2.py3-none-any.whl (31 kB)\n",
            "Collecting pyflakes<3.3.0,>=3.2.0 (from flake8>=3.7.8->ONE-api)\n",
            "  Downloading pyflakes-3.2.0-py2.py3-none-any.whl (62 kB)\n",
            "\u001b[2K     \u001b[90m━━━━━━━━━━━━━━━━━━━━━━━━━━━━━━━━━━━━━━━━\u001b[0m \u001b[32m62.7/62.7 kB\u001b[0m \u001b[31m8.4 MB/s\u001b[0m eta \u001b[36m0:00:00\u001b[0m\n",
            "\u001b[?25hCollecting colorlog>=6.0.0 (from iblutil>=1.1.0->ONE-api)\n",
            "  Downloading colorlog-6.8.2-py3-none-any.whl (11 kB)\n",
            "Requirement already satisfied: numba in /usr/local/lib/python3.10/dist-packages (from iblutil>=1.1.0->ONE-api) (0.58.1)\n",
            "Requirement already satisfied: pyarrow in /usr/local/lib/python3.10/dist-packages (from iblutil>=1.1.0->ONE-api) (14.0.2)\n",
            "Requirement already satisfied: python-dateutil>=2.8.1 in /usr/local/lib/python3.10/dist-packages (from pandas>=1.5.0->ONE-api) (2.8.2)\n",
            "Requirement already satisfied: pytz>=2020.1 in /usr/local/lib/python3.10/dist-packages (from pandas>=1.5.0->ONE-api) (2023.4)\n",
            "Requirement already satisfied: charset-normalizer<4,>=2 in /usr/local/lib/python3.10/dist-packages (from requests>=2.22.0->ONE-api) (3.3.2)\n",
            "Requirement already satisfied: idna<4,>=2.5 in /usr/local/lib/python3.10/dist-packages (from requests>=2.22.0->ONE-api) (3.6)\n",
            "Requirement already satisfied: urllib3<3,>=1.21.1 in /usr/local/lib/python3.10/dist-packages (from requests>=2.22.0->ONE-api) (2.0.7)\n",
            "Requirement already satisfied: certifi>=2017.4.17 in /usr/local/lib/python3.10/dist-packages (from requests>=2.22.0->ONE-api) (2024.2.2)\n",
            "Collecting botocore<1.35.0,>=1.34.52 (from boto3->ONE-api)\n",
            "  Downloading botocore-1.34.52-py3-none-any.whl (12.0 MB)\n",
            "\u001b[2K     \u001b[90m━━━━━━━━━━━━━━━━━━━━━━━━━━━━━━━━━━━━━━━━\u001b[0m \u001b[32m12.0/12.0 MB\u001b[0m \u001b[31m33.1 MB/s\u001b[0m eta \u001b[36m0:00:00\u001b[0m\n",
            "\u001b[?25hCollecting jmespath<2.0.0,>=0.7.1 (from boto3->ONE-api)\n",
            "  Downloading jmespath-1.0.1-py3-none-any.whl (20 kB)\n",
            "Collecting s3transfer<0.11.0,>=0.10.0 (from boto3->ONE-api)\n",
            "  Downloading s3transfer-0.10.0-py3-none-any.whl (82 kB)\n",
            "\u001b[2K     \u001b[90m━━━━━━━━━━━━━━━━━━━━━━━━━━━━━━━━━━━━━━━━\u001b[0m \u001b[32m82.1/82.1 kB\u001b[0m \u001b[31m11.4 MB/s\u001b[0m eta \u001b[36m0:00:00\u001b[0m\n",
            "\u001b[?25hRequirement already satisfied: six>=1.5 in /usr/local/lib/python3.10/dist-packages (from python-dateutil>=2.8.1->pandas>=1.5.0->ONE-api) (1.16.0)\n",
            "Requirement already satisfied: llvmlite<0.42,>=0.41.0dev0 in /usr/local/lib/python3.10/dist-packages (from numba->iblutil>=1.1.0->ONE-api) (0.41.1)\n",
            "Installing collected packages: pyflakes, pycodestyle, mccabe, jmespath, colorlog, flake8, botocore, s3transfer, iblutil, boto3, ONE-api\n",
            "Successfully installed ONE-api-2.6.0 boto3-1.34.52 botocore-1.34.52 colorlog-6.8.2 flake8-7.0.0 iblutil-1.8.0 jmespath-1.0.1 mccabe-0.7.0 pycodestyle-2.11.1 pyflakes-3.2.0 s3transfer-0.10.0\n",
            "Collecting ibllib\n",
            "  Downloading ibllib-2.31.0-py3-none-any.whl (8.7 MB)\n",
            "\u001b[2K     \u001b[90m━━━━━━━━━━━━━━━━━━━━━━━━━━━━━━━━━━━━━━━━\u001b[0m \u001b[32m8.7/8.7 MB\u001b[0m \u001b[31m17.6 MB/s\u001b[0m eta \u001b[36m0:00:00\u001b[0m\n",
            "\u001b[?25hRequirement already satisfied: boto3 in /usr/local/lib/python3.10/dist-packages (from ibllib) (1.34.52)\n",
            "Requirement already satisfied: click>=7.0.0 in /usr/local/lib/python3.10/dist-packages (from ibllib) (8.1.7)\n",
            "Requirement already satisfied: colorlog>=4.0.2 in /usr/local/lib/python3.10/dist-packages (from ibllib) (6.8.2)\n",
            "Requirement already satisfied: flake8>=3.7.8 in /usr/local/lib/python3.10/dist-packages (from ibllib) (7.0.0)\n",
            "Collecting globus-sdk (from ibllib)\n",
            "  Downloading globus_sdk-3.37.0-py3-none-any.whl (299 kB)\n",
            "\u001b[2K     \u001b[90m━━━━━━━━━━━━━━━━━━━━━━━━━━━━━━━━━━━━━━━━\u001b[0m \u001b[32m299.1/299.1 kB\u001b[0m \u001b[31m29.4 MB/s\u001b[0m eta \u001b[36m0:00:00\u001b[0m\n",
            "\u001b[?25hRequirement already satisfied: graphviz in /usr/local/lib/python3.10/dist-packages (from ibllib) (0.20.1)\n",
            "Requirement already satisfied: matplotlib>=3.0.3 in /usr/local/lib/python3.10/dist-packages (from ibllib) (3.7.1)\n",
            "Requirement already satisfied: numba>=0.56 in /usr/local/lib/python3.10/dist-packages (from ibllib) (0.58.1)\n",
            "Requirement already satisfied: numpy>=1.18 in /usr/local/lib/python3.10/dist-packages (from ibllib) (1.25.2)\n",
            "Collecting nptdms (from ibllib)\n",
            "  Downloading npTDMS-1.8.0.tar.gz (179 kB)\n",
            "\u001b[2K     \u001b[90m━━━━━━━━━━━━━━━━━━━━━━━━━━━━━━━━━━━━━━━━\u001b[0m \u001b[32m179.2/179.2 kB\u001b[0m \u001b[31m20.5 MB/s\u001b[0m eta \u001b[36m0:00:00\u001b[0m\n",
            "\u001b[?25h  Installing build dependencies ... \u001b[?25l\u001b[?25hdone\n",
            "  Getting requirements to build wheel ... \u001b[?25l\u001b[?25hdone\n",
            "  Installing backend dependencies ... \u001b[?25l\u001b[?25hdone\n",
            "  Preparing metadata (pyproject.toml) ... \u001b[?25l\u001b[?25hdone\n",
            "Requirement already satisfied: opencv-python-headless in /usr/local/lib/python3.10/dist-packages (from ibllib) (4.9.0.80)\n",
            "Requirement already satisfied: pandas in /usr/local/lib/python3.10/dist-packages (from ibllib) (1.5.3)\n",
            "Requirement already satisfied: pyarrow in /usr/local/lib/python3.10/dist-packages (from ibllib) (14.0.2)\n",
            "Collecting pynrrd>=0.4.0 (from ibllib)\n",
            "  Downloading pynrrd-1.0.0-py2.py3-none-any.whl (19 kB)\n",
            "Requirement already satisfied: pytest in /usr/local/lib/python3.10/dist-packages (from ibllib) (7.4.4)\n",
            "Requirement already satisfied: requests>=2.22.0 in /usr/local/lib/python3.10/dist-packages (from ibllib) (2.31.0)\n",
            "Requirement already satisfied: scikit-learn>=0.22.1 in /usr/local/lib/python3.10/dist-packages (from ibllib) (1.2.2)\n",
            "Requirement already satisfied: scipy>=1.7.0 in /usr/local/lib/python3.10/dist-packages (from ibllib) (1.11.4)\n",
            "Requirement already satisfied: scikit-image in /usr/local/lib/python3.10/dist-packages (from ibllib) (0.19.3)\n",
            "Collecting sparse (from ibllib)\n",
            "  Downloading sparse-0.15.1-py2.py3-none-any.whl (116 kB)\n",
            "\u001b[2K     \u001b[90m━━━━━━━━━━━━━━━━━━━━━━━━━━━━━━━━━━━━━━━━\u001b[0m \u001b[32m116.3/116.3 kB\u001b[0m \u001b[31m17.5 MB/s\u001b[0m eta \u001b[36m0:00:00\u001b[0m\n",
            "\u001b[?25hRequirement already satisfied: seaborn>=0.9.0 in /usr/local/lib/python3.10/dist-packages (from ibllib) (0.13.1)\n",
            "Requirement already satisfied: tqdm>=4.32.1 in /usr/local/lib/python3.10/dist-packages (from ibllib) (4.66.2)\n",
            "Collecting iblatlas>=0.4.0 (from ibllib)\n",
            "  Downloading iblatlas-0.5.1-py3-none-any.whl (174 kB)\n",
            "\u001b[2K     \u001b[90m━━━━━━━━━━━━━━━━━━━━━━━━━━━━━━━━━━━━━━━━\u001b[0m \u001b[32m174.3/174.3 kB\u001b[0m \u001b[31m24.3 MB/s\u001b[0m eta \u001b[36m0:00:00\u001b[0m\n",
            "\u001b[?25hCollecting ibl-neuropixel>=0.8.1 (from ibllib)\n",
            "  Downloading ibl_neuropixel-0.9.2-py3-none-any.whl (60 kB)\n",
            "\u001b[2K     \u001b[90m━━━━━━━━━━━━━━━━━━━━━━━━━━━━━━━━━━━━━━━━\u001b[0m \u001b[32m60.2/60.2 kB\u001b[0m \u001b[31m8.6 MB/s\u001b[0m eta \u001b[36m0:00:00\u001b[0m\n",
            "\u001b[?25hRequirement already satisfied: iblutil>=1.7.0 in /usr/local/lib/python3.10/dist-packages (from ibllib) (1.8.0)\n",
            "Collecting mtscomp>=1.0.1 (from ibllib)\n",
            "  Downloading mtscomp-1.0.2-py2.py3-none-any.whl (16 kB)\n",
            "Requirement already satisfied: ONE-api>=2.6 in /usr/local/lib/python3.10/dist-packages (from ibllib) (2.6.0)\n",
            "Collecting phylib>=2.4 (from ibllib)\n",
            "  Downloading phylib-2.4.3-py2.py3-none-any.whl (80 kB)\n",
            "\u001b[2K     \u001b[90m━━━━━━━━━━━━━━━━━━━━━━━━━━━━━━━━━━━━━━━━\u001b[0m \u001b[32m80.2/80.2 kB\u001b[0m \u001b[31m12.1 MB/s\u001b[0m eta \u001b[36m0:00:00\u001b[0m\n",
            "\u001b[?25hCollecting psychofit (from ibllib)\n",
            "  Downloading Psychofit-1.0.0.post0-py3-none-any.whl (5.7 kB)\n",
            "Collecting slidingRP>=1.0.0 (from ibllib)\n",
            "  Downloading slidingRP-1.0.0-py3-none-any.whl (25 kB)\n",
            "Collecting pyqt5 (from ibllib)\n",
            "  Downloading PyQt5-5.15.10-cp37-abi3-manylinux_2_17_x86_64.whl (8.2 MB)\n",
            "\u001b[2K     \u001b[90m━━━━━━━━━━━━━━━━━━━━━━━━━━━━━━━━━━━━━━━━\u001b[0m \u001b[32m8.2/8.2 MB\u001b[0m \u001b[31m50.7 MB/s\u001b[0m eta \u001b[36m0:00:00\u001b[0m\n",
            "\u001b[?25hRequirement already satisfied: mccabe<0.8.0,>=0.7.0 in /usr/local/lib/python3.10/dist-packages (from flake8>=3.7.8->ibllib) (0.7.0)\n",
            "Requirement already satisfied: pycodestyle<2.12.0,>=2.11.0 in /usr/local/lib/python3.10/dist-packages (from flake8>=3.7.8->ibllib) (2.11.1)\n",
            "Requirement already satisfied: pyflakes<3.3.0,>=3.2.0 in /usr/local/lib/python3.10/dist-packages (from flake8>=3.7.8->ibllib) (3.2.0)\n",
            "Requirement already satisfied: joblib in /usr/local/lib/python3.10/dist-packages (from ibl-neuropixel>=0.8.1->ibllib) (1.3.2)\n",
            "Requirement already satisfied: contourpy>=1.0.1 in /usr/local/lib/python3.10/dist-packages (from matplotlib>=3.0.3->ibllib) (1.2.0)\n",
            "Requirement already satisfied: cycler>=0.10 in /usr/local/lib/python3.10/dist-packages (from matplotlib>=3.0.3->ibllib) (0.12.1)\n",
            "Requirement already satisfied: fonttools>=4.22.0 in /usr/local/lib/python3.10/dist-packages (from matplotlib>=3.0.3->ibllib) (4.49.0)\n",
            "Requirement already satisfied: kiwisolver>=1.0.1 in /usr/local/lib/python3.10/dist-packages (from matplotlib>=3.0.3->ibllib) (1.4.5)\n",
            "Requirement already satisfied: packaging>=20.0 in /usr/local/lib/python3.10/dist-packages (from matplotlib>=3.0.3->ibllib) (23.2)\n",
            "Requirement already satisfied: pillow>=6.2.0 in /usr/local/lib/python3.10/dist-packages (from matplotlib>=3.0.3->ibllib) (9.4.0)\n",
            "Requirement already satisfied: pyparsing>=2.3.1 in /usr/local/lib/python3.10/dist-packages (from matplotlib>=3.0.3->ibllib) (3.1.1)\n",
            "Requirement already satisfied: python-dateutil>=2.7 in /usr/local/lib/python3.10/dist-packages (from matplotlib>=3.0.3->ibllib) (2.8.2)\n",
            "Requirement already satisfied: llvmlite<0.42,>=0.41.0dev0 in /usr/local/lib/python3.10/dist-packages (from numba>=0.56->ibllib) (0.41.1)\n",
            "Requirement already satisfied: pyyaml in /usr/local/lib/python3.10/dist-packages (from ONE-api>=2.6->ibllib) (6.0.1)\n",
            "Requirement already satisfied: pytz>=2020.1 in /usr/local/lib/python3.10/dist-packages (from pandas->ibllib) (2023.4)\n",
            "Requirement already satisfied: dask in /usr/local/lib/python3.10/dist-packages (from phylib>=2.4->ibllib) (2023.8.1)\n",
            "Requirement already satisfied: toolz in /usr/local/lib/python3.10/dist-packages (from phylib>=2.4->ibllib) (0.12.1)\n",
            "Collecting nptyping (from pynrrd>=0.4.0->ibllib)\n",
            "  Downloading nptyping-2.5.0-py3-none-any.whl (37 kB)\n",
            "Requirement already satisfied: typing-extensions in /usr/local/lib/python3.10/dist-packages (from pynrrd>=0.4.0->ibllib) (4.9.0)\n",
            "Requirement already satisfied: charset-normalizer<4,>=2 in /usr/local/lib/python3.10/dist-packages (from requests>=2.22.0->ibllib) (3.3.2)\n",
            "Requirement already satisfied: idna<4,>=2.5 in /usr/local/lib/python3.10/dist-packages (from requests>=2.22.0->ibllib) (3.6)\n",
            "Requirement already satisfied: urllib3<3,>=1.21.1 in /usr/local/lib/python3.10/dist-packages (from requests>=2.22.0->ibllib) (2.0.7)\n",
            "Requirement already satisfied: certifi>=2017.4.17 in /usr/local/lib/python3.10/dist-packages (from requests>=2.22.0->ibllib) (2024.2.2)\n",
            "Requirement already satisfied: threadpoolctl>=2.0.0 in /usr/local/lib/python3.10/dist-packages (from scikit-learn>=0.22.1->ibllib) (3.3.0)\n",
            "Requirement already satisfied: botocore<1.35.0,>=1.34.52 in /usr/local/lib/python3.10/dist-packages (from boto3->ibllib) (1.34.52)\n",
            "Requirement already satisfied: jmespath<2.0.0,>=0.7.1 in /usr/local/lib/python3.10/dist-packages (from boto3->ibllib) (1.0.1)\n",
            "Requirement already satisfied: s3transfer<0.11.0,>=0.10.0 in /usr/local/lib/python3.10/dist-packages (from boto3->ibllib) (0.10.0)\n",
            "Requirement already satisfied: pyjwt[crypto]<3.0.0,>=2.0.0 in /usr/lib/python3/dist-packages (from globus-sdk->ibllib) (2.3.0)\n",
            "Requirement already satisfied: cryptography!=3.4.0,>=3.3.1 in /usr/local/lib/python3.10/dist-packages (from globus-sdk->ibllib) (42.0.3)\n",
            "Collecting PyQt5-sip<13,>=12.13 (from pyqt5->ibllib)\n",
            "  Downloading PyQt5_sip-12.13.0-cp310-cp310-manylinux_2_5_x86_64.manylinux1_x86_64.whl (338 kB)\n",
            "\u001b[2K     \u001b[90m━━━━━━━━━━━━━━━━━━━━━━━━━━━━━━━━━━━━━━━━\u001b[0m \u001b[32m338.1/338.1 kB\u001b[0m \u001b[31m36.3 MB/s\u001b[0m eta \u001b[36m0:00:00\u001b[0m\n",
            "\u001b[?25hCollecting PyQt5-Qt5>=5.15.2 (from pyqt5->ibllib)\n",
            "  Downloading PyQt5_Qt5-5.15.2-py3-none-manylinux2014_x86_64.whl (59.9 MB)\n",
            "\u001b[2K     \u001b[90m━━━━━━━━━━━━━━━━━━━━━━━━━━━━━━━━━━━━━━━━\u001b[0m \u001b[32m59.9/59.9 MB\u001b[0m \u001b[31m9.2 MB/s\u001b[0m eta \u001b[36m0:00:00\u001b[0m\n",
            "\u001b[?25hRequirement already satisfied: iniconfig in /usr/local/lib/python3.10/dist-packages (from pytest->ibllib) (2.0.0)\n",
            "Requirement already satisfied: pluggy<2.0,>=0.12 in /usr/local/lib/python3.10/dist-packages (from pytest->ibllib) (1.4.0)\n",
            "Requirement already satisfied: exceptiongroup>=1.0.0rc8 in /usr/local/lib/python3.10/dist-packages (from pytest->ibllib) (1.2.0)\n",
            "Requirement already satisfied: tomli>=1.0.0 in /usr/local/lib/python3.10/dist-packages (from pytest->ibllib) (2.0.1)\n",
            "Requirement already satisfied: networkx>=2.2 in /usr/local/lib/python3.10/dist-packages (from scikit-image->ibllib) (3.2.1)\n",
            "Requirement already satisfied: imageio>=2.4.1 in /usr/local/lib/python3.10/dist-packages (from scikit-image->ibllib) (2.31.6)\n",
            "Requirement already satisfied: tifffile>=2019.7.26 in /usr/local/lib/python3.10/dist-packages (from scikit-image->ibllib) (2024.2.12)\n",
            "Requirement already satisfied: PyWavelets>=1.1.1 in /usr/local/lib/python3.10/dist-packages (from scikit-image->ibllib) (1.5.0)\n",
            "Requirement already satisfied: cffi>=1.12 in /usr/local/lib/python3.10/dist-packages (from cryptography!=3.4.0,>=3.3.1->globus-sdk->ibllib) (1.16.0)\n",
            "Requirement already satisfied: six>=1.5 in /usr/local/lib/python3.10/dist-packages (from python-dateutil>=2.7->matplotlib>=3.0.3->ibllib) (1.16.0)\n",
            "Requirement already satisfied: cloudpickle>=1.5.0 in /usr/local/lib/python3.10/dist-packages (from dask->phylib>=2.4->ibllib) (2.2.1)\n",
            "Requirement already satisfied: fsspec>=2021.09.0 in /usr/local/lib/python3.10/dist-packages (from dask->phylib>=2.4->ibllib) (2023.6.0)\n",
            "Requirement already satisfied: partd>=1.2.0 in /usr/local/lib/python3.10/dist-packages (from dask->phylib>=2.4->ibllib) (1.4.1)\n",
            "Requirement already satisfied: importlib-metadata>=4.13.0 in /usr/local/lib/python3.10/dist-packages (from dask->phylib>=2.4->ibllib) (7.0.1)\n",
            "Requirement already satisfied: pycparser in /usr/local/lib/python3.10/dist-packages (from cffi>=1.12->cryptography!=3.4.0,>=3.3.1->globus-sdk->ibllib) (2.21)\n",
            "Requirement already satisfied: zipp>=0.5 in /usr/local/lib/python3.10/dist-packages (from importlib-metadata>=4.13.0->dask->phylib>=2.4->ibllib) (3.17.0)\n",
            "Requirement already satisfied: locket in /usr/local/lib/python3.10/dist-packages (from partd>=1.2.0->dask->phylib>=2.4->ibllib) (1.0.0)\n",
            "Building wheels for collected packages: nptdms\n",
            "  Building wheel for nptdms (pyproject.toml) ... \u001b[?25l\u001b[?25hdone\n",
            "  Created wheel for nptdms: filename=npTDMS-1.8.0-py3-none-any.whl size=106604 sha256=069814f18aeee75f76ae045eb78d7ebc6edf31f4729fa1ed2b7bbf536b01baee\n",
            "  Stored in directory: /root/.cache/pip/wheels/c6/e5/f6/450633fa2f48eec427efcd353f6cf54bc9f3ec3f07145669cb\n",
            "Successfully built nptdms\n",
            "Installing collected packages: PyQt5-Qt5, mtscomp, PyQt5-sip, nptyping, nptdms, sparse, slidingRP, pyqt5, pynrrd, psychofit, phylib, globus-sdk, iblatlas, ibl-neuropixel, ibllib\n",
            "Successfully installed PyQt5-Qt5-5.15.2 PyQt5-sip-12.13.0 globus-sdk-3.37.0 ibl-neuropixel-0.9.2 iblatlas-0.5.1 ibllib-2.31.0 mtscomp-1.0.2 nptdms-1.8.0 nptyping-2.5.0 phylib-2.4.3 psychofit-1.0.0.post0 pynrrd-1.0.0 pyqt5-5.15.10 slidingRP-1.0.0 sparse-0.15.1\n"
          ]
        }
      ],
      "source": [
        "!pip install ONE-api\n",
        "!pip install ibllib"
      ]
    },
    {
      "cell_type": "markdown",
      "metadata": {
        "id": "gfFM1FZlotwO"
      },
      "source": [
        "## Configuration"
      ]
    },
    {
      "cell_type": "code",
      "execution_count": null,
      "metadata": {
        "id": "OGOVHppMovJQ",
        "colab": {
          "base_uri": "https://localhost:8080/"
        },
        "outputId": "0b866b5c-2586-4d3e-da1d-8d2bd3e7721a"
      },
      "outputs": [
        {
          "output_type": "stream",
          "name": "stdout",
          "text": [
            "Connected to https://openalyx.internationalbrainlab.org as user \"intbrainlab\"\n",
            "Downloading: /root/Downloads/ONE/openalyx.internationalbrainlab.org/tmpy4p8f576/cache.zip Bytes: 4868932\n"
          ]
        },
        {
          "output_type": "stream",
          "name": "stderr",
          "text": [
            "100%|██████████| 4.643375396728516/4.643375396728516 [00:01<00:00,  3.04it/s]\n"
          ]
        }
      ],
      "source": [
        "from one.api import ONE\n",
        "ONE.setup(base_url='https://openalyx.internationalbrainlab.org', silent=True)\n",
        "one = ONE(password='international')"
      ]
    },
    {
      "cell_type": "markdown",
      "metadata": {
        "id": "ZtYrzHAairDr"
      },
      "source": [
        "## Instantiation"
      ]
    },
    {
      "cell_type": "code",
      "execution_count": null,
      "metadata": {
        "id": "1r7TyVzciuxt"
      },
      "outputs": [],
      "source": [
        "from one.api import ONE\n",
        "one = ONE()"
      ]
    },
    {
      "cell_type": "markdown",
      "metadata": {
        "id": "SLAKT6iliw6q"
      },
      "source": [
        "# eids, pids and session paths"
      ]
    },
    {
      "cell_type": "markdown",
      "metadata": {
        "id": "GrvuMSzhi0V-"
      },
      "source": [
        "## eid <-> session path"
      ]
    },
    {
      "cell_type": "code",
      "execution_count": null,
      "metadata": {
        "colab": {
          "base_uri": "https://localhost:8080/"
        },
        "id": "QimUywlmjDJm",
        "outputId": "7e07d30c-754f-46c3-8565-a6865fa30f79"
      },
      "outputs": [
        {
          "output_type": "stream",
          "name": "stdout",
          "text": [
            "4720c98a-a305-4fba-affb-bbfa00a724a4 <-> /root/Downloads/ONE/openalyx.internationalbrainlab.org/danlab/Subjects/DY_014/2020-07-14/001\n"
          ]
        }
      ],
      "source": [
        "eid = '4720c98a-a305-4fba-affb-bbfa00a724a4'\n",
        "# Given an eid, find the session path\n",
        "session_path = one.eid2path(eid)\n",
        "# Given a session path, find the eid\n",
        "eid = one.path2eid(session_path)\n",
        "\n",
        "print(f'{eid} <-> {str(session_path)}')"
      ]
    },
    {
      "cell_type": "markdown",
      "metadata": {
        "id": "QNKqZkj6jAC7"
      },
      "source": [
        "## eid <-> pid"
      ]
    },
    {
      "cell_type": "code",
      "execution_count": null,
      "metadata": {
        "id": "oYADPephj5na",
        "colab": {
          "base_uri": "https://localhost:8080/"
        },
        "outputId": "b6fa0bfd-2bd9-4704-f329-ea47bfc646ac"
      },
      "outputs": [
        {
          "output_type": "stream",
          "name": "stdout",
          "text": [
            "pid: 4755877d-fd14-42b3-bc15-e1996d153015, pname: probe01\n",
            "pid: 695476f6-4c14-4a2f-b658-948514629079, pname: probe00\n",
            "\n",
            "Session associated with pid 695476f6-4c14-4a2f-b658-948514629079\n",
            "eid: 4720c98a-a305-4fba-affb-bbfa00a724a4, pname: probe00\n"
          ]
        }
      ],
      "source": [
        "# Given an eid, find the pid(s)\n",
        "eid = '4720c98a-a305-4fba-affb-bbfa00a724a4'\n",
        "pids, labels = one.eid2pid(eid)\n",
        "for pid, name in zip(pids, labels):\n",
        "  print(f'pid: {pid}, pname: {name}')\n",
        "\n",
        "# Given a pid, find the eid\n",
        "pid = '695476f6-4c14-4a2f-b658-948514629079'\n",
        "eid, pname = one.pid2eid(pid)\n",
        "print(f'\\nSession associated with pid {pid}')\n",
        "print(f'eid: {eid}, pname: {pname}')"
      ]
    },
    {
      "cell_type": "markdown",
      "metadata": {
        "id": "0eBDdTEClA4L"
      },
      "source": [
        "## Exercise 1"
      ]
    },
    {
      "cell_type": "markdown",
      "metadata": {
        "id": "3dDT6D2xlEAc"
      },
      "source": [
        "For the session path `NYU-65/2022-09-12/002` find the eid and the associated pids\n",
        "\n"
      ]
    },
    {
      "cell_type": "code",
      "execution_count": null,
      "metadata": {
        "id": "azzp3NhllfcN",
        "colab": {
          "base_uri": "https://localhost:8080/"
        },
        "outputId": "7e013448-8367-4774-e862-18c798b84656"
      },
      "outputs": [
        {
          "output_type": "stream",
          "name": "stdout",
          "text": [
            "a2ec6341-c55f-48a0-a23b-0ef2f5b1d71e\n",
            "(['5135e93f-2f1f-4301-9532-b5ad62548c49', '6925a312-966c-4e41-b79e-4594da57a2ee'], ['probe00', 'probe01'])\n"
          ]
        }
      ],
      "source": [
        "from one.api import ONE\n",
        "one = ONE()\n",
        "session_path = 'NYU-65/2022-09-12/002'\n",
        "# use one.path2eid convertor to find the eid\n",
        "eid = one.path2eid(session_path)\n",
        "print(eid)\n",
        "# use one.eid2pid to convertor to find the probe insertions\n",
        "probe_info = one.eid2pid(eid)\n",
        "print(probe_info)"
      ]
    },
    {
      "cell_type": "markdown",
      "metadata": {
        "id": "6I-qeGIRCeAw"
      },
      "source": [
        "# Listing data in an experiment"
      ]
    },
    {
      "cell_type": "markdown",
      "metadata": {
        "id": "tTijqf_cBXk6"
      },
      "source": [
        "### one.list_datasets and one.list_collections"
      ]
    },
    {
      "cell_type": "code",
      "execution_count": null,
      "metadata": {
        "id": "XfdfVGZxBahH",
        "colab": {
          "base_uri": "https://localhost:8080/"
        },
        "outputId": "a84c54d2-e219-42de-9095-75c8717a2064"
      },
      "outputs": [
        {
          "output_type": "stream",
          "name": "stdout",
          "text": [
            "['alf/probe00/electrodeSites.brainLocationIds_ccf_2017.npy',\n",
            " 'alf/probe00/electrodeSites.localCoordinates.npy',\n",
            " 'alf/probe00/electrodeSites.mlapdv.npy',\n",
            " 'alf/probe00/pykilosort/_ibl_log.info_pykilosort.log',\n",
            " 'alf/probe00/pykilosort/_kilosort_whitening.matrix.npy']\n"
          ]
        }
      ],
      "source": [
        "from pprint import pprint # better printing\n",
        "# List the datasets contained in a session\n",
        "eid = '4720c98a-a305-4fba-affb-bbfa00a724a4'\n",
        "datasets = one.list_datasets(eid)\n",
        "pprint(datasets[20:25])"
      ]
    },
    {
      "cell_type": "markdown",
      "metadata": {
        "id": "wLNPvfo1BwPx"
      },
      "source": [
        "## Describe datasets"
      ]
    },
    {
      "cell_type": "code",
      "execution_count": null,
      "metadata": {
        "id": "yjibhbf_DHv9",
        "colab": {
          "base_uri": "https://localhost:8080/"
        },
        "outputId": "c2b66032-6188-4bdf-c155-6bcd43746227"
      },
      "outputs": [
        {
          "output_type": "stream",
          "name": "stdout",
          "text": [
            "A table of trial events, one per trial. Events include: intervals, goCue_times, response_times, choice, stimOn_times, contrastLeft, contrastRight, feedback_times, feedbackType, rewardVolume, probabilityLeft, firstMovement_times\n"
          ]
        },
        {
          "output_type": "execute_result",
          "data": {
            "text/plain": [
              "{'id': 'c634bb4d-a152-4e6f-930d-516957b433e6',\n",
              " 'name': 'trials.table',\n",
              " 'created_by': None,\n",
              " 'description': 'A table of trial events, one per trial. Events include: intervals, goCue_times, response_times, choice, stimOn_times, contrastLeft, contrastRight, feedback_times, feedbackType, rewardVolume, probabilityLeft, firstMovement_times',\n",
              " 'filename_pattern': '*trials.table*'}"
            ]
          },
          "metadata": {},
          "execution_count": 10
        }
      ],
      "source": [
        "one.describe_dataset('trials.table')\n"
      ]
    },
    {
      "cell_type": "markdown",
      "metadata": {
        "id": "4b_UDY2GCOW3"
      },
      "source": [
        "## Exercise 2"
      ]
    },
    {
      "cell_type": "markdown",
      "metadata": {
        "id": "PUIUJI9HCSGv"
      },
      "source": [
        "Find and print the datasets that are in the `alf` collection of the session `aad23144-0e52-4eac-80c5-c4ee2decb198`\n",
        "\n"
      ]
    },
    {
      "cell_type": "code",
      "execution_count": null,
      "metadata": {
        "id": "ZPEypxCUCfjr",
        "colab": {
          "base_uri": "https://localhost:8080/"
        },
        "outputId": "e065742f-d6f0-494d-c361-9b6802e89428"
      },
      "outputs": [
        {
          "output_type": "execute_result",
          "data": {
            "text/plain": [
              "['alf/#2022-01-29#/_ibl_bodyCamera.dlc.pqt',\n",
              " 'alf/#2022-01-29#/_ibl_leftCamera.dlc.pqt',\n",
              " 'alf/#2022-01-29#/_ibl_rightCamera.dlc.pqt',\n",
              " 'alf/#2022-01-29#/bodyCamera.ROIMotionEnergy.npy',\n",
              " 'alf/#2022-01-29#/bodyROIMotionEnergy.position.npy',\n",
              " 'alf/#2022-01-29#/leftCamera.ROIMotionEnergy.npy',\n",
              " 'alf/#2022-01-29#/leftROIMotionEnergy.position.npy',\n",
              " 'alf/#2022-01-29#/rightCamera.ROIMotionEnergy.npy',\n",
              " 'alf/#2022-01-29#/rightROIMotionEnergy.position.npy',\n",
              " 'alf/#2023-04-20#/_ibl_leftCamera.times.npy',\n",
              " 'alf/#2023-04-20#/_ibl_rightCamera.times.npy',\n",
              " 'alf/#2023-04-20#/licks.times.npy',\n",
              " 'alf/_ibl_bodyCamera.times.npy',\n",
              " 'alf/_ibl_leftCamera.dlc.pqt',\n",
              " 'alf/_ibl_leftCamera.features.pqt',\n",
              " 'alf/_ibl_leftCamera.times.npy',\n",
              " 'alf/_ibl_rightCamera.dlc.pqt',\n",
              " 'alf/_ibl_rightCamera.features.pqt',\n",
              " 'alf/_ibl_rightCamera.times.npy',\n",
              " 'alf/_ibl_trials.goCueTrigger_times.npy',\n",
              " 'alf/_ibl_trials.stimOff_times.npy',\n",
              " 'alf/_ibl_trials.table.pqt',\n",
              " 'alf/_ibl_wheel.position.npy',\n",
              " 'alf/_ibl_wheel.timestamps.npy',\n",
              " 'alf/_ibl_wheelMoves.intervals.npy',\n",
              " 'alf/_ibl_wheelMoves.peakAmplitude.npy',\n",
              " 'alf/leftCamera.ROIMotionEnergy.npy',\n",
              " 'alf/leftROIMotionEnergy.position.npy',\n",
              " 'alf/probes.description.json',\n",
              " 'alf/rightCamera.ROIMotionEnergy.npy',\n",
              " 'alf/rightROIMotionEnergy.position.npy']"
            ]
          },
          "metadata": {},
          "execution_count": 11
        }
      ],
      "source": [
        "eid = 'aad23144-0e52-4eac-80c5-c4ee2decb198'\n",
        "collection = 'alf'\n",
        "one.list_datasets(eid, collection=collection)\n",
        "# use one.list_datasets to find all datasets contained in the session\n",
        "# use the kwarg collection to restrict the datasets"
      ]
    },
    {
      "cell_type": "markdown",
      "metadata": {
        "id": "gUt9ebDw6irs"
      },
      "source": [
        "# Searching for experiments"
      ]
    },
    {
      "cell_type": "markdown",
      "metadata": {
        "id": "V8llQkHW65yN"
      },
      "source": [
        "## one.search and one.search_insertions"
      ]
    },
    {
      "cell_type": "code",
      "execution_count": null,
      "metadata": {
        "id": "UcmbziT26xQt"
      },
      "outputs": [],
      "source": [
        "# Find sessions from subject KS023\n",
        "sessions = one.search(subject='KS023')\n",
        "\n",
        "# Find insertions for the subject KS023\n",
        "insertions = one.search_insertions(subject='KS023')"
      ]
    },
    {
      "cell_type": "markdown",
      "metadata": {
        "id": "eG4SWpAp7H91"
      },
      "source": [
        "## one.search_terms"
      ]
    },
    {
      "cell_type": "code",
      "execution_count": null,
      "metadata": {
        "id": "S4JHUJVv7Jg4",
        "colab": {
          "base_uri": "https://localhost:8080/"
        },
        "outputId": "57f5a1cc-a33e-4721-cd42-05f40be473ea"
      },
      "outputs": [
        {
          "output_type": "stream",
          "name": "stdout",
          "text": [
            "('users',\n",
            " 'json',\n",
            " 'tag',\n",
            " 'atlas_name',\n",
            " 'type',\n",
            " 'id',\n",
            " 'nickname',\n",
            " 'name',\n",
            " 'performance_lte',\n",
            " 'end_time',\n",
            " 'qc',\n",
            " 'atlas_id',\n",
            " 'histology',\n",
            " 'dataset',\n",
            " 'django',\n",
            " 'extended_qc',\n",
            " 'dataset_types',\n",
            " 'task_protocol',\n",
            " 'performance_gte',\n",
            " 'datasets',\n",
            " 'n_trials',\n",
            " 'laboratory',\n",
            " 'projects',\n",
            " 'project',\n",
            " 'parent_session',\n",
            " 'date_range',\n",
            " 'limit',\n",
            " 'number',\n",
            " 'subject',\n",
            " 'location',\n",
            " 'offset',\n",
            " 'start_time',\n",
            " 'n_correct_trials',\n",
            " 'procedures',\n",
            " 'atlas_acronym',\n",
            " 'narrative',\n",
            " 'auto_datetime')\n"
          ]
        }
      ],
      "source": [
        "# Search terms for\n",
        "from pprint import pprint\n",
        "search_terms = one.search_terms('remote')\n",
        "pprint(search_terms)"
      ]
    },
    {
      "cell_type": "code",
      "execution_count": null,
      "metadata": {
        "id": "BpZuleP67OTf",
        "colab": {
          "base_uri": "https://localhost:8080/"
        },
        "outputId": "78c4c204-9be5-4897-af11-0397cd29c8e9"
      },
      "outputs": [
        {
          "output_type": "stream",
          "name": "stdout",
          "text": [
            "('limit',\n",
            " 'offset',\n",
            " 'id',\n",
            " 'name',\n",
            " 'session',\n",
            " 'model',\n",
            " 'serial',\n",
            " 'auto_datetime',\n",
            " 'datasets',\n",
            " 'chronic_insertion',\n",
            " 'django',\n",
            " 'subject',\n",
            " 'date',\n",
            " 'experiment_number',\n",
            " 'dataset_types',\n",
            " 'lab',\n",
            " 'project',\n",
            " 'task_protocol',\n",
            " 'tag',\n",
            " 'atlas_name',\n",
            " 'atlas_acronym',\n",
            " 'atlas_id')\n"
          ]
        }
      ],
      "source": [
        "# Search terms for insertions\n",
        "search_terms = one.search_terms('remote', 'insertions')\n",
        "pprint(search_terms)"
      ]
    },
    {
      "cell_type": "markdown",
      "metadata": {
        "id": "yAQlvLtz-CIX"
      },
      "source": [
        "## Search examples"
      ]
    },
    {
      "cell_type": "code",
      "execution_count": null,
      "metadata": {
        "id": "NtzbFdRo-Gi5",
        "colab": {
          "base_uri": "https://localhost:8080/"
        },
        "outputId": "f926532c-b8b4-4ee3-e622-42feafdb05c8"
      },
      "outputs": [
        {
          "output_type": "stream",
          "name": "stdout",
          "text": [
            "No. of detected sessions: 479\n",
            "No. of detected insertions: 719\n"
          ]
        }
      ],
      "source": [
        "# Search for sessions/ insertions with a specific dataset\n",
        "dataset = 'spikes.times.npy'\n",
        "# query sessions endpoint\n",
        "sessions = one.search(dataset=dataset)\n",
        "print(f'No. of detected sessions: {len(sessions)}')\n",
        "\n",
        "# query insertions endpoint\n",
        "insertions = one.search_insertions(datasets=dataset)\n",
        "print(f'No. of detected insertions: {len(insertions)}')"
      ]
    },
    {
      "cell_type": "code",
      "execution_count": null,
      "metadata": {
        "id": "xNYGDGPg-Q-q",
        "colab": {
          "base_uri": "https://localhost:8080/"
        },
        "outputId": "1d02e123-4d73-416d-8fe8-4404a1c4349e"
      },
      "outputs": [
        {
          "output_type": "stream",
          "name": "stdout",
          "text": [
            "No. of detected sessions: 201\n",
            "No. of detected insertions: 201\n"
          ]
        }
      ],
      "source": [
        "# Search for sessions/ insertions that record from a specific brain are\n",
        "brain_acronym = 'CA1'\n",
        "# query sessions endpoint\n",
        "sessions = one.search(atlas_acronym=brain_acronym, query_type='remote')\n",
        "print(f'No. of detected sessions: {len(sessions)}')\n",
        "\n",
        "# query insertions endpoint\n",
        "insertions = one.search_insertions(atlas_acronym=brain_acronym)\n",
        "print(f'No. of detected insertions: {len(insertions)}')"
      ]
    },
    {
      "cell_type": "markdown",
      "metadata": {
        "id": "PyXPUMzm-4LH"
      },
      "source": [
        "## Exercise 3"
      ]
    },
    {
      "cell_type": "markdown",
      "metadata": {
        "id": "0R0hqmlD-54v"
      },
      "source": [
        "Find the number of sessions that pass through the brain region `VPM` and have DLC lick.times.npy data"
      ]
    },
    {
      "cell_type": "code",
      "execution_count": null,
      "metadata": {
        "id": "isuR2CWz--Xt",
        "colab": {
          "base_uri": "https://localhost:8080/"
        },
        "outputId": "4b282e01-7c72-4639-c80a-2eb88ab3deb8"
      },
      "outputs": [
        {
          "output_type": "stream",
          "name": "stdout",
          "text": [
            "No. of detected sessions: 48\n"
          ]
        }
      ],
      "source": [
        "brain_acronym = 'VPM'\n",
        "dset = 'licks.times.npy'\n",
        "# query sessions endpoint using one.search make sure to add the kwarg query_type='remote'\n",
        "sessions = one.search(atlas_acronym=brain_acronym, query_type='remote')\n",
        "print(f'No. of detected sessions: {len(sessions)}')"
      ]
    },
    {
      "cell_type": "markdown",
      "metadata": {
        "id": "vfH3Qj6nFLad"
      },
      "source": [
        "# Loading data for an experiment"
      ]
    },
    {
      "cell_type": "markdown",
      "metadata": {
        "id": "a3nVbIjZFh9Z"
      },
      "source": [
        "## one.load_dataset/s"
      ]
    },
    {
      "cell_type": "code",
      "execution_count": null,
      "metadata": {
        "id": "0dMdP2wRI3Xg",
        "colab": {
          "base_uri": "https://localhost:8080/"
        },
        "outputId": "e91c088a-3608-4c1e-83fa-15dcbbb8eeee"
      },
      "outputs": [
        {
          "output_type": "stream",
          "name": "stderr",
          "text": [
            "/root/Downloads/ONE/openalyx.internationalbrainlab.org/cortexlab/Subjects/KS023/2019-12-10/001/alf/probe00/pykilosort/clusters.amps.npy: 100%|██████████| 13.8k/13.8k [00:00<00:00, 85.8kB/s]\n"
          ]
        }
      ],
      "source": [
        "# Load in a single dataset\n",
        "dataset = 'clusters.amps.npy'\n",
        "cluster_amps = one.load_dataset(eid, dataset, collection='alf/probe00/pykilosort')"
      ]
    },
    {
      "cell_type": "code",
      "execution_count": null,
      "metadata": {
        "id": "8931YMLcig2_",
        "colab": {
          "base_uri": "https://localhost:8080/"
        },
        "outputId": "b631ebc3-86a7-4ce1-b788-ab4008d925bd"
      },
      "outputs": [
        {
          "output_type": "stream",
          "name": "stderr",
          "text": [
            "/root/Downloads/ONE/openalyx.internationalbrainlab.org/cortexlab/Subjects/KS023/2019-12-10/001/alf/probe00/pykilosort/clusters.depths.npy: 100%|██████████| 6.96k/6.96k [00:00<00:00, 41.9kB/s]\n"
          ]
        }
      ],
      "source": [
        "# Load in a list of datasets, need to provide list of collections too\n",
        "datasets = ['clusters.amps.npy', 'clusters.depths.npy']\n",
        "(cluster_amps, cluster_depths), info = one.load_datasets(eid, datasets, collections=['alf/probe00/pykilosort', 'alf/probe00/pykilosort'])"
      ]
    },
    {
      "cell_type": "markdown",
      "metadata": {
        "id": "XwrchQk8Fj6q"
      },
      "source": [
        "## one.load_object"
      ]
    },
    {
      "cell_type": "code",
      "execution_count": null,
      "metadata": {
        "id": "fMGoLKibkFKF",
        "colab": {
          "base_uri": "https://localhost:8080/"
        },
        "outputId": "b9c9765c-87aa-4ac4-81ea-4292c39f23c9"
      },
      "outputs": [
        {
          "output_type": "stream",
          "name": "stderr",
          "text": [
            "/root/Downloads/ONE/openalyx.internationalbrainlab.org/cortexlab/Subjects/KS023/2019-12-10/001/alf/probe00/pykilosort/clusters.waveforms.npy: 100%|██████████| 17.9M/17.9M [00:01<00:00, 11.9MB/s]\n",
            "/root/Downloads/ONE/openalyx.internationalbrainlab.org/cortexlab/Subjects/KS023/2019-12-10/001/alf/probe00/pykilosort/clusters.waveformsChannels.npy: 100%|██████████| 219k/219k [00:00<00:00, 1.33MB/s]\n",
            "/root/Downloads/ONE/openalyx.internationalbrainlab.org/cortexlab/Subjects/KS023/2019-12-10/001/alf/probe00/pykilosort/clusters.channels.npy: 100%|██████████| 13.8k/13.8k [00:00<00:00, 86.7kB/s]\n",
            "/root/Downloads/ONE/openalyx.internationalbrainlab.org/cortexlab/Subjects/KS023/2019-12-10/001/alf/probe00/pykilosort/clusters.uuids.csv: 100%|██████████| 63.2k/63.2k [00:00<00:00, 400kB/s]\n",
            "/root/Downloads/ONE/openalyx.internationalbrainlab.org/cortexlab/Subjects/KS023/2019-12-10/001/alf/probe00/pykilosort/clusters.metrics.pqt: 100%|██████████| 143k/143k [00:00<00:00, 882kB/s]\n",
            "/root/Downloads/ONE/openalyx.internationalbrainlab.org/cortexlab/Subjects/KS023/2019-12-10/001/alf/probe00/pykilosort/clusters.peakToTrough.npy: 100%|██████████| 13.8k/13.8k [00:00<00:00, 88.7kB/s]"
          ]
        },
        {
          "output_type": "stream",
          "name": "stdout",
          "text": [
            "dict_keys(['waveforms', 'waveformsChannels', 'amps', 'channels', 'depths', 'uuids', 'metrics', 'peakToTrough'])\n"
          ]
        },
        {
          "output_type": "stream",
          "name": "stderr",
          "text": [
            "\n"
          ]
        }
      ],
      "source": [
        "# Load in an object\n",
        "obj = 'clusters'\n",
        "clusters = one.load_object(eid, obj, collection='alf/probe00/pykilosort')\n",
        "print(clusters.keys())"
      ]
    },
    {
      "cell_type": "markdown",
      "metadata": {
        "id": "w9d_RKYDmzk2"
      },
      "source": [
        "## Session Loader"
      ]
    },
    {
      "cell_type": "code",
      "execution_count": null,
      "metadata": {
        "id": "8QlLSyRRmw6E",
        "colab": {
          "base_uri": "https://localhost:8080/"
        },
        "outputId": "64d9620c-3693-4e59-a179-52dd9ab7812c"
      },
      "outputs": [
        {
          "output_type": "stream",
          "name": "stderr",
          "text": [
            "/root/Downloads/ONE/openalyx.internationalbrainlab.org/hoferlab/Subjects/SWC_043/2020-09-21/001/alf/_ibl_trials.goCueTrigger_times.npy: 100%|██████████| 4.36k/4.36k [00:00<00:00, 26.6kB/s]\n",
            "/root/Downloads/ONE/openalyx.internationalbrainlab.org/hoferlab/Subjects/SWC_043/2020-09-21/001/alf/_ibl_trials.table.pqt: 100%|██████████| 45.0k/45.0k [00:00<00:00, 194kB/s]\n",
            "/root/Downloads/ONE/openalyx.internationalbrainlab.org/hoferlab/Subjects/SWC_043/2020-09-21/001/alf/_ibl_trials.stimOff_times.npy: 100%|██████████| 4.36k/4.36k [00:00<00:00, 27.1kB/s]\n",
            "/root/Downloads/ONE/openalyx.internationalbrainlab.org/hoferlab/Subjects/SWC_043/2020-09-21/001/alf/_ibl_wheel.timestamps.npy: 100%|██████████| 8.08M/8.08M [00:00<00:00, 11.4MB/s]\n",
            "/root/Downloads/ONE/openalyx.internationalbrainlab.org/hoferlab/Subjects/SWC_043/2020-09-21/001/alf/_ibl_wheel.position.npy: 100%|██████████| 8.08M/8.08M [00:00<00:00, 19.7MB/s]\n",
            "/root/Downloads/ONE/openalyx.internationalbrainlab.org/hoferlab/Subjects/SWC_043/2020-09-21/001/alf/#2022-01-31#/_ibl_leftCamera.dlc.pqt: 100%|██████████| 36.5M/36.5M [00:03<00:00, 11.0MB/s]\n",
            "/root/Downloads/ONE/openalyx.internationalbrainlab.org/hoferlab/Subjects/SWC_043/2020-09-21/001/alf/_ibl_leftCamera.times.npy: 100%|██████████| 1.92M/1.92M [00:00<00:00, 5.54MB/s]\n",
            "/root/Downloads/ONE/openalyx.internationalbrainlab.org/hoferlab/Subjects/SWC_043/2020-09-21/001/alf/#2022-01-31#/_ibl_rightCamera.dlc.pqt: 100%|██████████| 83.0M/83.0M [00:01<00:00, 56.6MB/s]\n",
            "/root/Downloads/ONE/openalyx.internationalbrainlab.org/hoferlab/Subjects/SWC_043/2020-09-21/001/alf/_ibl_rightCamera.times.npy: 100%|██████████| 4.82M/4.82M [00:00<00:00, 20.6MB/s]\n",
            "/root/Downloads/ONE/openalyx.internationalbrainlab.org/hoferlab/Subjects/SWC_043/2020-09-21/001/alf/#2022-01-31#/_ibl_bodyCamera.dlc.pqt: 100%|██████████| 2.06M/2.06M [00:00<00:00, 3.85MB/s]\n",
            "/root/Downloads/ONE/openalyx.internationalbrainlab.org/hoferlab/Subjects/SWC_043/2020-09-21/001/alf/_ibl_bodyCamera.times.npy: 100%|██████████| 963k/963k [00:00<00:00, 5.74MB/s]\n"
          ]
        }
      ],
      "source": [
        "# 1. Load session data\n",
        "from brainbox.io.one import SessionLoader\n",
        "from one.api import ONE\n",
        "one = ONE()\n",
        "\n",
        "# Select an eid\n",
        "eid = '4ecb5d24-f5cc-402c-be28-9d0f7cb14b3a'\n",
        "\n",
        "# Load data\n",
        "sl = SessionLoader(eid=eid, one=one)\n",
        "sl.load_trials()\n",
        "sl.load_wheel()\n",
        "sl.load_pose()"
      ]
    },
    {
      "cell_type": "markdown",
      "metadata": {
        "id": "-9qCK_i_ni6O"
      },
      "source": [
        "## SpikeSorting Loader"
      ]
    },
    {
      "cell_type": "code",
      "execution_count": null,
      "metadata": {
        "id": "K5c5afC5nofE",
        "colab": {
          "base_uri": "https://localhost:8080/"
        },
        "outputId": "d2f1f5d3-c78f-4536-f22a-5b3548f2a3ca"
      },
      "outputs": [
        {
          "output_type": "stream",
          "name": "stdout",
          "text": [
            "Downloading: /root/Downloads/ONE/openalyx.internationalbrainlab.org/histology/ATLAS/Needles/Allen/average_template_25.nrrd Bytes: 32998960\n"
          ]
        },
        {
          "output_type": "stream",
          "name": "stderr",
          "text": [
            "100%|██████████| 31.470260620117188/31.470260620117188 [00:01<00:00, 16.51it/s]\n"
          ]
        },
        {
          "output_type": "stream",
          "name": "stdout",
          "text": [
            "Downloading: /root/Downloads/ONE/openalyx.internationalbrainlab.org/histology/ATLAS/Needles/Allen/annotation_25.nrrd Bytes: 4035363\n"
          ]
        },
        {
          "output_type": "stream",
          "name": "stderr",
          "text": [
            "100%|██████████| 3.848422050476074/3.848422050476074 [00:00<00:00,  5.37it/s]\n",
            "/root/Downloads/ONE/openalyx.internationalbrainlab.org/danlab/Subjects/DY_014/2020-07-14/001/alf/probe00/pykilosort/spikes.depths.npy: 100%|██████████| 91.9M/91.9M [00:01<00:00, 51.9MB/s]\n",
            "/root/Downloads/ONE/openalyx.internationalbrainlab.org/danlab/Subjects/DY_014/2020-07-14/001/alf/probe00/pykilosort/spikes.clusters.npy: 100%|██████████| 46.0M/46.0M [00:00<00:00, 128MB/s]\n",
            "/root/Downloads/ONE/openalyx.internationalbrainlab.org/danlab/Subjects/DY_014/2020-07-14/001/alf/probe00/pykilosort/spikes.times.npy: 100%|██████████| 91.9M/91.9M [00:00<00:00, 143MB/s]\n",
            "/root/Downloads/ONE/openalyx.internationalbrainlab.org/danlab/Subjects/DY_014/2020-07-14/001/alf/probe00/pykilosort/spikes.amps.npy: 100%|██████████| 91.9M/91.9M [00:00<00:00, 130MB/s]\n",
            "/root/Downloads/ONE/openalyx.internationalbrainlab.org/danlab/Subjects/DY_014/2020-07-14/001/alf/probe00/pykilosort/clusters.uuids.csv: 100%|██████████| 14.2k/14.2k [00:00<00:00, 90.3kB/s]\n",
            "/root/Downloads/ONE/openalyx.internationalbrainlab.org/danlab/Subjects/DY_014/2020-07-14/001/alf/probe00/pykilosort/clusters.channels.npy: 100%|██████████| 3.19k/3.19k [00:00<00:00, 20.6kB/s]\n",
            "/root/Downloads/ONE/openalyx.internationalbrainlab.org/danlab/Subjects/DY_014/2020-07-14/001/alf/probe00/pykilosort/clusters.metrics.pqt: 100%|██████████| 52.4k/52.4k [00:00<00:00, 236kB/s]\n",
            "/root/Downloads/ONE/openalyx.internationalbrainlab.org/danlab/Subjects/DY_014/2020-07-14/001/alf/probe00/pykilosort/clusters.depths.npy: 100%|██████████| 1.66k/1.66k [00:00<00:00, 10.5kB/s]\n",
            "/root/Downloads/ONE/openalyx.internationalbrainlab.org/danlab/Subjects/DY_014/2020-07-14/001/alf/probe00/pykilosort/channels.rawInd.npy: 100%|██████████| 3.20k/3.20k [00:00<00:00, 20.2kB/s]\n",
            "/root/Downloads/ONE/openalyx.internationalbrainlab.org/danlab/Subjects/DY_014/2020-07-14/001/alf/probe00/pykilosort/channels.brainLocationIds_ccf_2017.npy: 100%|██████████| 3.20k/3.20k [00:00<00:00, 19.6kB/s]\n",
            "/root/Downloads/ONE/openalyx.internationalbrainlab.org/danlab/Subjects/DY_014/2020-07-14/001/alf/probe00/pykilosort/channels.localCoordinates.npy: 100%|██████████| 3.20k/3.20k [00:00<00:00, 15.1kB/s]\n",
            "/root/Downloads/ONE/openalyx.internationalbrainlab.org/danlab/Subjects/DY_014/2020-07-14/001/alf/probe00/pykilosort/channels.mlapdv.npy: 100%|██████████| 4.74k/4.74k [00:00<00:00, 23.2kB/s]\n",
            "/root/Downloads/ONE/openalyx.internationalbrainlab.org/danlab/Subjects/DY_014/2020-07-14/001/alf/probe00/electrodeSites.mlapdv.npy: 100%|██████████| 4.74k/4.74k [00:00<00:00, 29.3kB/s]\n",
            "/root/Downloads/ONE/openalyx.internationalbrainlab.org/danlab/Subjects/DY_014/2020-07-14/001/alf/probe00/electrodeSites.localCoordinates.npy: 100%|██████████| 3.20k/3.20k [00:00<00:00, 20.2kB/s]\n",
            "/root/Downloads/ONE/openalyx.internationalbrainlab.org/danlab/Subjects/DY_014/2020-07-14/001/alf/probe00/electrodeSites.brainLocationIds_ccf_2017.npy: 100%|██████████| 3.20k/3.20k [00:00<00:00, 20.1kB/s]\n"
          ]
        }
      ],
      "source": [
        "# 2. Load spike sorting data\n",
        "from brainbox.io.one import SpikeSortingLoader\n",
        "\n",
        "\n",
        "# Select a pid\n",
        "pid = '695476f6-4c14-4a2f-b658-948514629079'\n",
        "\n",
        "# load data\n",
        "spike_loader = SpikeSortingLoader(pid=pid, one=one)\n",
        "spikes, clusters, channels = spike_loader.load_spike_sorting()\n",
        "clusters = spike_loader.merge_clusters(spikes, clusters, channels)"
      ]
    },
    {
      "cell_type": "markdown",
      "metadata": {
        "id": "Lrh6k_gle1hh"
      },
      "source": [
        "# Exploring the trials data"
      ]
    },
    {
      "cell_type": "markdown",
      "metadata": {
        "id": "Cbcaffo5e3R-"
      },
      "source": [
        "In this example we show how to\n",
        "\n",
        "1.   Load in trials data for a particular session using `one.load_object`\n",
        "2.   Explore the trials object\n",
        "3.   Compute the reaction time for each trial in the session\n",
        "4.   Compute whether there are differences in reaction time depending on left vs right trial type\n"
      ]
    },
    {
      "cell_type": "code",
      "execution_count": null,
      "metadata": {
        "id": "Ft0mjfgle5-H",
        "colab": {
          "base_uri": "https://localhost:8080/"
        },
        "outputId": "ecddf54f-9e8c-44c4-ec5c-77739c1a1226"
      },
      "outputs": [
        {
          "output_type": "stream",
          "name": "stderr",
          "text": [
            "/root/Downloads/ONE/openalyx.internationalbrainlab.org/danlab/Subjects/DY_014/2020-07-14/001/alf/_ibl_trials.table.pqt: 100%|██████████| 50.4k/50.4k [00:00<00:00, 228kB/s]\n",
            "/root/Downloads/ONE/openalyx.internationalbrainlab.org/danlab/Subjects/DY_014/2020-07-14/001/alf/_ibl_trials.stimOff_times.npy: 100%|██████████| 4.99k/4.99k [00:00<00:00, 30.0kB/s]\n",
            "/root/Downloads/ONE/openalyx.internationalbrainlab.org/danlab/Subjects/DY_014/2020-07-14/001/alf/_ibl_trials.goCueTrigger_times.npy: 100%|██████████| 4.99k/4.99k [00:00<00:00, 32.3kB/s]\n"
          ]
        }
      ],
      "source": [
        "# 1. Load in trials data\n",
        "from one.api import ONE\n",
        "\n",
        "one = ONE()\n",
        "eid = '4720c98a-a305-4fba-affb-bbfa00a724a4'\n",
        "trials = one.load_object(eid, 'trials')"
      ]
    },
    {
      "cell_type": "code",
      "execution_count": null,
      "metadata": {
        "id": "Ga2gz4kRe9_r",
        "colab": {
          "base_uri": "https://localhost:8080/",
          "height": 783
        },
        "outputId": "90664f04-2c87-4e8e-ddf0-b3d7486805c0"
      },
      "outputs": [
        {
          "output_type": "stream",
          "name": "stdout",
          "text": [
            "Trials object has attributes: dict_keys(['stimOff_times', 'goCueTrigger_times', 'choice', 'contrastLeft', 'stimOn_times', 'response_times', 'goCue_times', 'firstMovement_times', 'probabilityLeft', 'contrastRight', 'feedbackType', 'rewardVolume', 'feedback_times', 'intervals'])\n",
            "\n",
            "\n",
            "stimOff_times has shape: (608,)\n",
            "goCueTrigger_times has shape: (608,)\n",
            "choice has shape: (608,)\n",
            "contrastLeft has shape: (608,)\n",
            "stimOn_times has shape: (608,)\n",
            "response_times has shape: (608,)\n",
            "goCue_times has shape: (608,)\n",
            "firstMovement_times has shape: (608,)\n",
            "probabilityLeft has shape: (608,)\n",
            "contrastRight has shape: (608,)\n",
            "feedbackType has shape: (608,)\n",
            "rewardVolume has shape: (608,)\n",
            "feedback_times has shape: (608,)\n",
            "intervals has shape: (608, 2)\n",
            "\n",
            "\n"
          ]
        },
        {
          "output_type": "display_data",
          "data": {
            "text/plain": [
              "     stimOff_times  goCueTrigger_times  choice  contrastLeft  stimOn_times  \\\n",
              "0        15.867546           14.145882    -1.0           NaN     14.145685   \n",
              "1        19.617038           18.296189     1.0        0.2500     18.296037   \n",
              "2        22.462120           20.979787    -1.0           NaN     20.979602   \n",
              "3        25.212778           23.834504    -1.0           NaN     23.834316   \n",
              "4        28.034496           26.650927    -1.0           NaN     26.650735   \n",
              "..             ...                 ...     ...           ...           ...   \n",
              "603    2883.413596         2881.596802    -1.0           NaN   2881.596645   \n",
              "604    2888.246880         2885.685226    -1.0        0.0625   2885.685069   \n",
              "605    2891.918113         2890.201343    -1.0           NaN   2890.201184   \n",
              "606    2950.578646         2894.046465     1.0        0.1250   2894.046333   \n",
              "607    3038.844185         2952.767089     1.0           NaN   2952.766894   \n",
              "\n",
              "     response_times  goCue_times  firstMovement_times  probabilityLeft  \\\n",
              "0         14.800484    14.146585            14.479997              0.5   \n",
              "1         18.552188    18.296837            18.437997              0.5   \n",
              "2         21.396189    20.980468            21.110997              0.5   \n",
              "3         24.152707    23.835416            24.047997              0.5   \n",
              "4         26.963229    26.651735            26.735997              0.5   \n",
              "..              ...          ...                  ...              ...   \n",
              "603     2882.352307  2881.597778          2882.013997              0.2   \n",
              "604     2886.185928  2885.686069          2885.973997              0.2   \n",
              "605     2890.846547  2890.201984          2890.420997              0.2   \n",
              "606     2949.519476  2894.047266          2894.367997              0.2   \n",
              "607     2987.371420  2952.768060          2978.021997              0.2   \n",
              "\n",
              "     contrastRight  feedbackType  rewardVolume  feedback_times  intervals_0  \\\n",
              "0            1.000           1.0           1.5       14.800586    10.969770   \n",
              "1              NaN           1.0           1.5       18.552278    16.748692   \n",
              "2            0.250           1.0           1.5       21.396293    20.487884   \n",
              "3            0.125           1.0           1.5       24.152818    23.336199   \n",
              "4            0.250           1.0           1.5       26.963303    26.085824   \n",
              "..             ...           ...           ...             ...          ...   \n",
              "603          0.000           1.0           1.5     2882.352403  2881.060798   \n",
              "604            NaN          -1.0           0.0     2886.186719  2884.817523   \n",
              "605          0.250           1.0           1.5     2890.846653  2889.643640   \n",
              "606            NaN           1.0           1.5     2949.519585  2893.415063   \n",
              "607          0.000          -1.0           0.0     2987.372200  2952.173486   \n",
              "\n",
              "     intervals_1  \n",
              "0      16.367592  \n",
              "1      20.117087  \n",
              "2      22.962199  \n",
              "3      25.712823  \n",
              "4      28.534539  \n",
              "..           ...  \n",
              "603  2883.913720  \n",
              "604  2888.746939  \n",
              "605  2892.418160  \n",
              "606  2951.078685  \n",
              "607  2989.928633  \n",
              "\n",
              "[608 rows x 15 columns]"
            ],
            "text/html": [
              "\n",
              "  <div id=\"df-d634f99b-bc52-4b34-8169-ce02d9a5317f\" class=\"colab-df-container\">\n",
              "    <div>\n",
              "<style scoped>\n",
              "    .dataframe tbody tr th:only-of-type {\n",
              "        vertical-align: middle;\n",
              "    }\n",
              "\n",
              "    .dataframe tbody tr th {\n",
              "        vertical-align: top;\n",
              "    }\n",
              "\n",
              "    .dataframe thead th {\n",
              "        text-align: right;\n",
              "    }\n",
              "</style>\n",
              "<table border=\"1\" class=\"dataframe\">\n",
              "  <thead>\n",
              "    <tr style=\"text-align: right;\">\n",
              "      <th></th>\n",
              "      <th>stimOff_times</th>\n",
              "      <th>goCueTrigger_times</th>\n",
              "      <th>choice</th>\n",
              "      <th>contrastLeft</th>\n",
              "      <th>stimOn_times</th>\n",
              "      <th>response_times</th>\n",
              "      <th>goCue_times</th>\n",
              "      <th>firstMovement_times</th>\n",
              "      <th>probabilityLeft</th>\n",
              "      <th>contrastRight</th>\n",
              "      <th>feedbackType</th>\n",
              "      <th>rewardVolume</th>\n",
              "      <th>feedback_times</th>\n",
              "      <th>intervals_0</th>\n",
              "      <th>intervals_1</th>\n",
              "    </tr>\n",
              "  </thead>\n",
              "  <tbody>\n",
              "    <tr>\n",
              "      <th>0</th>\n",
              "      <td>15.867546</td>\n",
              "      <td>14.145882</td>\n",
              "      <td>-1.0</td>\n",
              "      <td>NaN</td>\n",
              "      <td>14.145685</td>\n",
              "      <td>14.800484</td>\n",
              "      <td>14.146585</td>\n",
              "      <td>14.479997</td>\n",
              "      <td>0.5</td>\n",
              "      <td>1.000</td>\n",
              "      <td>1.0</td>\n",
              "      <td>1.5</td>\n",
              "      <td>14.800586</td>\n",
              "      <td>10.969770</td>\n",
              "      <td>16.367592</td>\n",
              "    </tr>\n",
              "    <tr>\n",
              "      <th>1</th>\n",
              "      <td>19.617038</td>\n",
              "      <td>18.296189</td>\n",
              "      <td>1.0</td>\n",
              "      <td>0.2500</td>\n",
              "      <td>18.296037</td>\n",
              "      <td>18.552188</td>\n",
              "      <td>18.296837</td>\n",
              "      <td>18.437997</td>\n",
              "      <td>0.5</td>\n",
              "      <td>NaN</td>\n",
              "      <td>1.0</td>\n",
              "      <td>1.5</td>\n",
              "      <td>18.552278</td>\n",
              "      <td>16.748692</td>\n",
              "      <td>20.117087</td>\n",
              "    </tr>\n",
              "    <tr>\n",
              "      <th>2</th>\n",
              "      <td>22.462120</td>\n",
              "      <td>20.979787</td>\n",
              "      <td>-1.0</td>\n",
              "      <td>NaN</td>\n",
              "      <td>20.979602</td>\n",
              "      <td>21.396189</td>\n",
              "      <td>20.980468</td>\n",
              "      <td>21.110997</td>\n",
              "      <td>0.5</td>\n",
              "      <td>0.250</td>\n",
              "      <td>1.0</td>\n",
              "      <td>1.5</td>\n",
              "      <td>21.396293</td>\n",
              "      <td>20.487884</td>\n",
              "      <td>22.962199</td>\n",
              "    </tr>\n",
              "    <tr>\n",
              "      <th>3</th>\n",
              "      <td>25.212778</td>\n",
              "      <td>23.834504</td>\n",
              "      <td>-1.0</td>\n",
              "      <td>NaN</td>\n",
              "      <td>23.834316</td>\n",
              "      <td>24.152707</td>\n",
              "      <td>23.835416</td>\n",
              "      <td>24.047997</td>\n",
              "      <td>0.5</td>\n",
              "      <td>0.125</td>\n",
              "      <td>1.0</td>\n",
              "      <td>1.5</td>\n",
              "      <td>24.152818</td>\n",
              "      <td>23.336199</td>\n",
              "      <td>25.712823</td>\n",
              "    </tr>\n",
              "    <tr>\n",
              "      <th>4</th>\n",
              "      <td>28.034496</td>\n",
              "      <td>26.650927</td>\n",
              "      <td>-1.0</td>\n",
              "      <td>NaN</td>\n",
              "      <td>26.650735</td>\n",
              "      <td>26.963229</td>\n",
              "      <td>26.651735</td>\n",
              "      <td>26.735997</td>\n",
              "      <td>0.5</td>\n",
              "      <td>0.250</td>\n",
              "      <td>1.0</td>\n",
              "      <td>1.5</td>\n",
              "      <td>26.963303</td>\n",
              "      <td>26.085824</td>\n",
              "      <td>28.534539</td>\n",
              "    </tr>\n",
              "    <tr>\n",
              "      <th>...</th>\n",
              "      <td>...</td>\n",
              "      <td>...</td>\n",
              "      <td>...</td>\n",
              "      <td>...</td>\n",
              "      <td>...</td>\n",
              "      <td>...</td>\n",
              "      <td>...</td>\n",
              "      <td>...</td>\n",
              "      <td>...</td>\n",
              "      <td>...</td>\n",
              "      <td>...</td>\n",
              "      <td>...</td>\n",
              "      <td>...</td>\n",
              "      <td>...</td>\n",
              "      <td>...</td>\n",
              "    </tr>\n",
              "    <tr>\n",
              "      <th>603</th>\n",
              "      <td>2883.413596</td>\n",
              "      <td>2881.596802</td>\n",
              "      <td>-1.0</td>\n",
              "      <td>NaN</td>\n",
              "      <td>2881.596645</td>\n",
              "      <td>2882.352307</td>\n",
              "      <td>2881.597778</td>\n",
              "      <td>2882.013997</td>\n",
              "      <td>0.2</td>\n",
              "      <td>0.000</td>\n",
              "      <td>1.0</td>\n",
              "      <td>1.5</td>\n",
              "      <td>2882.352403</td>\n",
              "      <td>2881.060798</td>\n",
              "      <td>2883.913720</td>\n",
              "    </tr>\n",
              "    <tr>\n",
              "      <th>604</th>\n",
              "      <td>2888.246880</td>\n",
              "      <td>2885.685226</td>\n",
              "      <td>-1.0</td>\n",
              "      <td>0.0625</td>\n",
              "      <td>2885.685069</td>\n",
              "      <td>2886.185928</td>\n",
              "      <td>2885.686069</td>\n",
              "      <td>2885.973997</td>\n",
              "      <td>0.2</td>\n",
              "      <td>NaN</td>\n",
              "      <td>-1.0</td>\n",
              "      <td>0.0</td>\n",
              "      <td>2886.186719</td>\n",
              "      <td>2884.817523</td>\n",
              "      <td>2888.746939</td>\n",
              "    </tr>\n",
              "    <tr>\n",
              "      <th>605</th>\n",
              "      <td>2891.918113</td>\n",
              "      <td>2890.201343</td>\n",
              "      <td>-1.0</td>\n",
              "      <td>NaN</td>\n",
              "      <td>2890.201184</td>\n",
              "      <td>2890.846547</td>\n",
              "      <td>2890.201984</td>\n",
              "      <td>2890.420997</td>\n",
              "      <td>0.2</td>\n",
              "      <td>0.250</td>\n",
              "      <td>1.0</td>\n",
              "      <td>1.5</td>\n",
              "      <td>2890.846653</td>\n",
              "      <td>2889.643640</td>\n",
              "      <td>2892.418160</td>\n",
              "    </tr>\n",
              "    <tr>\n",
              "      <th>606</th>\n",
              "      <td>2950.578646</td>\n",
              "      <td>2894.046465</td>\n",
              "      <td>1.0</td>\n",
              "      <td>0.1250</td>\n",
              "      <td>2894.046333</td>\n",
              "      <td>2949.519476</td>\n",
              "      <td>2894.047266</td>\n",
              "      <td>2894.367997</td>\n",
              "      <td>0.2</td>\n",
              "      <td>NaN</td>\n",
              "      <td>1.0</td>\n",
              "      <td>1.5</td>\n",
              "      <td>2949.519585</td>\n",
              "      <td>2893.415063</td>\n",
              "      <td>2951.078685</td>\n",
              "    </tr>\n",
              "    <tr>\n",
              "      <th>607</th>\n",
              "      <td>3038.844185</td>\n",
              "      <td>2952.767089</td>\n",
              "      <td>1.0</td>\n",
              "      <td>NaN</td>\n",
              "      <td>2952.766894</td>\n",
              "      <td>2987.371420</td>\n",
              "      <td>2952.768060</td>\n",
              "      <td>2978.021997</td>\n",
              "      <td>0.2</td>\n",
              "      <td>0.000</td>\n",
              "      <td>-1.0</td>\n",
              "      <td>0.0</td>\n",
              "      <td>2987.372200</td>\n",
              "      <td>2952.173486</td>\n",
              "      <td>2989.928633</td>\n",
              "    </tr>\n",
              "  </tbody>\n",
              "</table>\n",
              "<p>608 rows × 15 columns</p>\n",
              "</div>\n",
              "    <div class=\"colab-df-buttons\">\n",
              "\n",
              "  <div class=\"colab-df-container\">\n",
              "    <button class=\"colab-df-convert\" onclick=\"convertToInteractive('df-d634f99b-bc52-4b34-8169-ce02d9a5317f')\"\n",
              "            title=\"Convert this dataframe to an interactive table.\"\n",
              "            style=\"display:none;\">\n",
              "\n",
              "  <svg xmlns=\"http://www.w3.org/2000/svg\" height=\"24px\" viewBox=\"0 -960 960 960\">\n",
              "    <path d=\"M120-120v-720h720v720H120Zm60-500h600v-160H180v160Zm220 220h160v-160H400v160Zm0 220h160v-160H400v160ZM180-400h160v-160H180v160Zm440 0h160v-160H620v160ZM180-180h160v-160H180v160Zm440 0h160v-160H620v160Z\"/>\n",
              "  </svg>\n",
              "    </button>\n",
              "\n",
              "  <style>\n",
              "    .colab-df-container {\n",
              "      display:flex;\n",
              "      gap: 12px;\n",
              "    }\n",
              "\n",
              "    .colab-df-convert {\n",
              "      background-color: #E8F0FE;\n",
              "      border: none;\n",
              "      border-radius: 50%;\n",
              "      cursor: pointer;\n",
              "      display: none;\n",
              "      fill: #1967D2;\n",
              "      height: 32px;\n",
              "      padding: 0 0 0 0;\n",
              "      width: 32px;\n",
              "    }\n",
              "\n",
              "    .colab-df-convert:hover {\n",
              "      background-color: #E2EBFA;\n",
              "      box-shadow: 0px 1px 2px rgba(60, 64, 67, 0.3), 0px 1px 3px 1px rgba(60, 64, 67, 0.15);\n",
              "      fill: #174EA6;\n",
              "    }\n",
              "\n",
              "    .colab-df-buttons div {\n",
              "      margin-bottom: 4px;\n",
              "    }\n",
              "\n",
              "    [theme=dark] .colab-df-convert {\n",
              "      background-color: #3B4455;\n",
              "      fill: #D2E3FC;\n",
              "    }\n",
              "\n",
              "    [theme=dark] .colab-df-convert:hover {\n",
              "      background-color: #434B5C;\n",
              "      box-shadow: 0px 1px 3px 1px rgba(0, 0, 0, 0.15);\n",
              "      filter: drop-shadow(0px 1px 2px rgba(0, 0, 0, 0.3));\n",
              "      fill: #FFFFFF;\n",
              "    }\n",
              "  </style>\n",
              "\n",
              "    <script>\n",
              "      const buttonEl =\n",
              "        document.querySelector('#df-d634f99b-bc52-4b34-8169-ce02d9a5317f button.colab-df-convert');\n",
              "      buttonEl.style.display =\n",
              "        google.colab.kernel.accessAllowed ? 'block' : 'none';\n",
              "\n",
              "      async function convertToInteractive(key) {\n",
              "        const element = document.querySelector('#df-d634f99b-bc52-4b34-8169-ce02d9a5317f');\n",
              "        const dataTable =\n",
              "          await google.colab.kernel.invokeFunction('convertToInteractive',\n",
              "                                                    [key], {});\n",
              "        if (!dataTable) return;\n",
              "\n",
              "        const docLinkHtml = 'Like what you see? Visit the ' +\n",
              "          '<a target=\"_blank\" href=https://colab.research.google.com/notebooks/data_table.ipynb>data table notebook</a>'\n",
              "          + ' to learn more about interactive tables.';\n",
              "        element.innerHTML = '';\n",
              "        dataTable['output_type'] = 'display_data';\n",
              "        await google.colab.output.renderOutput(dataTable, element);\n",
              "        const docLink = document.createElement('div');\n",
              "        docLink.innerHTML = docLinkHtml;\n",
              "        element.appendChild(docLink);\n",
              "      }\n",
              "    </script>\n",
              "  </div>\n",
              "\n",
              "\n",
              "<div id=\"df-0e98e992-5456-445c-98e2-aa9e20870df0\">\n",
              "  <button class=\"colab-df-quickchart\" onclick=\"quickchart('df-0e98e992-5456-445c-98e2-aa9e20870df0')\"\n",
              "            title=\"Suggest charts\"\n",
              "            style=\"display:none;\">\n",
              "\n",
              "<svg xmlns=\"http://www.w3.org/2000/svg\" height=\"24px\"viewBox=\"0 0 24 24\"\n",
              "     width=\"24px\">\n",
              "    <g>\n",
              "        <path d=\"M19 3H5c-1.1 0-2 .9-2 2v14c0 1.1.9 2 2 2h14c1.1 0 2-.9 2-2V5c0-1.1-.9-2-2-2zM9 17H7v-7h2v7zm4 0h-2V7h2v10zm4 0h-2v-4h2v4z\"/>\n",
              "    </g>\n",
              "</svg>\n",
              "  </button>\n",
              "\n",
              "<style>\n",
              "  .colab-df-quickchart {\n",
              "      --bg-color: #E8F0FE;\n",
              "      --fill-color: #1967D2;\n",
              "      --hover-bg-color: #E2EBFA;\n",
              "      --hover-fill-color: #174EA6;\n",
              "      --disabled-fill-color: #AAA;\n",
              "      --disabled-bg-color: #DDD;\n",
              "  }\n",
              "\n",
              "  [theme=dark] .colab-df-quickchart {\n",
              "      --bg-color: #3B4455;\n",
              "      --fill-color: #D2E3FC;\n",
              "      --hover-bg-color: #434B5C;\n",
              "      --hover-fill-color: #FFFFFF;\n",
              "      --disabled-bg-color: #3B4455;\n",
              "      --disabled-fill-color: #666;\n",
              "  }\n",
              "\n",
              "  .colab-df-quickchart {\n",
              "    background-color: var(--bg-color);\n",
              "    border: none;\n",
              "    border-radius: 50%;\n",
              "    cursor: pointer;\n",
              "    display: none;\n",
              "    fill: var(--fill-color);\n",
              "    height: 32px;\n",
              "    padding: 0;\n",
              "    width: 32px;\n",
              "  }\n",
              "\n",
              "  .colab-df-quickchart:hover {\n",
              "    background-color: var(--hover-bg-color);\n",
              "    box-shadow: 0 1px 2px rgba(60, 64, 67, 0.3), 0 1px 3px 1px rgba(60, 64, 67, 0.15);\n",
              "    fill: var(--button-hover-fill-color);\n",
              "  }\n",
              "\n",
              "  .colab-df-quickchart-complete:disabled,\n",
              "  .colab-df-quickchart-complete:disabled:hover {\n",
              "    background-color: var(--disabled-bg-color);\n",
              "    fill: var(--disabled-fill-color);\n",
              "    box-shadow: none;\n",
              "  }\n",
              "\n",
              "  .colab-df-spinner {\n",
              "    border: 2px solid var(--fill-color);\n",
              "    border-color: transparent;\n",
              "    border-bottom-color: var(--fill-color);\n",
              "    animation:\n",
              "      spin 1s steps(1) infinite;\n",
              "  }\n",
              "\n",
              "  @keyframes spin {\n",
              "    0% {\n",
              "      border-color: transparent;\n",
              "      border-bottom-color: var(--fill-color);\n",
              "      border-left-color: var(--fill-color);\n",
              "    }\n",
              "    20% {\n",
              "      border-color: transparent;\n",
              "      border-left-color: var(--fill-color);\n",
              "      border-top-color: var(--fill-color);\n",
              "    }\n",
              "    30% {\n",
              "      border-color: transparent;\n",
              "      border-left-color: var(--fill-color);\n",
              "      border-top-color: var(--fill-color);\n",
              "      border-right-color: var(--fill-color);\n",
              "    }\n",
              "    40% {\n",
              "      border-color: transparent;\n",
              "      border-right-color: var(--fill-color);\n",
              "      border-top-color: var(--fill-color);\n",
              "    }\n",
              "    60% {\n",
              "      border-color: transparent;\n",
              "      border-right-color: var(--fill-color);\n",
              "    }\n",
              "    80% {\n",
              "      border-color: transparent;\n",
              "      border-right-color: var(--fill-color);\n",
              "      border-bottom-color: var(--fill-color);\n",
              "    }\n",
              "    90% {\n",
              "      border-color: transparent;\n",
              "      border-bottom-color: var(--fill-color);\n",
              "    }\n",
              "  }\n",
              "</style>\n",
              "\n",
              "  <script>\n",
              "    async function quickchart(key) {\n",
              "      const quickchartButtonEl =\n",
              "        document.querySelector('#' + key + ' button');\n",
              "      quickchartButtonEl.disabled = true;  // To prevent multiple clicks.\n",
              "      quickchartButtonEl.classList.add('colab-df-spinner');\n",
              "      try {\n",
              "        const charts = await google.colab.kernel.invokeFunction(\n",
              "            'suggestCharts', [key], {});\n",
              "      } catch (error) {\n",
              "        console.error('Error during call to suggestCharts:', error);\n",
              "      }\n",
              "      quickchartButtonEl.classList.remove('colab-df-spinner');\n",
              "      quickchartButtonEl.classList.add('colab-df-quickchart-complete');\n",
              "    }\n",
              "    (() => {\n",
              "      let quickchartButtonEl =\n",
              "        document.querySelector('#df-0e98e992-5456-445c-98e2-aa9e20870df0 button');\n",
              "      quickchartButtonEl.style.display =\n",
              "        google.colab.kernel.accessAllowed ? 'block' : 'none';\n",
              "    })();\n",
              "  </script>\n",
              "</div>\n",
              "    </div>\n",
              "  </div>\n"
            ],
            "application/vnd.google.colaboratory.intrinsic+json": {
              "type": "dataframe",
              "variable_name": "trials_df",
              "summary": "{\n  \"name\": \"trials_df\",\n  \"rows\": 608,\n  \"fields\": [\n    {\n      \"column\": \"stimOff_times\",\n      \"properties\": {\n        \"dtype\": \"number\",\n        \"std\": 813.2925077228773,\n        \"min\": 15.867546420015868,\n        \"max\": 3038.844185193039,\n        \"num_unique_values\": 608,\n        \"samples\": [\n          373.6782284403737,\n          50.028596640050026,\n          613.023958140613\n        ],\n        \"semantic_type\": \"\",\n        \"description\": \"\"\n      }\n    },\n    {\n      \"column\": \"goCueTrigger_times\",\n      \"properties\": {\n        \"dtype\": \"number\",\n        \"std\": 811.5155785139352,\n        \"min\": 14.145881698757332,\n        \"max\": 2952.767088721551,\n        \"num_unique_values\": 608,\n        \"samples\": [\n          372.27354490742607,\n          47.67898568448219,\n          611.6912696347738\n        ],\n        \"semantic_type\": \"\",\n        \"description\": \"\"\n      }\n    },\n    {\n      \"column\": \"choice\",\n      \"properties\": {\n        \"dtype\": \"number\",\n        \"std\": 0.9578482285806336,\n        \"min\": -1.0,\n        \"max\": 1.0,\n        \"num_unique_values\": 3,\n        \"samples\": [\n          -1.0,\n          1.0,\n          0.0\n        ],\n        \"semantic_type\": \"\",\n        \"description\": \"\"\n      }\n    },\n    {\n      \"column\": \"contrastLeft\",\n      \"properties\": {\n        \"dtype\": \"number\",\n        \"std\": 0.37453892129850413,\n        \"min\": 0.0,\n        \"max\": 1.0,\n        \"num_unique_values\": 5,\n        \"samples\": [\n          0.0625,\n          0.0,\n          1.0\n        ],\n        \"semantic_type\": \"\",\n        \"description\": \"\"\n      }\n    },\n    {\n      \"column\": \"stimOn_times\",\n      \"properties\": {\n        \"dtype\": \"number\",\n        \"std\": 811.5129630981046,\n        \"min\": 14.145685290014146,\n        \"max\": 2952.7668937829526,\n        \"num_unique_values\": 608,\n        \"samples\": [\n          372.2733689403723,\n          47.67886497004768,\n          611.6911247706117\n        ],\n        \"semantic_type\": \"\",\n        \"description\": \"\"\n      }\n    },\n    {\n      \"column\": \"response_times\",\n      \"properties\": {\n        \"dtype\": \"number\",\n        \"std\": 813.1076325529141,\n        \"min\": 14.800484196453048,\n        \"max\": 2987.3714203876507,\n        \"num_unique_values\": 608,\n        \"samples\": [\n          372.6026479692986,\n          47.97128774183141,\n          611.9494722186488\n        ],\n        \"semantic_type\": \"\",\n        \"description\": \"\"\n      }\n    },\n    {\n      \"column\": \"goCue_times\",\n      \"properties\": {\n        \"dtype\": \"number\",\n        \"std\": 811.5155719750823,\n        \"min\": 14.146585200014147,\n        \"max\": 2952.7680603329527,\n        \"num_unique_values\": 608,\n        \"samples\": [\n          372.27446883037226,\n          47.67973155004768,\n          611.6922246606117\n        ],\n        \"semantic_type\": \"\",\n        \"description\": \"\"\n      }\n    },\n    {\n      \"column\": \"firstMovement_times\",\n      \"properties\": {\n        \"dtype\": \"number\",\n        \"std\": 809.6555093039567,\n        \"min\": 14.47999740000004,\n        \"max\": 2978.021997400003,\n        \"num_unique_values\": 605,\n        \"samples\": [\n          1627.2459974000014,\n          1039.342997400001,\n          271.7759974000003\n        ],\n        \"semantic_type\": \"\",\n        \"description\": \"\"\n      }\n    },\n    {\n      \"column\": \"probabilityLeft\",\n      \"properties\": {\n        \"dtype\": \"number\",\n        \"std\": 0.27709126173254817,\n        \"min\": 0.2,\n        \"max\": 0.8,\n        \"num_unique_values\": 3,\n        \"samples\": [\n          0.5,\n          0.8,\n          0.2\n        ],\n        \"semantic_type\": \"\",\n        \"description\": \"\"\n      }\n    },\n    {\n      \"column\": \"contrastRight\",\n      \"properties\": {\n        \"dtype\": \"number\",\n        \"std\": 0.3674326607876935,\n        \"min\": 0.0,\n        \"max\": 1.0,\n        \"num_unique_values\": 5,\n        \"samples\": [\n          0.25,\n          0.0625,\n          0.125\n        ],\n        \"semantic_type\": \"\",\n        \"description\": \"\"\n      }\n    },\n    {\n      \"column\": \"feedbackType\",\n      \"properties\": {\n        \"dtype\": \"number\",\n        \"std\": 0.7966808801946803,\n        \"min\": -1.0,\n        \"max\": 1.0,\n        \"num_unique_values\": 2,\n        \"samples\": [\n          -1.0,\n          1.0\n        ],\n        \"semantic_type\": \"\",\n        \"description\": \"\"\n      }\n    },\n    {\n      \"column\": \"rewardVolume\",\n      \"properties\": {\n        \"dtype\": \"number\",\n        \"std\": 0.5975106601460104,\n        \"min\": 0.0,\n        \"max\": 1.5,\n        \"num_unique_values\": 2,\n        \"samples\": [\n          0.0,\n          1.5\n        ],\n        \"semantic_type\": \"\",\n        \"description\": \"\"\n      }\n    },\n    {\n      \"column\": \"feedback_times\",\n      \"properties\": {\n        \"dtype\": \"number\",\n        \"std\": 813.0660790034641,\n        \"min\": 14.8005864600148,\n        \"max\": 2987.3721995729875,\n        \"num_unique_values\": 607,\n        \"samples\": [\n          2639.2410495026393,\n          1059.1346426110592\n        ],\n        \"semantic_type\": \"\",\n        \"description\": \"\"\n      }\n    },\n    {\n      \"column\": \"intervals_0\",\n      \"properties\": {\n        \"dtype\": \"number\",\n        \"std\": 811.5301554579318,\n        \"min\": 10.96976958001097,\n        \"max\": 2952.173486462952,\n        \"num_unique_values\": 608,\n        \"samples\": [\n          371.5784384403716,\n          47.17398213004717\n        ],\n        \"semantic_type\": \"\",\n        \"description\": \"\"\n      }\n    },\n    {\n      \"column\": \"intervals_1\",\n      \"properties\": {\n        \"dtype\": \"number\",\n        \"std\": 813.1133289621978,\n        \"min\": 16.367592175896917,\n        \"max\": 2989.9286331175954,\n        \"num_unique_values\": 608,\n        \"samples\": [\n          374.1782646283461,\n          50.52870874207454\n        ],\n        \"semantic_type\": \"\",\n        \"description\": \"\"\n      }\n    }\n  ]\n}"
            }
          },
          "metadata": {}
        }
      ],
      "source": [
        "# 2. Explore the trials object\n",
        "\n",
        "# Find the keys in our object\n",
        "keys = trials.keys()\n",
        "print(f'Trials object has attributes: {keys}')\n",
        "\n",
        "# Explore the shape of the individual items\n",
        "print('\\n')\n",
        "for key in keys:\n",
        "  print(f'{key} has shape: {trials[key].shape}')\n",
        "\n",
        "# Convert the trials dict to a pandas dataframe\n",
        "trials_df = trials.to_df()\n",
        "\n",
        "# Display the trials table\n",
        "from IPython.display import display # import module to display dataframe nicely\n",
        "print('\\n')\n",
        "display(trials_df)"
      ]
    },
    {
      "cell_type": "code",
      "execution_count": null,
      "metadata": {
        "id": "bOX19fnjf_P4"
      },
      "outputs": [],
      "source": [
        "# 3. Compute reaction time\n",
        "\n",
        "# Define reaction time as the time when the visual stimulus first appears and detected response time\n",
        "reaction_time = trials['response_times'] - trials['stimOn_times']"
      ]
    },
    {
      "cell_type": "code",
      "execution_count": null,
      "metadata": {
        "id": "ihoa8MjFkdu0",
        "colab": {
          "base_uri": "https://localhost:8080/"
        },
        "outputId": "8de50d0e-ce52-4fbc-cf2d-42d9ee9736ea"
      },
      "outputs": [
        {
          "output_type": "stream",
          "name": "stdout",
          "text": [
            "Average reaction time for stimulus on\n",
            "Left: 2.6305362305886573\n",
            "Right: 1.0581783527741766\n"
          ]
        }
      ],
      "source": [
        "# 4. Evaluate reaction time across different trial types\n",
        "\n",
        "import numpy as np\n",
        "# Compare reaction time for left vs right trials\n",
        "left_trial_idx = ~np.isnan(trials['contrastLeft'])\n",
        "right_trial_idx = ~np.isnan(trials['contrastRight'])\n",
        "left_reaction_time = np.nanmean(reaction_time[left_trial_idx])\n",
        "right_reaction_time = np.nanmean(reaction_time[right_trial_idx])\n",
        "print(f'Average reaction time for stimulus on')\n",
        "print(f'Left: {left_reaction_time}')\n",
        "print(f'Right: {right_reaction_time}')"
      ]
    },
    {
      "cell_type": "markdown",
      "metadata": {
        "id": "dPOGrnK9njTo"
      },
      "source": [
        "## Exercise 4"
      ]
    },
    {
      "cell_type": "markdown",
      "metadata": {
        "id": "hctCAmN2nlD2"
      },
      "source": [
        "Load in all the trials data for the session `4720c98a-a305-4fba-affb-bbfa00a724a4` and compute the difference in reaction time between correct and incorrect trials\n",
        "\n",
        "Define reaction time as the difference between the `firstMovement_times` and the `stimOn_times`\n",
        "\n",
        "Information about trial outcome is stored in the attribute `feedbackType`\n",
        "\n",
        "The `feedbackType` can have three values:\n",
        "\n",
        "*   1  - correct response\n",
        "*   -1 - incorrect response\n",
        "*   0  - no response\n"
      ]
    },
    {
      "cell_type": "code",
      "execution_count": null,
      "metadata": {
        "id": "fbdY96NFozDZ",
        "colab": {
          "base_uri": "https://localhost:8080/"
        },
        "outputId": "82286b4a-bf04-44ec-b0b6-17e41bc52cfa"
      },
      "outputs": [
        {
          "output_type": "stream",
          "name": "stdout",
          "text": [
            "0.7776262690082434\n",
            "nan\n"
          ]
        },
        {
          "output_type": "stream",
          "name": "stderr",
          "text": [
            "<ipython-input-24-e3abdc658092>:14: RuntimeWarning: Mean of empty slice\n",
            "  print(np.nanmean(reaction_time[~iok]))\n"
          ]
        }
      ],
      "source": [
        "import numpy as np\n",
        "# Load in the trials data using one.load_object\n",
        "eid = '4720c98a-a305-4fba-affb-bbfa00a724a4'\n",
        "trials = one.load_object(eid, 'trials')\n",
        "# Define the reaction time as the difference between firstMovement_times and stimOn_times\n",
        "reaction_time = trials['firstMovement_times'] - trials['stimOn_times']\n",
        "\n",
        "# Find the index of the correct and incorrect trials, use the column feedbackType for trial outcome\n",
        "iok = trials['feedbackType'] != 0\n",
        "\n",
        "\n",
        "# Compute the mean reaction time for the correct and incorrect trial types\n",
        "print(np.nanmean(reaction_time[iok]))\n",
        "print(np.nanmean(reaction_time[~iok]))\n"
      ]
    },
    {
      "cell_type": "markdown",
      "source": [],
      "metadata": {
        "id": "YQULdOhzWv0R"
      }
    },
    {
      "cell_type": "markdown",
      "metadata": {
        "id": "Jcgu-kgJpA0V"
      },
      "source": [
        "# Exploring spike sorting data"
      ]
    },
    {
      "cell_type": "markdown",
      "metadata": {
        "id": "66LkdKc0yCAZ"
      },
      "source": [
        "In this example we will show how to\n",
        "1.   Load in spike sorting data for a single insertion\n",
        "\n",
        "2.   Explore the clusters and spikes objects\n",
        "\n",
        "3.   Get spikes for chosen cluster\n",
        "\n",
        "4.   Load in trials data for associated session\n",
        "\n",
        "5.   Compute and plot firing rate of cluster around trial event\n",
        "\n",
        "6.   Compute and plot peristimulus time histograms for different for left vs right trials"
      ]
    },
    {
      "cell_type": "code",
      "execution_count": null,
      "metadata": {
        "id": "6AdBVt--x92x",
        "colab": {
          "base_uri": "https://localhost:8080/"
        },
        "outputId": "200ee7f9-975e-4aa6-9d07-b7a8d6cc5299"
      },
      "outputs": [
        {
          "output_type": "stream",
          "name": "stderr",
          "text": [
            "/root/Downloads/ONE/openalyx.internationalbrainlab.org/danlab/Subjects/DY_014/2020-07-14/001/alf/probe00/pykilosort/spikes.samples.npy: 100%|██████████| 91.9M/91.9M [00:01<00:00, 59.1MB/s]\n"
          ]
        }
      ],
      "source": [
        "# 1. Load in spikesorting data\n",
        "from brainbox.io.one import SpikeSortingLoader\n",
        "# import ONE and instantiate\n",
        "from one.api import ONE\n",
        "one = ONE()\n",
        "# define pid\n",
        "pid = '695476f6-4c14-4a2f-b658-948514629079'\n",
        "# instantiate with a pid\n",
        "spike_loader = SpikeSortingLoader(pid=pid, one=one)\n",
        "\n",
        "# Download and load data\n",
        "spikes, clusters, channels = spike_loader.load_spike_sorting(dataset_types=['spikes.samples'])\n",
        "# Assign brain location information from channels to clusters\n",
        "clusters = spike_loader.merge_clusters(spikes, clusters, channels)\n"
      ]
    },
    {
      "cell_type": "code",
      "source": [
        "clusters.keys()"
      ],
      "metadata": {
        "colab": {
          "base_uri": "https://localhost:8080/"
        },
        "id": "C0lx4AV3XS9P",
        "outputId": "3d3f1ad1-7808-483f-9d50-2f59091dd8e2"
      },
      "execution_count": null,
      "outputs": [
        {
          "output_type": "execute_result",
          "data": {
            "text/plain": [
              "dict_keys(['uuids', 'channels', 'depths', 'cluster_id', 'amp_max', 'amp_min', 'amp_median', 'amp_std_dB', 'contamination', 'contamination_alt', 'drift', 'missed_spikes_est', 'noise_cutoff', 'presence_ratio', 'presence_ratio_std', 'slidingRP_viol', 'spike_count', 'firing_rate', 'label', 'x', 'y', 'z', 'acronym', 'atlas_id', 'axial_um', 'lateral_um'])"
            ]
          },
          "metadata": {},
          "execution_count": 33
        }
      ]
    },
    {
      "cell_type": "code",
      "execution_count": null,
      "metadata": {
        "id": "4gf6T2_Nf3eO",
        "colab": {
          "base_uri": "https://localhost:8080/"
        },
        "outputId": "810b1f99-510b-44d7-b544-002585157768"
      },
      "outputs": [
        {
          "output_type": "stream",
          "name": "stdout",
          "text": [
            "Clusters object has attributes: dict_keys(['uuids', 'channels', 'depths', 'cluster_id', 'amp_max', 'amp_min', 'amp_median', 'amp_std_dB', 'contamination', 'contamination_alt', 'drift', 'missed_spikes_est', 'noise_cutoff', 'presence_ratio', 'presence_ratio_std', 'slidingRP_viol', 'spike_count', 'firing_rate', 'label', 'x', 'y', 'z', 'acronym', 'atlas_id', 'axial_um', 'lateral_um'])\n",
            "\n",
            "No. of clusters: 383\n",
            "\n",
            "Spikes object has attributes: dict_keys(['depths', 'clusters', 'times', 'amps'])\n",
            "\n",
            "No. of spikes: 11489983\n",
            "\n",
            "Times for first 10 spikes: [0.01241813 0.01321812 0.01735141 0.01831807 0.0190514  0.01928473\n",
            " 0.01988472 0.02001805 0.02021805 0.02095138]\n",
            "Cluster for first 10 spikes: [129  28 267 263  97  28 284 211 129 259]\n"
          ]
        }
      ],
      "source": [
        "# 2. Explore the clusters and spikes objects\n",
        "import numpy as np\n",
        "\n",
        "# Find the keys in the clusters object\n",
        "keys = clusters.keys()\n",
        "print(f'Clusters object has attributes: {keys}')\n",
        "\n",
        "# Find the number of clusters detected\n",
        "n_clusters = clusters['channels'].size\n",
        "print(f'\\nNo. of clusters: {n_clusters}')\n",
        "\n",
        "# Find the keys in the spikes object\n",
        "keys = spikes.keys()\n",
        "print(f'\\nSpikes object has attributes: {keys}')\n",
        "\n",
        "# Find the number of detected spikes\n",
        "n_spikes = spikes['times'].size\n",
        "print(f'\\nNo. of spikes: {n_spikes}')\n",
        "\n",
        "# Display the spike times and spike clusters for the first 10 spikes\n",
        "print(f'\\nTimes for first 10 spikes: {spikes[\"times\"][:10]}')\n",
        "print(f'Cluster for first 10 spikes: {spikes[\"clusters\"][:10]}')"
      ]
    },
    {
      "cell_type": "code",
      "execution_count": null,
      "metadata": {
        "id": "CGtKxA3z0M4g",
        "colab": {
          "base_uri": "https://localhost:8080/"
        },
        "outputId": "aab8f381-bb4d-42ad-e44c-256d7c8667f4"
      },
      "outputs": [
        {
          "output_type": "stream",
          "name": "stdout",
          "text": [
            "Brain region of cluster 174 is VPL\n"
          ]
        }
      ],
      "source": [
        "# 3. Get spikes for a single cluster\n",
        "import numpy as np\n",
        "# Get the 25th good cluster\n",
        "cluster_id = np.where(clusters['label'] == 1)[0][25]\n",
        "\n",
        "# Get the index of the spikes object for the chosen cluster\n",
        "spikes_idx = spikes['clusters'] == cluster_id\n",
        "\n",
        "# Get the brain region of the chosen cluster\n",
        "brain_region = clusters['acronym'][cluster_id]\n",
        "print(f'Brain region of cluster {cluster_id} is {brain_region}')"
      ]
    },
    {
      "cell_type": "code",
      "execution_count": null,
      "metadata": {
        "id": "amaeGCeO0QGw"
      },
      "outputs": [],
      "source": [
        "# 4. Load in trials for the associated session\n",
        "# Convert pid to eid\n",
        "eid, pname = one.pid2eid(pid)\n",
        "# Load in the trials\n",
        "trials = one.load_object(eid, 'trials')"
      ]
    },
    {
      "cell_type": "code",
      "execution_count": null,
      "metadata": {
        "id": "o3jZMuq6xiDk",
        "colab": {
          "base_uri": "https://localhost:8080/"
        },
        "outputId": "9cdf1f73-5147-4bbf-dc46-f59edd1d9800"
      },
      "outputs": [
        {
          "output_type": "stream",
          "name": "stdout",
          "text": [
            "Spike raster has shape: (608, 30)\n"
          ]
        }
      ],
      "source": [
        "# 5. Compute firing rate of cluster around trial event and plot as a raster\n",
        "# Find times when stimulus appears\n",
        "events = trials['stimOn_times']\n",
        "\n",
        "from brainbox.singlecell import bin_spikes\n",
        "# Compute number of spikes in 0.05s bins between 0.5s before stimulus presentation to 1s after stimulus presentation\n",
        "bin_size = 0.05\n",
        "pre_time = 0.5\n",
        "post_time = 1\n",
        "spike_raster, times = bin_spikes(spikes.times[spikes_idx], events, pre_time=pre_time, post_time=post_time, bin_size=bin_size)\n",
        "spikes_raster = spike_raster / bin_size\n",
        "print(f'Spike raster has shape: {spikes_raster.shape}')"
      ]
    },
    {
      "cell_type": "code",
      "execution_count": null,
      "metadata": {
        "id": "8YsEJRv71M_V",
        "colab": {
          "base_uri": "https://localhost:8080/",
          "height": 468
        },
        "outputId": "2d9070b0-3797-4e37-ce33-cb52558572bd"
      },
      "outputs": [
        {
          "output_type": "execute_result",
          "data": {
            "text/plain": [
              "Text(0, 0.5, 'Trial number')"
            ]
          },
          "metadata": {},
          "execution_count": 30
        },
        {
          "output_type": "display_data",
          "data": {
            "text/plain": [
              "<Figure size 640x480 with 1 Axes>"
            ],
            "image/png": "[encoded data removed]"
          },
          "metadata": {}
        }
      ],
      "source": [
        "import matplotlib.pyplot as plt\n",
        "fig, ax = plt.subplots()\n",
        "ax.imshow(spike_raster, extent=[times[0], times[-1], 0, events.size], origin='lower', cmap='binary', aspect='auto', vmax=20, vmin=0)\n",
        "ax.axvline(0, c='k', linestyle='--')\n",
        "ax.set_xlabel('Time from stimulus (s)')\n",
        "ax.set_ylabel('Trial number')"
      ]
    },
    {
      "cell_type": "markdown",
      "metadata": {
        "id": "OxaLJElX3nub"
      },
      "source": [
        "## Exercise 5\n"
      ]
    },
    {
      "cell_type": "markdown",
      "metadata": {
        "id": "q6MHaA-S5NNJ"
      },
      "source": [
        "Find all the probe insertions that crosses the region “SCig”, and select the first one available\n",
        "\n",
        "Load in the spike sorting data for this probe insertion\n",
        "\n",
        "Find the clusters in “SCig” that are good, i.e. with label = 1 . How many are there?\n",
        "\n",
        "For the first good cluster in SCig, compute the mean firing rate between the first and last spike times"
      ]
    },
    {
      "cell_type": "code",
      "source": [
        "from brainbox.io.one import SpikeSortingLoader\n",
        "from one.api import ONE\n",
        "import numpy as np\n",
        "\n",
        "one = ONE()\n",
        "\n",
        "# Define the brain region of interest\n",
        "brain_acronym = 'SCig'\n",
        "\n",
        "# Find the insertions that are in the brain region of interest\n",
        "# Use one.search_insertions(atlas_acronym= ...) with the brain region as argument\n",
        "insertions = one.search_insertions(atlas_acronym=brain_acronym)\n",
        "\n",
        "# Count how many insertions there are\n",
        "print(len(insertions))\n",
        "\n",
        "# Take the first insertion available as pid\n",
        "pid = insertions[0]\n",
        "print(pid)"
      ],
      "metadata": {
        "id": "96KAybOaHbR8",
        "colab": {
          "base_uri": "https://localhost:8080/"
        },
        "outputId": "632eab97-9be6-4601-b658-f75087f1be32"
      },
      "execution_count": null,
      "outputs": [
        {
          "output_type": "stream",
          "name": "stdout",
          "text": [
            "69\n",
            "9b5fec96-9f19-4ddf-ba1c-3175e15245e9\n"
          ]
        }
      ]
    },
    {
      "cell_type": "code",
      "source": [
        "# If you struggle with the part above, skip and use :\n",
        "# pid  = '4a3bf04f-c6e6-44ae-85af-6c8608fc7e99'\n",
        "ssl = SpikeSortingLoader(pid=pid, one=one)\n",
        "# Use the SpikesortingLoader to load in the spike sorting data, make sure to merge the clusters\n",
        "\n",
        "spikes, clusters, channels = ssl.load_spike_sorting()\n",
        "# Find the good clusters in the brain region of interest\n",
        "# Use the clusters['acronym'] and the clusters['label']\n",
        "\n",
        "\n",
        "# Get the cluster_id for the first good cluster\n",
        "\n"
      ],
      "metadata": {
        "id": "tTP0GiuxIRLT"
      },
      "execution_count": null,
      "outputs": []
    },
    {
      "cell_type": "code",
      "source": [
        "# Get the index of the spikes for the chosen cluster\n",
        "\n",
        "\n",
        "# Find the minimum and maximum spike time for this cluster\n",
        "\n",
        "\n",
        "# Find the number of spikes for the chosen cluster and compute the firing rate\n",
        "\n"
      ],
      "metadata": {
        "id": "VnCiCU3ZI6ah"
      },
      "execution_count": null,
      "outputs": []
    }
  ],
  "metadata": {
    "colab": {
      "provenance": []
    },
    "kernelspec": {
      "display_name": "Python 3",
      "name": "python3"
    },
    "language_info": {
      "name": "python"
    }
  },
  "nbformat": 4,
  "nbformat_minor": 0
}