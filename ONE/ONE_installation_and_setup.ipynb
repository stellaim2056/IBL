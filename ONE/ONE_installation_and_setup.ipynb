{
 "cells": [
  {
   "cell_type": "markdown",
   "metadata": {},
   "source": [
    "### <font color=skyblue>**Searching for experiments</font>**"
   ]
  },
  {
   "cell_type": "markdown",
   "metadata": {},
   "source": [
    "**danlab/Subjects/DY_014/2020-12-01/001/**\\\n",
    "(raw data folders)\n",
    "- raw_ephys_data\n",
    "    - probe00/\n",
    "    - probe01/\n",
    "- raw_video_data\n",
    "    - bodyCamera.raw.mp4\n",
    "\n",
    "(Synchronised times)\n",
    "- alf/\n",
    "    - bodyCamera.times.npy\n",
    "    - wheel.position.npy\n",
    "-\n",
    "    - probe00/pykilosort/\n",
    "        - spikes.times.npy"
   ]
  },
  {
   "cell_type": "markdown",
   "metadata": {},
   "source": [
    "Installaition"
   ]
  },
  {
   "cell_type": "code",
   "execution_count": 2,
   "metadata": {},
   "outputs": [],
   "source": [
    "# pip install ONE-api\n",
    "# pip install ibllib # optional"
   ]
  },
  {
   "cell_type": "markdown",
   "metadata": {},
   "source": [
    "Configuration"
   ]
  },
  {
   "cell_type": "code",
   "execution_count": 3,
   "metadata": {},
   "outputs": [],
   "source": [
    "# from one.api import ONE\n",
    "# ONE.setup(base_url='https://openalyx.internationalbrainlab.org', silent=True)  # silent means use default parameters for the IBL public database\n",
    "# one = ONE(password='international')"
   ]
  },
  {
   "cell_type": "markdown",
   "metadata": {},
   "source": [
    "instantiation"
   ]
  },
  {
   "cell_type": "code",
   "execution_count": 4,
   "metadata": {},
   "outputs": [],
   "source": [
    "from one.api import ONE\n",
    "one = ONE()"
   ]
  },
  {
   "cell_type": "markdown",
   "metadata": {},
   "source": [
    "**<font color=yellow>session path</font>** : The main folder uniquely indentifies an experiment"
   ]
  },
  {
   "cell_type": "code",
   "execution_count": 5,
   "metadata": {},
   "outputs": [],
   "source": [
    "session_path = 'danlab/Subjects/DY_014/2020-12-01/001/'"
   ]
  },
  {
   "cell_type": "markdown",
   "metadata": {},
   "source": [
    "**<font color=yellow>eid</font>** : The session path can be converted to a unique experimetn ID"
   ]
  },
  {
   "cell_type": "code",
   "execution_count": 6,
   "metadata": {},
   "outputs": [],
   "source": [
    "eid = 'a2ec6341-c55f-48a0-a23b-0ef2f5b1d71e'"
   ]
  },
  {
   "cell_type": "markdown",
   "metadata": {},
   "source": [
    "session path <=> eid"
   ]
  },
  {
   "cell_type": "code",
   "execution_count": 7,
   "metadata": {},
   "outputs": [],
   "source": [
    "session_path = one.eid2path(eid)\n",
    "eid = one.path2eid(session_path)"
   ]
  },
  {
   "cell_type": "markdown",
   "metadata": {},
   "source": [
    "**<font color=yellow>pid</font>** (probe insertion) <=> eid"
   ]
  },
  {
   "cell_type": "code",
   "execution_count": 8,
   "metadata": {},
   "outputs": [
    {
     "name": "stdout",
     "output_type": "stream",
     "text": [
      "['5135e93f-2f1f-4301-9532-b5ad62548c49', '6925a312-966c-4e41-b79e-4594da57a2ee']\n"
     ]
    }
   ],
   "source": [
    "pids, labels = one.eid2pid(eid)\n",
    "\n",
    "print(pids)\n",
    "\n",
    "pid = '6925a312-966c-4e41-b79e-4594da57a2ee' #'695476f6-4c14-b658-948514629079'\n",
    "eid, pname = one.pid2eid(pid)"
   ]
  },
  {
   "cell_type": "markdown",
   "metadata": {},
   "source": [
    "#### **<font color=skyblue>Exercise 1</font> - Listing data in an experiment**\n",
    "ONE has built in list and descibe methods that can be used to explore that data contained within an experiment.\\\n",
    "This method only works with **eids**."
   ]
  },
  {
   "cell_type": "code",
   "execution_count": 9,
   "metadata": {},
   "outputs": [],
   "source": [
    "eid = '4720c98a-a305-4fba-affb-bbfa00a724a4'"
   ]
  },
  {
   "cell_type": "markdown",
   "metadata": {},
   "source": [
    "<font color=pink>**one.list_datasets**</font>\n",
    "- Lists all datasets associated with an eid ; this can take in a \"collection\" argument."
   ]
  },
  {
   "cell_type": "code",
   "execution_count": 10,
   "metadata": {},
   "outputs": [
    {
     "name": "stdout",
     "output_type": "stream",
     "text": [
      "['alf/probes.description.json', 'alf/rightCamera.ROIMotionEnergy.npy', 'alf/rightROIMotionEnergy.position.npy']\n"
     ]
    }
   ],
   "source": [
    "datasets = one.list_datasets(eid, collection='alf')\n",
    "print(datasets[20:25])"
   ]
  },
  {
   "cell_type": "markdown",
   "metadata": {},
   "source": [
    "<font color=pink>**one.describe_dataset**</font>\n",
    "- used to find out more information about a specific dataset"
   ]
  },
  {
   "cell_type": "code",
   "execution_count": 11,
   "metadata": {},
   "outputs": [
    {
     "name": "stdout",
     "output_type": "stream",
     "text": [
      "A table of trial events, one per trial. Events include: intervals, goCue_times, response_times, choice, stimOn_times, contrastLeft, contrastRight, feedback_times, feedbackType, rewardVolume, probabilityLeft, firstMovement_times\n"
     ]
    },
    {
     "data": {
      "text/plain": [
       "{'id': 'c634bb4d-a152-4e6f-930d-516957b433e6',\n",
       " 'name': 'trials.table',\n",
       " 'created_by': None,\n",
       " 'description': 'A table of trial events, one per trial. Events include: intervals, goCue_times, response_times, choice, stimOn_times, contrastLeft, contrastRight, feedback_times, feedbackType, rewardVolume, probabilityLeft, firstMovement_times',\n",
       " 'filename_pattern': '*trials.table*'}"
      ]
     },
     "execution_count": 11,
     "metadata": {},
     "output_type": "execute_result"
    }
   ],
   "source": [
    "one.describe_dataset('trials.table')"
   ]
  },
  {
   "cell_type": "markdown",
   "metadata": {},
   "source": [
    "#### **<font color=skyblue>Exercise 2</font> - Searching for experiments**\n",
    "Find and print the datasets that are in the \"alf\" collection of the session"
   ]
  },
  {
   "cell_type": "code",
   "execution_count": 12,
   "metadata": {},
   "outputs": [
    {
     "name": "stdout",
     "output_type": "stream",
     "text": [
      "['alf/#2022-01-29#/_ibl_bodyCamera.dlc.pqt', 'alf/#2022-01-29#/_ibl_leftCamera.dlc.pqt', 'alf/#2022-01-29#/_ibl_rightCamera.dlc.pqt', 'alf/#2022-01-29#/bodyCamera.ROIMotionEnergy.npy', 'alf/#2022-01-29#/bodyROIMotionEnergy.position.npy', 'alf/#2022-01-29#/leftCamera.ROIMotionEnergy.npy', 'alf/#2022-01-29#/leftROIMotionEnergy.position.npy', 'alf/#2022-01-29#/rightCamera.ROIMotionEnergy.npy', 'alf/#2022-01-29#/rightROIMotionEnergy.position.npy', 'alf/#2023-04-20#/_ibl_leftCamera.times.npy', 'alf/#2023-04-20#/_ibl_rightCamera.times.npy', 'alf/#2023-04-20#/licks.times.npy', 'alf/_ibl_bodyCamera.times.npy', 'alf/_ibl_leftCamera.dlc.pqt', 'alf/_ibl_leftCamera.features.pqt', 'alf/_ibl_leftCamera.lightningPose.pqt', 'alf/_ibl_leftCamera.times.npy', 'alf/_ibl_rightCamera.dlc.pqt', 'alf/_ibl_rightCamera.features.pqt', 'alf/_ibl_rightCamera.times.npy', 'alf/_ibl_trials.goCueTrigger_times.npy', 'alf/_ibl_trials.stimOff_times.npy', 'alf/_ibl_trials.table.pqt', 'alf/_ibl_wheel.position.npy', 'alf/_ibl_wheel.timestamps.npy', 'alf/_ibl_wheelMoves.intervals.npy', 'alf/_ibl_wheelMoves.peakAmplitude.npy', 'alf/leftCamera.ROIMotionEnergy.npy', 'alf/leftROIMotionEnergy.position.npy', 'alf/probes.description.json', 'alf/rightCamera.ROIMotionEnergy.npy', 'alf/rightROIMotionEnergy.position.npy']\n"
     ]
    }
   ],
   "source": [
    "eid = 'aad23144-0e52-4eac-80c5-c4ee2decb198'\n",
    "collection = 'alf'\n",
    "# use one.list_datasets to find all datasets contained in the session\n",
    "# use the kwarg collections to restrict the datasets\n",
    "dsets = one.list_datasets(eid, collection='alf')\n",
    "print(dsets)"
   ]
  },
  {
   "cell_type": "markdown",
   "metadata": {},
   "source": [
    "ONE has two built in search methods that can be used to filter for sessions or insertions that match specific search criteria."
   ]
  },
  {
   "cell_type": "markdown",
   "metadata": {},
   "source": [
    "<font color=pink>**one.search**</font>\n",
    "- allows you to search over sessions\n",
    "- returns a list of eids"
   ]
  },
  {
   "cell_type": "code",
   "execution_count": 13,
   "metadata": {},
   "outputs": [],
   "source": [
    "sessions = one.search(subject='k5023')"
   ]
  },
  {
   "cell_type": "markdown",
   "metadata": {},
   "source": [
    "<font color=pink>**one.search_insertions**</font>\n",
    "- allows you to search over probe insertions\n",
    "- returns a list of pids"
   ]
  },
  {
   "cell_type": "code",
   "execution_count": 14,
   "metadata": {},
   "outputs": [],
   "source": [
    "insertions = one.search_insertions(subject = 'K5023')"
   ]
  },
  {
   "cell_type": "markdown",
   "metadata": {},
   "source": [
    "The possible **<font color=yellow>kwargs arguments</font>**"
   ]
  },
  {
   "cell_type": "code",
   "execution_count": 15,
   "metadata": {},
   "outputs": [
    {
     "name": "stdout",
     "output_type": "stream",
     "text": [
      "('laboratory', 'dataset_types', 'procedures', 'performance_lte', 'dataset', 'qc', 'offset', 'limit', 'location', 'users', 'atlas_acronym', 'subject', 'date_range', 'atlas_id', 'start_time', 'datasets', 'atlas_name', 'performance_gte', 'task_protocol', 'parent_session', 'nickname', 'projects', 'json', 'histology', 'n_trials', 'number', 'n_correct_trials', 'extended_qc', 'end_time', 'dataset_qc_lte', 'project', 'type', 'auto_datetime', 'narrative', 'id', 'django', 'tag', 'name')\n"
     ]
    }
   ],
   "source": [
    "search_terms = one.search_terms('remote')\n",
    "print(search_terms)"
   ]
  },
  {
   "cell_type": "code",
   "execution_count": 16,
   "metadata": {},
   "outputs": [
    {
     "name": "stdout",
     "output_type": "stream",
     "text": [
      "('dataset', 'date_range', 'laboratory', 'number', 'projects', 'subject', 'task_protocol', 'dataset_qc_lte')\n"
     ]
    }
   ],
   "source": [
    "search_terms = one.search_terms('remote, insertions')\n",
    "print(search_terms)"
   ]
  },
  {
   "cell_type": "markdown",
   "metadata": {},
   "source": [
    "Searching by dataset"
   ]
  },
  {
   "cell_type": "code",
   "execution_count": 17,
   "metadata": {},
   "outputs": [
    {
     "name": "stdout",
     "output_type": "stream",
     "text": [
      "['ebce500b-c530-47de-8cb1-963c552703ea', 'a7eba2cf-427f-4df9-879b-e53e962eae18', '3a3ea015-b5f4-4e8b-b189-9364d1fc7435', '5ae68c54-2897-4d3a-8120-426150704385', 'd85c454e-8737-4cba-b6ad-b2339429d99b', '11163613-a6c9-4975-9586-84dc00481547', 'de905562-31c6-4c31-9ece-3ee87b97eab4', '15b69921-d471-4ded-8814-2adad954bcd8', 'e6594a5b-552c-421a-b376-1a1baa9dc4fd', '4e560423-5caf-4cda-8511-d1ab4cd2bf7d', 'c46b8def-620d-4d70-9397-be5694255f73', '6899a67d-2e53-4215-a52a-c7021b5da5d4', '3f71aa98-08c6-4e79-b4c8-00eae4f03eff', 'a1782f4f-86b0-480c-a7f2-3d8f1ab482ab', '97c1d08d-57b4-4595-8052-91eb84ebfd74', '35eeb752-8f4f-4040-9714-ba0f5b7ccdfe', '004d8fd5-41e7-4f1b-a45b-0d4ad76fe446', 'ca4ecb4c-4b60-4723-9b9e-2c54a6290a53', '7dd27c2f-9544-448d-918d-be0f9837b0e0', 'caa5dddc-9290-4e27-9f5e-575ba3598614', '642c97ea-fe89-4ec9-8629-5e492ea4019d', 'e6bdb1f4-b0bf-4451-8f23-4384f2102f91', '2584ce3c-db10-4076-89cb-5d313138dd38', '1dbba733-24a4-4400-9436-53f1bd8428e8', 'e6de6c35-1508-4471-b7c3-f12a5c7a6d39', '98e0074c-706a-40e5-bbb5-223f97585a99', 'c02e5155-8e8f-427e-873d-d61490bbb9c3', '0cf6d255-8f2f-463e-84fb-c54bacb79f51', '37bbc17f-8dec-4fa8-97fd-e23a5c6bad1f', '6ab9d98c-b1e9-4574-b8fe-b9eec88097e0', '04749a70-ac63-477d-8392-d4d529184fab', '7eeb8423-49e6-4d40-ab6f-703d17af231a', '36573e0b-ddd6-4504-94ec-9a23c877486c', '14127fdb-2e66-4823-b124-f49c128ba94d', '5437ec1f-6535-470c-80b8-4c8806ee085d', 'a2b9fbbe-79fc-4166-a16e-b307813a2f06', '62ff920c-2fdd-4feb-9d9f-0d66f2e595a1', 'fd03d365-91df-41e2-ad81-9e0e4b9f5c7b', '7235b10c-6621-44ea-abe9-01559633472d', 'd23b005f-46f5-4fe1-870c-f55f6eb9533d', 'c958919c-2e75-435d-845d-5b62190b520e', 'f56194bc-8215-4ae8-bc6a-89781ad8e050', '29a6def1-fc5c-4eea-ac48-47e9b053dcb5', '28338153-4113-485b-835b-91cb96d984f2', '5c0c560e-9e1f-45e9-b66e-e4ee7855be84', 'f4eb56a4-8bf8-4bbc-a8f3-6e6535134bad', '2d9bfc10-59fb-424a-b699-7c42f86c7871', '7cc74598-9c1b-436b-84fa-0bf89f31adf6', '3bcb81b4-d9ca-4fc9-a1cd-353a966239ca', 'c8e11fd8-d130-4f06-abba-9aa20240ce7c', 'c23b4118-db40-4333-af1d-933154b533c6', '9fcbd1a0-77e6-4c41-9428-eeaee74becd5', 'fbd28ea6-3251-48e0-b215-2c51ec5185f7', 'ef38e503-dd79-4185-bf87-4712d4f274fe', '37ac03f1-9831-4a30-90fc-a59e635b98bd', 'be164a14-6e73-42c3-ab60-d29c48693c0f', '94dabed1-741c-4ddd-a6b7-70561e27b750', '2ab7d2c2-bcb7-4ae6-9626-f3786c22d970', '49250fba-801c-4867-a0a7-a1e19538cb61', 'a34b4013-414b-42ed-9318-e93fbbc71e7b', '6cbeead9-bb7a-40e1-8ccd-47ae60239654', '3bb54985-77b2-421d-9d1f-46185be51216', '87ad026d-5b95-4022-8d59-c260870d830f', '233617ec-c5cf-4eda-afc8-3b1d94f36d73', '61caa69d-088b-465a-b9d0-d75341dabac6', '9fc31d79-b56f-46d0-92a0-e9563caf4a7a', '837b4e6a-ccfd-49b0-a1dd-3aa53fbf2ecb', '7f150b7c-c261-46e6-9edb-cc391c9d9f03', '500a71dd-8768-4211-a1fe-1fafc9fcbf29', '75db708a-9952-4452-a5b1-a851d88f8e28', 'cef05f87-161b-4031-932c-6f47daf89698', '2038e95d-64d4-4ecb-83d0-1308d3c598f8', '4546cd60-fa2a-4d20-a9b6-d091e01d16f2', '62902992-8432-46fb-af12-6392012e58c7', 'c16d3557-b2c1-4545-93d0-112ac0915d93', 'bb8d9451-fdbd-4f46-b52e-9290e8f84d2e', 'bd07e3a7-09c3-4b67-996b-42b6d5cedf1c', '8c025071-c4f3-426c-9aed-f149e8f75b7b', '6bf810fd-fbeb-4eea-9ea7-b6791d002b22', '283ecb4c-e529-409c-9f0a-8ea5191dcf50', 'a2ec6341-c55f-48a0-a23b-0ef2f5b1d71e', 'ae8787b1-4229-4d56-b0c2-566b61a25b77', '0f77ca5d-73c2-45bd-aa4c-4c5ed275dbde', '195443eb-08e9-4a18-a7e1-d105b2ce1429', '6c6b0d06-6039-4525-a74b-58cfaa1d3a60', 'dc962048-89bb-4e6a-96a9-b062a2be1426', '8a1cf4ef-06e3-4c72-9bc7-e1baa189841b', '0841d188-8ef2-4f20-9828-76a94d5343a4', '9dd72e52-5393-4c08-9eca-f7dace2e59f6', '239dd3c9-35f3-4462-95ee-91b822a22e6b', '1d4a7bd6-296a-48b9-b20e-bd0ac80750a5', '687017d4-c9fc-458f-a7d5-0979fe1a7470', 'e0928e11-2b86-4387-a203-80c77fab5d52', '196a2adf-ff83-49b2-823a-33f990049c2e', '78b4fff5-c5ec-44d9-b5f9-d59493063f00', '1ca83b26-30fc-4350-a616-c38b7d00d240', '27ef44c0-acb2-4220-b776-477d0d5abd35', 'f115196e-8dfe-4d2a-8af3-8206d93c1729', 'a2701b93-d8e1-47e9-a819-f1063046f3e7', '446f4724-1690-49f9-819a-2bd8e2ea88ce', 'c8d46ee6-eb68-4535-8756-7c9aa32f10e4', '8928f98a-b411-497e-aa4b-aa752434686d', '3f859b5c-e73a-4044-b49e-34bb81e96715', 'f819d499-8bf7-4da0-a431-15377a8319d5', '752456f3-9f47-4fbf-bd44-9d131c0f41aa', '1b9e349e-93f2-41cc-a4b5-b212d7ddc8df', '6b0b5d24-bcda-4053-a59c-beaa1fe03b8f', 'd901aff5-2250-467a-b4a1-0cb9729df9e2', '5b49aca6-a6f4-4075-931a-617ad64c219c', 'eacc49a9-f3a1-49f1-b87f-0972f90ee837', '3e6a97d3-3991-49e2-b346-6948cb4580fb', '1425bd6f-c625-4f6a-b237-dc5bcfc42c87', '7f5df7eb-cf36-4589-a20a-14b535441142', '63c70ae8-4dfb-418b-b21b-f0b1e5fba6c9', 'b887df2c-bb9c-44c9-a9c0-538da87b2cab', '9b528ad0-4599-4a55-9148-96cc1d93fb24', 'a4747ac8-6a75-444f-b99b-696fff0243fd', 'f4ffb731-8349-4fe4-806e-0232a84e52dd', '23c75e0b-05d8-452e-8efb-a3687ab94079', '91bac580-76ed-41ab-ac07-89051f8d7f6e', '0c828385-6dd6-4842-a702-c5075f5f5e81', 'e6043c7d-8f6e-4b66-8309-2ec0abac0f79', 'd04feec7-d0b7-4f35-af89-0232dd975bf0', 'ffef0311-8ffa-49e3-a857-b3adf6d86e12', 'e45481fa-be22-4365-972c-e7404ed8ab5a', 'e2b845a1-e313-4a08-bc61-a5f662ed295e', 'f99ac31f-171b-4208-a55d-5644c0ad51c3', '32d27583-56aa-4510-bc03-669036edad20', '90e524a2-aa63-47ce-b5b8-1b1941a1223a', '09156021-9a1d-4e1d-ae59-48cbde3c5d42', '9a6e127b-bb07-4be2-92e2-53dd858c2762', '64977c74-9c04-437a-9ea1-50386c4996db', '6f36868f-5cc1-450c-82fa-6b9829ce0cfe', '5455a21c-1be7-4cae-ae8e-8853a8d5f55e', '111c1762-7908-47e0-9f40-2f2ee55b6505', 'bda2faf5-9563-4940-a80f-ce444259e47b', '8d316998-28c3-4265-b029-e2ca82375b2f', 'fa8ad50d-76f2-45fa-a52f-08fe3d942345', '2bdf206a-820f-402f-920a-9e86cd5388a4', 'b196a2ad-511b-4e90-ac99-b5a29ad25c22', '1b715600-0cbc-442c-bd00-5b0ac2865de1', '3537d970-f515-4786-853f-23de525e110f', '19b44992-d527-4a12-8bda-aa11379cb08c', 'ebc9392c-1ecb-4b4b-a545-4e3d70d23611', '8a3a0197-b40a-449f-be55-c00b23253bbf', '58c4bf97-ec3b-45b4-9db4-d5d9515d5b00', '5dcee0eb-b34d-4652-acc3-d10afc6eae68', '19e66dc9-bf9f-430b-9d6a-acfa85de6fb7', '30af8629-7b96-45b7-8778-374720ddbc5e', 'cea755db-4eee-4138-bdd6-fc23a572f5a1', '1b61b7f2-a599-4e40-abd6-3e758d2c9e25', 'c7bf2d49-4937-4597-b307-9f39cb1c7b16', 'bb099402-fb31-4cfd-824e-1c97530a0875', 'd71e565d-4ddb-42df-849e-f99cfdeced52', 'f27e6cd6-cdd3-4524-b8e3-8146046e2a7d', '68775ca0-b056-48d5-b6ae-a4c2a76ae48f', '8b1f4024-3d96-4ee7-95f9-8a1dfd4ce4ef', '10fac7a1-919d-4ca7-83c4-4675bd8d9416', '03d9a098-07bf-4765-88b7-85f8d8f620cc', 'd57df551-6dcb-4242-9c72-b806cff5613a', '5bcafa14-71cb-42fa-8265-ce5cda1b89e0', '08102cfc-a040-4bcf-b63c-faa0f4914a6f', '824cf03d-4012-4ab1-b499-c83a92c5589e', '537677fe-1e24-4755-948c-fa4a4e8ecce5', '51e53aff-1d5d-4182-a684-aba783d50ae5', '1f095590-6669-46c9-986b-ccaf0620c5e9', '3d59aa1a-b4ba-47fe-b9cf-741b5fdb0c7b', '93ad879a-aa42-4150-83e1-38773c9785e4', 'a405053a-eb13-4aa4-850c-5a337e5dc7fd', 'c51f34d8-42f6-4c9c-bb5b-669fd9c42cd9', 'fc43390d-457e-463a-9fd4-b94a0a8b48f5', '64e3fb86-928c-4079-865c-b364205b502e', '288bfbf3-3700-4abe-b6e4-130b5c541e61', '6434f2f5-6bce-42b8-8563-d93d493613a2', '0802ced5-33a3-405e-8336-b65ebc5cb07c', '72982282-e493-45ee-87ce-aa45cb3a3ec1', '15948667-747b-4702-9d53-354ac70e9119', 'd32876dd-8303-4720-8e7e-20678dc2fd71', 'f140a2ec-fd49-4814-994a-fe3476f14e66', '58b1e920-cfc8-467e-b28b-7654a55d0977', '86b6ba67-c1db-4333-add0-f8105ea6e363', '69a0e953-a643-4f0e-bb26-dc65af3ea7d7', '821f1883-27f3-411d-afd3-fb8241bbc39a', 'af55d16f-0e31-4073-bdb5-26da54914aa2', '72028382-a869-4745-bacf-cb8789e16953', 'e9fc0a2d-c69d-44d1-9fa3-314782387cae', '0cc486c3-8c7b-494d-aa04-b70e2690bcba', 'd2832a38-27f6-452d-91d6-af72d794136c', '7cec9792-b8f9-4878-be7e-f08103dc0323', '88224abb-5746-431f-9c17-17d7ef806e6a', 'a4a74102-2af5-45dc-9e41-ef7f5aed88be', '72cb5550-43b4-4ef0-add5-e4adfdfb5e02', '91a3353a-2da1-420d-8c7c-fad2fedfdd18', 'ee212778-3903-4f5b-ac4b-a72f22debf03', 'ac7d3064-7f09-48a3-88d2-e86a4eb86461', '7082d8ff-255a-47d7-a839-bf093483ec30', 'fa1f26a1-eb49-4b24-917e-19f02a18ac61', '4503697e-af44-47d9-898d-4924be990240', '35ed605c-1a1a-47b1-86ff-2b56144f55af', '0a018f12-ee06-4b11-97aa-bbbff5448e9f', '6ed57216-498d-48a6-b48b-a243a34710ea', '872ce8ff-9fb3-485c-be00-bc5479e0095b', 'b22f694e-4a34-4142-ab9d-2556c3487086', '30c4e2ab-dffc-499d-aae4-e51d6b3218c2', '6f6d2c8e-28be-49f4-ae4d-06be2d3148c1', 'd0c91c3c-8cbb-4929-8657-31f18bffc294', 'f359281f-6941-4bfd-90d4-940be22ed3c3', '71855308-7e54-41d7-a7a4-b042e78e3b4f', '8ca740c5-e7fe-430a-aa10-e74e9c3cbbe8', '5157810e-0fff-4bcf-b19d-32d4e39c7dfc', '0b7ee1b6-42db-46cd-a465-08f531366187', '113c5b6c-940e-4b21-b462-789b4c2be0e5', '71e03be6-b497-4991-a121-9416dcc1a6e7', 'ab8a0899-a59f-42e4-8807-95b14056104b', 'f5591ac5-311d-4fa8-9bad-029d7be9c491', '1a507308-c63a-4e02-8f32-3239a07dc578', '21d21fc3-4201-4edc-802a-c67b61952548', 'dc21e80d-97d7-44ca-a729-a8e3f9b14305', '09394481-8dd2-4d5c-9327-f2753ede92d7', 'aec5d3cc-4bb2-4349-80a9-0395b76f04e2', '8c2f7f4d-7346-42a4-a715-4d37a5208535', 'a9138924-4395-4981-83d1-530f6ff7c8fc', 'ff96bfe1-d925-4553-94b5-bf8297adf259', '83d85891-bd75-4557-91b4-1cbb5f8bfc9d', 'f88d4dd4-ccd7-400e-9035-fa00be3bcfa8', '7af49c00-63dd-4fed-b2e0-1b3bd945b20b', '3f6e25ae-c007-4dc3-aa77-450fd5705046', '2c44a360-5a56-4971-8009-f469fb59de98', '9b5a1754-ac99-4d53-97d3-35c2f6638507', '73918ae1-e4fd-4c18-b132-00cb555b1ad2', 'f304211a-81b1-446f-a435-25e589fe3a5a', '4aa1d525-5c7d-4c50-a147-ec53a9014812', '952870e5-f2a7-4518-9e6d-71585460f6fe', 'd0ea3148-948d-4817-94f8-dcaf2342bbbe', 'c728f6fd-58e2-448d-aefb-a72c637b604c', '91e04f86-89df-4dec-a8f8-fa915c9a5f1a', '25d1920e-a2af-4b6c-9f2e-fc6c65576544', '9545aa05-3945-4054-a5c3-a259f7209d61', 'd3a2b25e-46d3-4f0b-ade6-4e32255f4c35', '0cad7ea8-8e6c-4ad1-a5c5-53fbb2df1a63', '781b35fd-e1f0-4d14-b2bb-95b7263082bb', '5285c561-80da-4563-8694-739da92e5dd0', 'f1db6257-85ef-4385-b415-2d078ec75df2', 'd9f0c293-df4c-410a-846d-842e47c6b502', '3638d102-e8b6-4230-8742-e548cd87a949', 'a6fe44a8-07ab-49b8-81f9-e18575aa85cc', 'e5c75b62-6871-4135-b3d0-f6464c2d90c0', '571d3ffe-54a5-473d-a265-5dc373eb7efc', '9468fa93-21ae-4984-955c-e8402e280c83', 'aa3432cd-62bd-40bc-bc1c-a12d53bcbdcf', 'dfbe628d-365b-461c-a07f-8b9911ba83aa', '9e9c6fc0-4769-4d83-9ea4-b59a1230510e', '69c9a415-f7fa-4208-887b-1417c1479b48', '0ac8d013-b91e-4732-bc7b-a1164ff3e445', 'c4432264-e1ae-446f-8a07-6280abade813', 'd7e60cc3-6020-429e-a654-636c6cc677ea', '360eac0c-7d2d-4cc1-9dcf-79fc7afc56e7', '81a1dca0-cc90-47c5-afe3-c277319c47c8', '875c1e5c-f7ec-45ac-ab82-ecfe7276a707', 'dac3a4c1-b666-4de0-87e8-8c514483cacf', '07dc4b76-5b93-4a03-82a0-b3d9cc73f412', '493170a6-fd94-4ee4-884f-cc018c17eeb9', '8c552ddc-813e-4035-81cc-3971b57efe65', '032452e9-1886-449d-9c13-0f192572e19f', '75b6b132-d998-4fba-8482-961418ac957d', '239cdbb1-68e2-4eb0-91d8-ae5ae4001c7a', '63f3dbc1-1a5f-44e5-98dd-ce25cd2b7871', '5d6aa933-4b00-4e99-ae2d-5003657592e9', '09b2c4d1-058d-4c84-9fd4-97530f85baf6', '56bc129c-6265-407a-a208-cc16d20a6c01', 'f84045b0-ce09-4ace-9d11-5ea491620707', '7cb81727-2097-4b52-b480-c89867b5b34c', '5ec72172-3901-4771-8777-6e9490ca51fc', '5b609f9b-75cb-43d3-9c39-b5b4b7a0db67', '22e04698-b974-4805-b241-3b547dbf37bf', '5569f363-0934-464e-9a5b-77c8e67791a1', '746d1902-fa59-4cab-b0aa-013be36060d5', '1928bf72-2002-46a6-8930-728420402e01', '77e6dc6a-66ed-433c-b1a2-778c914f523c', 'cde63527-7f5a-4cc3-8ac2-215d82e7da26', '7416f387-b302-4ca3-8daf-03b585a1b7ec', '7691eeb3-715b-4571-8fda-6bb57aab8253', 'fc14c0d6-51cf-48ba-b326-56ed5a9420c3', '45ef6691-7b80-4a43-bd1a-85fc00851ae8', 'e8b4fda3-7fe4-4706-8ec2-91036cfee6bd', '54238fd6-d2d0-4408-b1a9-d19d24fd29ce', '6bb5da8f-6858-4fdd-96d9-c34b3b841593', '671c7ea7-6726-4fbe-adeb-f89c2c8e489b', 'eebacd5a-7dcd-4ba6-9dff-ec2a4d2f19e0', '6c6983ef-7383-4989-9183-32b1a300d17a', '91796ceb-e314-4859-9a1f-092f85cc846a', '2e22c1fc-eec6-4856-85a0-7dba8668f646', '56b57c38-2699-4091-90a8-aba35103155e', '948fd27b-507b-41b3-bdf8-f9f5f0af8e0b', 'e012d3e3-fdbc-4661-9ffa-5fa284e4e706', '26aa51ff-968c-42e4-85c8-8ff47d19254d', '9fe512b8-92a8-4642-83b6-01158ab66c3c', '9eec761e-9762-4897-b308-a3a08c311e69', 'f7335a49-4a98-46d2-a8ce-d041d2eac1d6', '4a45c8ba-db6f-4f11-9403-56e06a33dfa4', '4ecb5d24-f5cc-402c-be28-9d0f7cb14b3a', '754b74d5-7a06-4004-ae0c-72a10b6ed2e6', 'c6db3304-c906-400c-aa0f-45dd3945b2ea', '88d24c31-52e4-49cc-9f32-6adbeb9eba87', 'c7bd79c9-c47e-4ea5-aea3-74dda991b48e', '6fb1e12c-883b-46d1-a745-473cde3232c8', '695a6073-eae0-49e0-bb0f-e9e57a9275b9', 'fece187f-b47f-4870-a1d6-619afe942a7d', '6f09ba7e-e3ce-44b0-932b-c003fb44fb89', '993c7024-0abc-4028-ad30-d397ad55b084', 'f3ce3197-d534-4618-bf81-b687555d1883', '251ece37-7798-477c-8a06-2845d4aa270c', '5522ac4b-0e41-4c53-836a-aaa17e82b9eb', 'aa20388b-9ea3-4506-92f1-3c2be84b85db', 'fcd49e34-f07b-441c-b2ac-cb8c462ec5ac', 'c3d9b6fb-7fa9-4413-a364-92a54df0fc5d', '1ec23a70-b94b-4e9c-a0df-8c2151da3761', 'd23a44ef-1402-4ed7-97f5-47e9a7a504d9', '5339812f-8b91-40ba-9d8f-a559563cc46b', 'e349a2e7-50a3-47ca-bc45-20d1899854ec', '768a371d-7e88-47f8-bf21-4a6a6570dd6e', '15763234-d21e-491f-a01b-1238eb96d389', 'a7763417-e0d6-4f2a-aa55-e382fd9b5fb8', '25f77e81-c1af-46ab-8686-73ac3d67c4a7', 'e12fbe11-8a6b-4bf6-a955-e5f6cec31ef1', '4ef13091-1bc8-4f32-9619-107bdf48540c', '037d75ca-c90a-43f2-aca6-e86611916779', 'cae5cd75-55e5-4277-8db3-cf4d6c5ff918', 'ebe2efe3-e8a1-451a-8947-76ef42427cc9', 'b69b86be-af7d-4ecf-8cbf-0cd356afa1bd', 'edd22318-216c-44ff-bc24-49ce8be78374', '71e55bfe-5a3a-4cba-bdc7-f085140d798e', '626126d5-eecf-4e9b-900e-ec29a17ece07', '49e0ab27-827a-4c91-bcaa-97eea27a1b8d', '81a78eac-9d36-4f90-a73a-7eb3ad7f770b', '5adab0b7-dfd0-467d-b09d-43cb7ca5d59c', 'e56541a5-a6d5-4750-b1fe-f6b5257bfe7c', '5d01d14e-aced-4465-8f8e-9a1c674f62ec', '7f6b86f9-879a-4ea2-8531-294a221af5d0', '8c33abef-3d3e-4d42-9f27-445e9def08f9', 'c557324b-b95d-414c-888f-6ee1329a2329', '61e11a11-ab65-48fb-ae08-3cb80662e5d6', 'c7248e09-8c0d-40f2-9eb4-700a8973d8c8', '280ee768-f7b8-4c6c-9ea0-48ca75d6b6f3', 'ff48aa1d-ef30-4903-ac34-8c41b738c1b9', '03063955-2523-47bd-ae57-f7489dd40f15', '1e45d992-c356-40e1-9be1-a506d944896f', '90c61c38-b9fd-4cc3-9795-29160d2f8e55', 'b10ed1ba-2099-42c4-bee3-d053eb594f09', '4d8c7767-981c-4347-8e5e-5d5fffe38534', '6274dda8-3a59-4aa1-95f8-a8a549c46a26', '41872d7f-75cb-4445-bb1a-132b354c44f0', 'fe1fd79f-b051-411f-a0a9-2530a02cc78d', '934dd7a4-fbdc-459c-8830-04fe9033bc28', '549caacc-3bd7-40f1-913d-e94141816547', '20c112a1-8a42-44e0-a4cd-e5b932f7bda9', '65f5c9b4-4440-48b9-b914-c593a5184a18', 'dcceebe5-4589-44df-a1c1-9fa33e779727', 'f8041c1e-5ef4-4ae6-afec-ed82d7a74dc1', 'd832d9f7-c96a-4f63-8921-516ba4a7b61f', '4ddb8a95-788b-48d0-8a0a-66c7c796da96', 'b39752db-abdb-47ab-ae78-e8608bbf50ed', 'ee8b36de-779f-4dea-901f-e0141c95722b', 'f9860a11-24d3-452e-ab95-39e199f20a93', 'bd456d8f-d36e-434a-8051-ff3997253802', 'b658bc7d-07cd-4203-8a25-7b16b549851b', '862ade13-53cd-4221-a3fa-dda8643641f2', '7622da34-51b6-4661-98ae-a57d40806008', '4720c98a-a305-4fba-affb-bbfa00a724a4', '66d98e6e-bcd9-4e78-8fbb-636f7e808b29', 'f25642c6-27a5-4a97-9ea0-06652db79fbd', '28741f91-c837-4147-939e-918d38d849f2', 'fb70ebf7-8175-42b0-9b7a-7c6e8612226e', 'f312aaec-3b6f-44b3-86b4-3a0c119c0438', '8207abc6-6b23-4762-92b4-82e05bed5143', 'b81e3e11-9a60-4114-b894-09f85074d9c3', '90e74228-fd1a-482f-bd56-05dbad132861', '6a601cc5-7b79-4c75-b0e8-552246532f82', 'a82800ce-f4e3-4464-9b80-4c3d6fade333', 'a66f1593-dafd-4982-9b66-f9554b6c86b5', '41431f53-69fd-4e3b-80ce-ea62e03bf9c7', '1eac875c-feaa-4a30-b148-059b954b11d8', '8db36de1-8f17-4446-b527-b5d91909b45a', 'da188f2c-553c-4e04-879b-c9ea2d1b9a93', '03cf52f6-fba6-4743-a42e-dd1ac3072343', '5b44c40f-80f4-44fb-abfb-c7f19e27a6ca', '7be8fec4-406b-4e74-8548-d2885dcc3d5e', '6364ff7f-6471-415a-ab9e-632a12052690', 'e535fb62-e245-4a48-b119-88ce62a6fe67', 'f10efe41-0dc0-44d0-8f26-5ff68dca23e9', '1191f865-b10a-45c8-9c48-24a980fd9402', '6668c4a0-70a4-4012-a7da-709660971d7a', '2e6e179c-fccc-4e8f-9448-ce5b6858a183', '37e96d0b-5b4b-4c6e-9b29-7edbdc94bbd0', '9a629642-3a9c-42ed-b70a-532db0e86199', 'e5c772cd-9c92-47ab-9525-d618b66a9b5d', 'd16a9a8d-5f42-4b49-ba58-1746f807fcc1', '2f63c555-eb74-4d8d-ada5-5c3ecf3b46be', 'a19c7a3a-7261-42ce-95d5-1f4ca46007ed', 'dda5fc59-f09a-4256-9fb5-66c67667a466', '413a6825-2144-4a50-b3fc-cf38ddd6fd1a', '57b5ae8f-d446-4161-b439-b191c5e3e77b', '30e5937e-e86a-47e6-93ae-d2ae3877ff8e', 'ee13c19e-2790-4418-97ca-48f02e8013bb', '158d5d35-a2ab-4a76-87b0-51048c5d5283', '0f25376f-2b78-4ddc-8c39-b6cdbe7bf5b9', 'd2f5a130-b981-4546-8858-c94ae1da75ff', '3c851386-e92d-4533-8d55-89a46f0e7384', '3dd347df-f14e-40d5-9ff2-9c49f84d2157', '7939711b-8b4d-4251-b698-b97c1eaa846e', 'db4df448-e449-4a6f-a0e7-288711e7a75a', '46794e05-3f6a-4d35-afb3-9165091a5a74', 'fa704052-147e-46f6-b190-a65b837e605e', 'dfd8e7df-dc51-4589-b6ca-7baccfeb94b4', '034e726f-b35f-41e0-8d6c-a22cc32391fb', '56956777-dca5-468c-87cb-78150432cc57', '4b00df29-3769-43be-bb40-128b1cba6d35', '83e77b4b-dfa0-4af9-968b-7ea0c7a0c7e4', '5386aba9-9b97-4557-abcd-abc2da66b863', '6713a4a7-faed-4df2-acab-ee4e63326f8d', '85dc2ebd-8aaf-46b0-9284-a197aee8b16f', '0cbeae00-e229-4b7d-bdcc-1b0569d7e0c3', '3663d82b-f197-4e8b-b299-7b803a155b84', '38d95489-2e82-412a-8c1a-c5377b5f1555', '57fd2325-67f4-4d45-9907-29e77d3043d7', 'a71175be-d1fd-47a3-aa93-b830ea3634a1', 'cf43dbb1-6992-40ec-a5f9-e8e838d0f643', '572a95d1-39ca-42e1-8424-5c9ffcb2df87', '741979ce-3f10-443a-8526-2275620c8473', 'ecb5520d-1358-434c-95ec-93687ecd1396', '810b1e07-009e-4ebe-930a-915e4cd8ece4', '36280321-555b-446d-9b7d-c2e17991e090', 'eef82e27-c20e-48da-b4b7-c443031649e3', 'f8d5c8b0-b931-4151-b86c-c471e2e80e5d', '7bee9f09-a238-42cf-b499-f51f765c6ded', 'ee40aece-cffd-4edb-a4b6-155f158c666a', '0deb75fb-9088-42d9-b744-012fb8fc4afb', 'e49d8ee7-24b9-416a-9d04-9be33b655f40', '02fbb6da-3034-47d6-a61b-7d06c796a830', '12dc8b34-b18e-4cdd-90a9-da134a9be79c', '465c44bd-2e67-4112-977b-36e1ac7e3f8c', '931a70ae-90ee-448e-bedb-9d41f3eda647', 'ff4187b5-4176-4e39-8894-53a24b7cf36b', 'b03fbc44-3d8e-4a6c-8a50-5ea3498568e0', '193fe7a8-4eb5-4f3e-815a-0c45864ddd77', 'bb6a5aae-2431-401d-8f6a-9fdd6de655a9', '510b1a50-825d-44ce-86f6-9678f5396e02', '032ffcdf-7692-40b3-b9ff-8def1fc18b2e', '90d1e82c-c96f-496c-ad4e-ee3f02067f25', '259927fd-7563-4b03-bc5d-17b4d0fa7a55', 'a8a8af78-16de-4841-ab07-fde4b5281a03', '2d5f6d81-38c4-4bdc-ac3c-302ea4d5f46e', 'cb2ad999-a6cb-42ff-bf71-1774c57e5308', 'd33baf74-263c-4b37-a0d0-b79dcb80a764', 'b182b754-3c3e-4942-8144-6ee790926b58', '4fa70097-8101-4f10-b585-db39429c5ed0', 'b52182e7-39f6-4914-9717-136db589706e', '4364a246-f8d7-4ce7-ba23-a098104b96e4', '3e7ae7c0-fe8b-487c-9354-036236fa1010', 'e9b57a5a-b06d-476d-ad20-7ec42a16f5f5', 'd839491f-55d8-4cbe-a298-7839208ba12b', 'd2918f52-8280-43c0-924b-029b2317e62c', 'c99d53e6-c317-4c53-99ba-070b26673ac4', '4b7fbad4-f6de-43b4-9b15-c7c7ef44db4b', '53738f95-bd08-4d9d-9133-483fdb19e8da', '21e16736-fd59-44c7-b938-9b1333d25da8', '614e1937-4b24-4ad3-9055-c8253d089919', 'aad23144-0e52-4eac-80c5-c4ee2decb198', '15f742e1-1043-45c9-9504-f1e8a53c1744', 'dd87e278-999d-478b-8cbd-b5bf92b84763', 'a92c4b1d-46bd-457e-a1f4-414265f0e2d4', '16c3667b-e0ea-43fb-9ad4-8dcd1e6c40e1', 'cc45c568-c3b9-4f74-836e-c87762e898c8', 'b9c205c3-feac-485b-a89d-afc96d9cb280', 'e5fae088-ed96-4d9b-82f9-dfd13c259d52', 'a4000c2f-fa75-4b3e-8f06-a7cf599b87ad', '6cf2a88a-515b-4f7f-89a2-7d53eab9b5f4', 'e1931de1-cf7b-49af-af33-2ade15e8abe7', 'ebe090af-5922-4fcd-8fc6-17b8ba7bad6d', '16693458-0801-4d35-a3f1-9115c7e5acfd', 'dd4da095-4a99-4bf3-9727-f735077dba66', '49368f16-de69-4647-9a7a-761e94517821', '5139ce2c-7d52-44bf-8129-692d61dd6403']\n",
      "<one.util.LazyId object at 0x000001EA12B23FD0>\n"
     ]
    }
   ],
   "source": [
    "dataset = 'spikes.times.npy'\n",
    "# query sessions endpoint\n",
    "sessions = one.search(dataset=dataset); print(sessions)\n",
    "# query dataset endpoint\n",
    "insertions = one.search_insertions(dataset=dataset); print(insertions)"
   ]
  },
  {
   "cell_type": "markdown",
   "metadata": {},
   "source": [
    "Searching by brain region"
   ]
  },
  {
   "cell_type": "code",
   "execution_count": 18,
   "metadata": {},
   "outputs": [
    {
     "name": "stdout",
     "output_type": "stream",
     "text": [
      "<one.util.LazyId object at 0x000001EA772C4B50>\n",
      "<one.util.LazyId object at 0x000001EA12B236D0>\n"
     ]
    }
   ],
   "source": [
    "brain_acronym = 'CA1'\n",
    "# query sessions endpoint\n",
    "sessions = one.search(atlas_acronym=brain_acronym, query_type='remote'); print(sessions)\n",
    "# query insertions endpoint\n",
    "insertions = one.search_insertions(atlas_acronym=brain_acronym); print(insertions)"
   ]
  },
  {
   "cell_type": "markdown",
   "metadata": {},
   "source": [
    "#### **<font color=skyblue>Exercise 3</font>**\n",
    "Find the number of sessions that pass through the brain region VPM and have DLC (lick.times.npy) data"
   ]
  },
  {
   "cell_type": "code",
   "execution_count": 19,
   "metadata": {},
   "outputs": [
    {
     "name": "stdout",
     "output_type": "stream",
     "text": [
      " No. of sessions = 44\n"
     ]
    }
   ],
   "source": [
    "brain_acronym = 'VPM'\n",
    "dset = 'licks.times.npy'\n",
    "# query sessions endpoint using one.search\n",
    "sessions = one.search(atlas_acronym=brain_acronym, dataset=dset, query_type='remote')\n",
    "print(f' No. of sessions = {len(sessions)}')"
   ]
  },
  {
   "cell_type": "markdown",
   "metadata": {},
   "source": [
    "##### **Loading data for an experiment**\n",
    "ONE has built in load methods that can be used to download and load data of interest for an experiment\n",
    "\n",
    "**1) <font color=pink>one.load_dataset(s)</font>**\n",
    "- Downloads and loads data for single dataset(s) - This requires knowing the collection"
   ]
  },
  {
   "cell_type": "code",
   "execution_count": 20,
   "metadata": {},
   "outputs": [],
   "source": [
    "# Load in a single dataset\n",
    "dataset = 'clusters.amps.npy'\n",
    "cluster_amps = one.load_dataset(eid, dataset, collection='alf/probe00/pykilosort')"
   ]
  },
  {
   "cell_type": "code",
   "execution_count": 21,
   "metadata": {},
   "outputs": [],
   "source": [
    "# load in a list of datasets, need to provide list of collectins too\n",
    "datasets = ['clusters.amps.npy', 'clusters.depths.npy']\n",
    "(cluster_amps, cluster_depths), info = one.load_datasets(eid,datasets, collections=['alf/probe00/pykilosort', 'alf/probe00/pykilosort'])"
   ]
  },
  {
   "cell_type": "markdown",
   "metadata": {},
   "source": [
    "**2) <font color=pink>one.load_object</font>**\n",
    "- Downloads all atibutes associated with a specified object"
   ]
  },
  {
   "cell_type": "code",
   "execution_count": 22,
   "metadata": {},
   "outputs": [
    {
     "name": "stdout",
     "output_type": "stream",
     "text": [
      "dict_keys(['amps', 'channels', 'depths', 'metrics', 'peakToTrough', 'uuids', 'waveforms', 'waveformsChannels'])\n"
     ]
    }
   ],
   "source": [
    "# load in an object\n",
    "obj = 'clusters'\n",
    "clusters = one.load_object(eid, obj, collection='alf/probe00/pykilosort')\n",
    "print(clusters.keys())"
   ]
  },
  {
   "cell_type": "markdown",
   "metadata": {},
   "source": [
    "**3) Specialised loader functions : session / spike sorting**\n",
    "- Downloads all useful datasets for analysis"
   ]
  },
  {
   "cell_type": "markdown",
   "metadata": {},
   "source": [
    "**<font color=pink>SessionLoader</font>**"
   ]
  },
  {
   "cell_type": "code",
   "execution_count": 23,
   "metadata": {},
   "outputs": [
    {
     "name": "stderr",
     "output_type": "stream",
     "text": [
      "c:\\Users\\stell\\anaconda3\\envs\\ibl\\lib\\site-packages\\one\\util.py:543: ALFWarning: Multiple revisions: \"2022-01-31\", \"\"\n",
      "  warnings.warn(f'Multiple revisions: {rev_list}', alferr.ALFWarning)\n",
      "c:\\Users\\stell\\anaconda3\\envs\\ibl\\lib\\site-packages\\one\\util.py:543: ALFWarning: Multiple revisions: \"2022-01-31\", \"\"\n",
      "  warnings.warn(f'Multiple revisions: {rev_list}', alferr.ALFWarning)\n",
      "c:\\Users\\stell\\anaconda3\\envs\\ibl\\lib\\site-packages\\one\\util.py:543: ALFWarning: Multiple revisions: \"2022-01-31\", \"\"\n",
      "  warnings.warn(f'Multiple revisions: {rev_list}', alferr.ALFWarning)\n"
     ]
    }
   ],
   "source": [
    "# 1. Load session data\n",
    "from brainbox.io.one import SessionLoader\n",
    "from one.api import ONE\n",
    "one = ONE()\n",
    "\n",
    "# Select an eid\n",
    "eid = '4ecb5d24-f5cc-402c-be28-9d0f7cb14b3a'\n",
    "\n",
    "# Load the data\n",
    "sl = SessionLoader(eid=eid, one=one)\n",
    "sl.load_trials()\n",
    "sl.load_wheel()\n",
    "sl.load_pose()"
   ]
  },
  {
   "cell_type": "markdown",
   "metadata": {},
   "source": [
    "**<font color=pink>SpikeSortingLoader </font>**"
   ]
  },
  {
   "cell_type": "code",
   "execution_count": 24,
   "metadata": {},
   "outputs": [
    {
     "name": "stderr",
     "output_type": "stream",
     "text": [
      "c:\\Users\\stell\\anaconda3\\envs\\ibl\\lib\\site-packages\\one\\util.py:543: ALFWarning: Multiple revisions: \"\", \"2024-05-06\"\n",
      "  warnings.warn(f'Multiple revisions: {rev_list}', alferr.ALFWarning)\n",
      "c:\\Users\\stell\\anaconda3\\envs\\ibl\\lib\\site-packages\\one\\util.py:543: ALFWarning: Multiple revisions: \"\", \"2024-05-06\"\n",
      "  warnings.warn(f'Multiple revisions: {rev_list}', alferr.ALFWarning)\n"
     ]
    }
   ],
   "source": [
    "# 2. Load spike sorting data\n",
    "from brainbox.io.one import SpikeSortingLoader\n",
    "from one.api import ONE\n",
    "one = ONE()\n",
    "\n",
    "# Select a pid\n",
    "pid = '695476f6-4c14-4a2f-b658-948514629079'\n",
    "\n",
    "# load the data\n",
    "spike_loader = SpikeSortingLoader(pid=pid, one=one)\n",
    "spikes, clusters, channels = spike_loader.load_spike_sorting()\n",
    "clusters = spike_loader.merge_clusters(spikes, clusters, channels)"
   ]
  },
  {
   "cell_type": "markdown",
   "metadata": {},
   "source": [
    "##### **Example**\n",
    "1. Load in trials data for a particular session using 'one.load_object'"
   ]
  },
  {
   "cell_type": "code",
   "execution_count": 25,
   "metadata": {},
   "outputs": [],
   "source": [
    "# 1. Load in trials data\n",
    "from one.api import ONE\n",
    "\n",
    "eid = '4720c98a-a305-4fba-affb-bbfa00a724a4'\n",
    "trials = one.load_object(eid, 'trials')"
   ]
  },
  {
   "cell_type": "markdown",
   "metadata": {},
   "source": [
    "2. Explore the trials object"
   ]
  },
  {
   "cell_type": "code",
   "execution_count": 26,
   "metadata": {},
   "outputs": [
    {
     "name": "stdout",
     "output_type": "stream",
     "text": [
      "Trials object has attributes: dict_keys(['stimOff_times', 'goCueTrigger_times', 'choice', 'contrastLeft', 'stimOn_times', 'response_times', 'goCue_times', 'firstMovement_times', 'probabilityLeft', 'contrastRight', 'feedbackType', 'rewardVolume', 'feedback_times', 'intervals'])\n",
      "\n",
      "\n",
      "stimOff_times has shape (608,)\n",
      "goCueTrigger_times has shape (608,)\n",
      "choice has shape (608,)\n",
      "contrastLeft has shape (608,)\n",
      "stimOn_times has shape (608,)\n",
      "response_times has shape (608,)\n",
      "goCue_times has shape (608,)\n",
      "firstMovement_times has shape (608,)\n",
      "probabilityLeft has shape (608,)\n",
      "contrastRight has shape (608,)\n",
      "feedbackType has shape (608,)\n",
      "rewardVolume has shape (608,)\n",
      "feedback_times has shape (608,)\n",
      "intervals has shape (608, 2)\n"
     ]
    },
    {
     "data": {
      "text/html": [
       "<div>\n",
       "<style scoped>\n",
       "    .dataframe tbody tr th:only-of-type {\n",
       "        vertical-align: middle;\n",
       "    }\n",
       "\n",
       "    .dataframe tbody tr th {\n",
       "        vertical-align: top;\n",
       "    }\n",
       "\n",
       "    .dataframe thead th {\n",
       "        text-align: right;\n",
       "    }\n",
       "</style>\n",
       "<table border=\"1\" class=\"dataframe\">\n",
       "  <thead>\n",
       "    <tr style=\"text-align: right;\">\n",
       "      <th></th>\n",
       "      <th>stimOff_times</th>\n",
       "      <th>goCueTrigger_times</th>\n",
       "      <th>choice</th>\n",
       "      <th>contrastLeft</th>\n",
       "      <th>stimOn_times</th>\n",
       "      <th>response_times</th>\n",
       "      <th>goCue_times</th>\n",
       "      <th>firstMovement_times</th>\n",
       "      <th>probabilityLeft</th>\n",
       "      <th>contrastRight</th>\n",
       "      <th>feedbackType</th>\n",
       "      <th>rewardVolume</th>\n",
       "      <th>feedback_times</th>\n",
       "      <th>intervals_0</th>\n",
       "      <th>intervals_1</th>\n",
       "    </tr>\n",
       "  </thead>\n",
       "  <tbody>\n",
       "    <tr>\n",
       "      <th>0</th>\n",
       "      <td>15.867546</td>\n",
       "      <td>14.145882</td>\n",
       "      <td>-1.0</td>\n",
       "      <td>NaN</td>\n",
       "      <td>14.145685</td>\n",
       "      <td>14.800484</td>\n",
       "      <td>14.146585</td>\n",
       "      <td>14.479997</td>\n",
       "      <td>0.5</td>\n",
       "      <td>1.000</td>\n",
       "      <td>1.0</td>\n",
       "      <td>1.5</td>\n",
       "      <td>14.800586</td>\n",
       "      <td>10.969770</td>\n",
       "      <td>16.367592</td>\n",
       "    </tr>\n",
       "    <tr>\n",
       "      <th>1</th>\n",
       "      <td>19.617038</td>\n",
       "      <td>18.296189</td>\n",
       "      <td>1.0</td>\n",
       "      <td>0.2500</td>\n",
       "      <td>18.296037</td>\n",
       "      <td>18.552188</td>\n",
       "      <td>18.296837</td>\n",
       "      <td>18.437997</td>\n",
       "      <td>0.5</td>\n",
       "      <td>NaN</td>\n",
       "      <td>1.0</td>\n",
       "      <td>1.5</td>\n",
       "      <td>18.552278</td>\n",
       "      <td>16.748692</td>\n",
       "      <td>20.117087</td>\n",
       "    </tr>\n",
       "    <tr>\n",
       "      <th>2</th>\n",
       "      <td>22.462120</td>\n",
       "      <td>20.979787</td>\n",
       "      <td>-1.0</td>\n",
       "      <td>NaN</td>\n",
       "      <td>20.979602</td>\n",
       "      <td>21.396189</td>\n",
       "      <td>20.980468</td>\n",
       "      <td>21.110997</td>\n",
       "      <td>0.5</td>\n",
       "      <td>0.250</td>\n",
       "      <td>1.0</td>\n",
       "      <td>1.5</td>\n",
       "      <td>21.396293</td>\n",
       "      <td>20.487884</td>\n",
       "      <td>22.962199</td>\n",
       "    </tr>\n",
       "    <tr>\n",
       "      <th>3</th>\n",
       "      <td>25.212778</td>\n",
       "      <td>23.834504</td>\n",
       "      <td>-1.0</td>\n",
       "      <td>NaN</td>\n",
       "      <td>23.834316</td>\n",
       "      <td>24.152707</td>\n",
       "      <td>23.835416</td>\n",
       "      <td>24.047997</td>\n",
       "      <td>0.5</td>\n",
       "      <td>0.125</td>\n",
       "      <td>1.0</td>\n",
       "      <td>1.5</td>\n",
       "      <td>24.152818</td>\n",
       "      <td>23.336199</td>\n",
       "      <td>25.712823</td>\n",
       "    </tr>\n",
       "    <tr>\n",
       "      <th>4</th>\n",
       "      <td>28.034496</td>\n",
       "      <td>26.650927</td>\n",
       "      <td>-1.0</td>\n",
       "      <td>NaN</td>\n",
       "      <td>26.650735</td>\n",
       "      <td>26.963229</td>\n",
       "      <td>26.651735</td>\n",
       "      <td>26.735997</td>\n",
       "      <td>0.5</td>\n",
       "      <td>0.250</td>\n",
       "      <td>1.0</td>\n",
       "      <td>1.5</td>\n",
       "      <td>26.963303</td>\n",
       "      <td>26.085824</td>\n",
       "      <td>28.534539</td>\n",
       "    </tr>\n",
       "    <tr>\n",
       "      <th>...</th>\n",
       "      <td>...</td>\n",
       "      <td>...</td>\n",
       "      <td>...</td>\n",
       "      <td>...</td>\n",
       "      <td>...</td>\n",
       "      <td>...</td>\n",
       "      <td>...</td>\n",
       "      <td>...</td>\n",
       "      <td>...</td>\n",
       "      <td>...</td>\n",
       "      <td>...</td>\n",
       "      <td>...</td>\n",
       "      <td>...</td>\n",
       "      <td>...</td>\n",
       "      <td>...</td>\n",
       "    </tr>\n",
       "    <tr>\n",
       "      <th>603</th>\n",
       "      <td>2883.413596</td>\n",
       "      <td>2881.596802</td>\n",
       "      <td>-1.0</td>\n",
       "      <td>NaN</td>\n",
       "      <td>2881.596645</td>\n",
       "      <td>2882.352307</td>\n",
       "      <td>2881.597778</td>\n",
       "      <td>2882.013997</td>\n",
       "      <td>0.2</td>\n",
       "      <td>0.000</td>\n",
       "      <td>1.0</td>\n",
       "      <td>1.5</td>\n",
       "      <td>2882.352403</td>\n",
       "      <td>2881.060798</td>\n",
       "      <td>2883.913720</td>\n",
       "    </tr>\n",
       "    <tr>\n",
       "      <th>604</th>\n",
       "      <td>2888.246880</td>\n",
       "      <td>2885.685226</td>\n",
       "      <td>-1.0</td>\n",
       "      <td>0.0625</td>\n",
       "      <td>2885.685069</td>\n",
       "      <td>2886.185928</td>\n",
       "      <td>2885.686069</td>\n",
       "      <td>2885.973997</td>\n",
       "      <td>0.2</td>\n",
       "      <td>NaN</td>\n",
       "      <td>-1.0</td>\n",
       "      <td>0.0</td>\n",
       "      <td>2886.186719</td>\n",
       "      <td>2884.817523</td>\n",
       "      <td>2888.746939</td>\n",
       "    </tr>\n",
       "    <tr>\n",
       "      <th>605</th>\n",
       "      <td>2891.918113</td>\n",
       "      <td>2890.201343</td>\n",
       "      <td>-1.0</td>\n",
       "      <td>NaN</td>\n",
       "      <td>2890.201184</td>\n",
       "      <td>2890.846547</td>\n",
       "      <td>2890.201984</td>\n",
       "      <td>2890.420997</td>\n",
       "      <td>0.2</td>\n",
       "      <td>0.250</td>\n",
       "      <td>1.0</td>\n",
       "      <td>1.5</td>\n",
       "      <td>2890.846653</td>\n",
       "      <td>2889.643640</td>\n",
       "      <td>2892.418160</td>\n",
       "    </tr>\n",
       "    <tr>\n",
       "      <th>606</th>\n",
       "      <td>2950.578646</td>\n",
       "      <td>2894.046465</td>\n",
       "      <td>1.0</td>\n",
       "      <td>0.1250</td>\n",
       "      <td>2894.046333</td>\n",
       "      <td>2949.519476</td>\n",
       "      <td>2894.047266</td>\n",
       "      <td>2894.367997</td>\n",
       "      <td>0.2</td>\n",
       "      <td>NaN</td>\n",
       "      <td>1.0</td>\n",
       "      <td>1.5</td>\n",
       "      <td>2949.519585</td>\n",
       "      <td>2893.415063</td>\n",
       "      <td>2951.078685</td>\n",
       "    </tr>\n",
       "    <tr>\n",
       "      <th>607</th>\n",
       "      <td>3038.844185</td>\n",
       "      <td>2952.767089</td>\n",
       "      <td>1.0</td>\n",
       "      <td>NaN</td>\n",
       "      <td>2952.766894</td>\n",
       "      <td>2987.371420</td>\n",
       "      <td>2952.768060</td>\n",
       "      <td>2978.021997</td>\n",
       "      <td>0.2</td>\n",
       "      <td>0.000</td>\n",
       "      <td>-1.0</td>\n",
       "      <td>0.0</td>\n",
       "      <td>2987.372200</td>\n",
       "      <td>2952.173486</td>\n",
       "      <td>2989.928633</td>\n",
       "    </tr>\n",
       "  </tbody>\n",
       "</table>\n",
       "<p>608 rows × 15 columns</p>\n",
       "</div>"
      ],
      "text/plain": [
       "     stimOff_times  goCueTrigger_times  choice  contrastLeft  stimOn_times  \\\n",
       "0        15.867546           14.145882    -1.0           NaN     14.145685   \n",
       "1        19.617038           18.296189     1.0        0.2500     18.296037   \n",
       "2        22.462120           20.979787    -1.0           NaN     20.979602   \n",
       "3        25.212778           23.834504    -1.0           NaN     23.834316   \n",
       "4        28.034496           26.650927    -1.0           NaN     26.650735   \n",
       "..             ...                 ...     ...           ...           ...   \n",
       "603    2883.413596         2881.596802    -1.0           NaN   2881.596645   \n",
       "604    2888.246880         2885.685226    -1.0        0.0625   2885.685069   \n",
       "605    2891.918113         2890.201343    -1.0           NaN   2890.201184   \n",
       "606    2950.578646         2894.046465     1.0        0.1250   2894.046333   \n",
       "607    3038.844185         2952.767089     1.0           NaN   2952.766894   \n",
       "\n",
       "     response_times  goCue_times  firstMovement_times  probabilityLeft  \\\n",
       "0         14.800484    14.146585            14.479997              0.5   \n",
       "1         18.552188    18.296837            18.437997              0.5   \n",
       "2         21.396189    20.980468            21.110997              0.5   \n",
       "3         24.152707    23.835416            24.047997              0.5   \n",
       "4         26.963229    26.651735            26.735997              0.5   \n",
       "..              ...          ...                  ...              ...   \n",
       "603     2882.352307  2881.597778          2882.013997              0.2   \n",
       "604     2886.185928  2885.686069          2885.973997              0.2   \n",
       "605     2890.846547  2890.201984          2890.420997              0.2   \n",
       "606     2949.519476  2894.047266          2894.367997              0.2   \n",
       "607     2987.371420  2952.768060          2978.021997              0.2   \n",
       "\n",
       "     contrastRight  feedbackType  rewardVolume  feedback_times  intervals_0  \\\n",
       "0            1.000           1.0           1.5       14.800586    10.969770   \n",
       "1              NaN           1.0           1.5       18.552278    16.748692   \n",
       "2            0.250           1.0           1.5       21.396293    20.487884   \n",
       "3            0.125           1.0           1.5       24.152818    23.336199   \n",
       "4            0.250           1.0           1.5       26.963303    26.085824   \n",
       "..             ...           ...           ...             ...          ...   \n",
       "603          0.000           1.0           1.5     2882.352403  2881.060798   \n",
       "604            NaN          -1.0           0.0     2886.186719  2884.817523   \n",
       "605          0.250           1.0           1.5     2890.846653  2889.643640   \n",
       "606            NaN           1.0           1.5     2949.519585  2893.415063   \n",
       "607          0.000          -1.0           0.0     2987.372200  2952.173486   \n",
       "\n",
       "     intervals_1  \n",
       "0      16.367592  \n",
       "1      20.117087  \n",
       "2      22.962199  \n",
       "3      25.712823  \n",
       "4      28.534539  \n",
       "..           ...  \n",
       "603  2883.913720  \n",
       "604  2888.746939  \n",
       "605  2892.418160  \n",
       "606  2951.078685  \n",
       "607  2989.928633  \n",
       "\n",
       "[608 rows x 15 columns]"
      ]
     },
     "metadata": {},
     "output_type": "display_data"
    }
   ],
   "source": [
    "# 2. Explore the trials object\n",
    "\n",
    "# Find the keys in our object\n",
    "keys = trials.keys()\n",
    "print(f'Trials object has attributes: {keys}')\n",
    "\n",
    "# Explore the shape of the individual items\n",
    "print('\\n')\n",
    "for key in keys:\n",
    "    print(f'{key} has shape {trials[key].shape}')\n",
    "\n",
    "# Convert the trials dict to a pandas dataframe\n",
    "trials_df = trials.to_df()\n",
    "# Display the trials table\n",
    "from IPython.display import display # import module to display dataframe\n",
    "display(trials_df)"
   ]
  },
  {
   "cell_type": "markdown",
   "metadata": {},
   "source": [
    "3. Compute the reaction time for each trial in the session"
   ]
  },
  {
   "cell_type": "code",
   "execution_count": 27,
   "metadata": {},
   "outputs": [],
   "source": [
    "# Compute reaction time\n",
    "\n",
    "# Define the reaction time as the time when the visual stimulus appears and detected response time\n",
    "reaction_time = trials['response_times'] - trials['stimOn_times']"
   ]
  },
  {
   "cell_type": "markdown",
   "metadata": {},
   "source": [
    "4. Compute whether there are differences in reaction time depending on stimulus left vs right trial type"
   ]
  },
  {
   "cell_type": "code",
   "execution_count": 28,
   "metadata": {},
   "outputs": [
    {
     "name": "stdout",
     "output_type": "stream",
     "text": [
      "Average reaction time for left trials: 2.63 seconds\n",
      "Average reaction time for right trials: 1.06 seconds\n"
     ]
    }
   ],
   "source": [
    "# 4. Evaluate the reaction time across different trial types\n",
    "\n",
    "import numpy as np\n",
    "# Compute reaction time for left vs right trials\n",
    "left_trial_idx = ~np.isnan(trials['contrastLeft'])\n",
    "right_trial_idx = ~np.isnan(trials['contrastRight'])\n",
    "\n",
    "left_reaction_time = np.nanmean(reaction_time[left_trial_idx])\n",
    "right_reaction_time = np.nanmean(reaction_time[right_trial_idx])\n",
    "\n",
    "print(f'Average reaction time for left trials: {left_reaction_time:.2f} seconds')\n",
    "print(f'Average reaction time for right trials: {right_reaction_time:.2f} seconds')"
   ]
  },
  {
   "cell_type": "markdown",
   "metadata": {},
   "source": [
    "#### **<font color=skyblue>Exercise 4</font>**\n",
    "- Load in all the trials data for the session '4720c98a-a305-4fba-affb-bbfa00a724a4' and compute the difference in reaction time between correct and incorrect trials\n",
    "- Define reaction time as the difference between the firstMovement_times and the stimOn_times\n",
    "- Information about trial outcome is stored in the attribute feeedbackType\n",
    "- The feedbackType can have three values:\n",
    "    - 1 - correct response\n",
    "    - -1 - incorrect response\n",
    "    - 0 - no response"
   ]
  },
  {
   "cell_type": "code",
   "execution_count": 29,
   "metadata": {},
   "outputs": [],
   "source": [
    "# Load in the trials data using one.load_object\n",
    "eid = '4720c98a-a305-4fba-affb-bbfa00a724a4'\n",
    "trials = one.load_object(eid, 'trials')\n",
    "\n",
    "# Define the reactioin tine as the difference between firstMovement_times and stimOn_times\n",
    "reaction_time = trials['firstMovement_times'] - trials['stimOn_times']\n",
    "\n",
    "# Find the index of the correct and incorrect trials, use the column feedbackType for trial outcome\n",
    "correct_trial_idx = trials['feedbackType'] == 1\n",
    "incorrect_trial_idx = trials['feedbackType'] == -1\n",
    "\n",
    "# Compute the mean reaction time for correct and incorrect trial types\n",
    "correct_reaction_time = np.nanmean(reaction_time[correct_trial_idx])\n",
    "incorrect_reaction_time = np.nanmean(reaction_time[incorrect_trial_idx])"
   ]
  },
  {
   "cell_type": "markdown",
   "metadata": {},
   "source": [
    "Example\n",
    "1. Load in spike sorting data for a single insertion"
   ]
  },
  {
   "cell_type": "code",
   "execution_count": 30,
   "metadata": {},
   "outputs": [
    {
     "name": "stderr",
     "output_type": "stream",
     "text": [
      "c:\\Users\\stell\\anaconda3\\envs\\ibl\\lib\\site-packages\\one\\util.py:543: ALFWarning: Multiple revisions: \"\", \"2024-05-06\"\n",
      "  warnings.warn(f'Multiple revisions: {rev_list}', alferr.ALFWarning)\n",
      "c:\\Users\\stell\\anaconda3\\envs\\ibl\\lib\\site-packages\\one\\util.py:543: ALFWarning: Multiple revisions: \"\", \"2024-05-06\"\n",
      "  warnings.warn(f'Multiple revisions: {rev_list}', alferr.ALFWarning)\n"
     ]
    }
   ],
   "source": [
    "# 1. load in spikesorting data\n",
    "from brainbox.io.one import SpikeSortingLoader\n",
    "# import ONE and instantiate\n",
    "from one.api import ONE\n",
    "one = ONE()\n",
    "# define pid\n",
    "pid = '695476f6-4c14-4a2f-b658-948514629079'\n",
    "# Instantiate with a pid\n",
    "spike_loader = SpikeSortingLoader(pid=pid, one=one)\n",
    "\n",
    "# Download and load data\n",
    "spikes, clusters, channels = spike_loader.load_spike_sorting()\n",
    "\n",
    "# Assign brain location information from channels to clusters\n",
    "clusters = spike_loader.merge_clusters(spikes, clusters, channels)"
   ]
  },
  {
   "cell_type": "markdown",
   "metadata": {},
   "source": [
    "2. Explore the clusters and spikes objects"
   ]
  },
  {
   "cell_type": "code",
   "execution_count": 31,
   "metadata": {},
   "outputs": [
    {
     "name": "stdout",
     "output_type": "stream",
     "text": [
      "Clusters object has attributes: dict_keys(['channels', 'depths', 'uuids', 'cluster_id', 'amp_max', 'amp_min', 'amp_median', 'amp_std_dB', 'contamination', 'contamination_alt', 'drift', 'missed_spikes_est', 'noise_cutoff', 'presence_ratio', 'presence_ratio_std', 'slidingRP_viol', 'spike_count', 'firing_rate', 'label', 'x', 'y', 'z', 'acronym', 'atlas_id', 'axial_um', 'lateral_um', 'labels', 'rawInd'])\n",
      "\n",
      " in No. of clusters: 383\n",
      "\n",
      " Spikes object has attributes: dict_keys(['amps', 'clusters', 'depths', 'times'])\n",
      "\n",
      " No. of spikes: 11489983\n",
      "\n",
      " Times for first 10 spikes:\n",
      " [0.01241813 0.01321812 0.01735141 0.01831807 0.0190514  0.01928473\n",
      " 0.01988472 0.02001805 0.02021805 0.02095138]\n",
      "\n",
      " Clusters for first 10 spikes:\n",
      " [129  28 267 263  97  28 284 211 129 259]\n"
     ]
    }
   ],
   "source": [
    "# 2. Explore the clusters and spikes objects\n",
    "import numpy as np\n",
    "\n",
    "\n",
    "# Find the keys in the clusters object\n",
    "keys = clusters.keys()\n",
    "print(f'Clusters object has attributes: {keys}')\n",
    "\n",
    "# Find the number of clusters detected\n",
    "n_clusters = clusters['channels'].size\n",
    "print(f'\\n in No. of clusters: {n_clusters}')\n",
    "\n",
    "\n",
    "# Find the keys in the spikes object\n",
    "keys = spikes.keys()\n",
    "print(f'\\n Spikes object has attributes: {keys}')\n",
    "\n",
    "# Find the number of detected spikes\n",
    "n_spikes = spikes['times'].size\n",
    "print(f'\\n No. of spikes: {n_spikes}')\n",
    "\n",
    "\n",
    "# Display the spike times and spike clusters for the first 10 spikes\n",
    "print(f'\\n Times for first 10 spikes:\\n {spikes[\"times\"][:10]}')\n",
    "print(f'\\n Clusters for first 10 spikes:\\n {spikes[\"clusters\"][:10]}')"
   ]
  },
  {
   "cell_type": "markdown",
   "metadata": {},
   "source": [
    "3. Get spikes for chosen cluster"
   ]
  },
  {
   "cell_type": "code",
   "execution_count": 32,
   "metadata": {},
   "outputs": [
    {
     "name": "stdout",
     "output_type": "stream",
     "text": [
      "Brain region of cluster 174 is VPL\n"
     ]
    }
   ],
   "source": [
    "# 3. Get spikes for a single cluster\n",
    "import numpy as np\n",
    "# Get the 25ht good cluster\n",
    "cluster_id = np.where(clusters['label'] == 1)[0][25]\n",
    "\n",
    "# Get the index of the spikes object for the chosen cluster\n",
    "spikes_idx = spikes['clusters'] == cluster_id\n",
    "\n",
    "# Get the brain region of the chosen clutser\n",
    "brain_region = clusters['acronym'][cluster_id]\n",
    "print(f'Brain region of cluster {cluster_id} is {brain_region}')"
   ]
  },
  {
   "cell_type": "markdown",
   "metadata": {},
   "source": [
    "4. Load in trials data for associated session"
   ]
  },
  {
   "cell_type": "code",
   "execution_count": 33,
   "metadata": {},
   "outputs": [],
   "source": [
    "# 4. Load in trials for the associated session\n",
    "# Convert pid to eid\n",
    "eid, pname = one.pid2eid(pid)\n",
    "# Load in the trials\n",
    "trials = one.load_object(eid, 'trials')"
   ]
  },
  {
   "cell_type": "markdown",
   "metadata": {},
   "source": [
    "5. Compute and plot firing rate of cluster around trial event"
   ]
  },
  {
   "cell_type": "code",
   "execution_count": 34,
   "metadata": {},
   "outputs": [
    {
     "name": "stdout",
     "output_type": "stream",
     "text": [
      "Spike raster has shape (529, 30)\n"
     ]
    }
   ],
   "source": [
    "# 5. Coumpute firing rate of cluster around trial event and plot as a raster\n",
    "# find times when the stimulus appears\n",
    "events = np.array(sl.trials['stimOn_times'])\n",
    "\n",
    "from brainbox.singlecell import bin_spikes\n",
    "# Compute number of spikes in 0.05s bins between 0.5s before stimulus presentation to 1s after stimulus presentation\n",
    "bin_size = 0.05\n",
    "pre_time = 0.5\n",
    "post_time = 1\n",
    "spike_raster, times = bin_spikes(spikes.times[spikes_idx], events, pre_time=pre_time, post_time=post_time, bin_size=bin_size)\n",
    "spike_raster = spike_raster / bin_size\n",
    "print(f'Spike raster has shape {spike_raster.shape}')"
   ]
  },
  {
   "cell_type": "code",
   "execution_count": 35,
   "metadata": {},
   "outputs": [
    {
     "data": {
      "text/plain": [
       "Text(0, 0.5, 'Trial number')"
      ]
     },
     "execution_count": 35,
     "metadata": {},
     "output_type": "execute_result"
    },
    {
     "data": {
      "image/png": "[encoded data removed]",
      "text/plain": [
       "<Figure size 640x480 with 1 Axes>"
      ]
     },
     "metadata": {},
     "output_type": "display_data"
    }
   ],
   "source": [
    "import matplotlib.pyplot as plt\n",
    "fig, ax = plt.subplots()\n",
    "ax.imshow(spike_raster, extent=[times[0], times[-1], 0, events.size], \n",
    "          origin='lower', cmap='binary', aspect='auto', vmax=20, vmin=0)\n",
    "ax.axvline(0, c='k', linestyle='--')\n",
    "ax.set_xlabel('Time from stimulus (s)')\n",
    "ax.set_ylabel('Trial number')"
   ]
  },
  {
   "cell_type": "markdown",
   "metadata": {},
   "source": [
    "#### **<font color=skyblue>Exercise 5</font>**\n",
    "- Find all the probe insertions that crosses the region \"SCig\", and select the first one available.\n",
    "- Load in the spike sorting data for this probe insertion.\n",
    "- Find the clusters in \"SCig\" that are good, i.e. with label=1. How many are there?\n",
    "- For the first good cluster in SCig, compute the mean firing rate between the first and last spike times."
   ]
  },
  {
   "cell_type": "code",
   "execution_count": 36,
   "metadata": {},
   "outputs": [
    {
     "name": "stdout",
     "output_type": "stream",
     "text": [
      "There are 69 insertions in SCig\n"
     ]
    },
    {
     "name": "stderr",
     "output_type": "stream",
     "text": [
      "c:\\Users\\stell\\anaconda3\\envs\\ibl\\lib\\site-packages\\one\\util.py:543: ALFWarning: Multiple revisions: \"\", \"2024-05-06\"\n",
      "  warnings.warn(f'Multiple revisions: {rev_list}', alferr.ALFWarning)\n",
      "c:\\Users\\stell\\anaconda3\\envs\\ibl\\lib\\site-packages\\one\\util.py:543: ALFWarning: Multiple revisions: \"\", \"2024-05-06\"\n",
      "  warnings.warn(f'Multiple revisions: {rev_list}', alferr.ALFWarning)\n"
     ]
    },
    {
     "name": "stdout",
     "output_type": "stream",
     "text": [
      "There are 17 good clusters iin SCig for PID 9b5fec96-9f19-4ddf-ba1c-3175e15245e9\n",
      "Mean firing rate for cluster 565: 1.27 Hz\n"
     ]
    }
   ],
   "source": [
    "from brainbox.io.one import SpikeSortingLoader\n",
    "from one.api import ONE\n",
    "import numpy as np\n",
    "\n",
    "one = ONE()\n",
    "\n",
    "# Define the brain region of interest\n",
    "brain_acronym = 'SCig'\n",
    "\n",
    "# Find the insertions that are in the brain region of interest\n",
    "insertions = one.search_insertions(atlas_acronym=brain_acronym)\n",
    "\n",
    "# Count how many insertons there are\n",
    "print(f'There are {len(insertions)} insertions in {brain_acronym}')\n",
    "\n",
    "# Take the first insertion available as pid\n",
    "pid = insertions[0]\n",
    "\n",
    "# Use the SpikesortingLoader to load in the spike sorting data, make sure to merge the clusters\n",
    "spike_loader = SpikeSortingLoader(pid=pid, one=one)\n",
    "spikes, clusters, channels = spike_loader.load_spike_sorting()\n",
    "clusters = spike_loader.merge_clusters(spikes, clusters, channels)\n",
    "\n",
    "# Find the good clusters in the brain region of interest\n",
    "good_clu_idx = np.where((clusters['acronym'] == brain_acronym) & (clusters['label'] == 1))[0]\n",
    "print(f'There are {len(good_clu_idx)} good clusters iin {brain_acronym} for PID {pid}')\n",
    "\n",
    "# Get the cluster_id for the first good cluster\n",
    "cluster_id = good_clu_idx[0]\n",
    "\n",
    "# Get the index of the spikes object for the chosen cluster\n",
    "spikes_idx = spikes['clusters'] == cluster_id\n",
    "\n",
    "# Find the minimum and maximum spike time for this cluster\n",
    "tmin = np.min(spikes['times'][spikes_idx])\n",
    "tmax = np.max(spikes['times'][spikes_idx])\n",
    "\n",
    "# Find the number of spikes for the chosen cluster and compute the firing rate\n",
    "nspikes = np.sum(spikes_idx)\n",
    "fr = nspikes / (tmax - tmin)\n",
    "print(f'Mean firing rate for cluster {cluster_id}: {np.round(fr, 2)} Hz')"
   ]
  },
  {
   "cell_type": "markdown",
   "metadata": {},
   "source": []
  }
 ],
 "metadata": {
  "kernelspec": {
   "display_name": "ibl",
   "language": "python",
   "name": "python3"
  },
  "language_info": {
   "codemirror_mode": {
    "name": "ipython",
    "version": 3
   },
   "file_extension": ".py",
   "mimetype": "text/x-python",
   "name": "python",
   "nbconvert_exporter": "python",
   "pygments_lexer": "ipython3",
   "version": "3.10.16"
  }
 },
 "nbformat": 4,
 "nbformat_minor": 2
}
